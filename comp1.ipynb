{
 "cells": [
  {
   "cell_type": "code",
   "execution_count": 1,
   "metadata": {},
   "outputs": [
    {
     "name": "stderr",
     "output_type": "stream",
     "text": [
      "/home/stas/anaconda3/envs/comp1/lib/python3.6/site-packages/IPython/core/interactiveshell.py:3249: DtypeWarning:\n",
      "\n",
      "Columns (7) have mixed types. Specify dtype option on import or set low_memory=False.\n",
      "\n"
     ]
    }
   ],
   "source": [
    "from feat_competition_sales import *\n",
    "import seaborn as sns\n",
    "from sklearn.decomposition import PCA\n",
    "from sklearn.metrics import mean_squared_error\n",
    "from sklearn.preprocessing import LabelEncoder, OneHotEncoder\n",
    "import time\n",
    "import xgboost as xgb"
   ]
  },
  {
   "cell_type": "code",
   "execution_count": 2,
   "metadata": {},
   "outputs": [
    {
     "data": {
      "text/html": [
       "        <script type=\"text/javascript\">\n",
       "        window.PlotlyConfig = {MathJaxConfig: 'local'};\n",
       "        if (window.MathJax) {MathJax.Hub.Config({SVG: {font: \"STIX-Web\"}});}\n",
       "        if (typeof require !== 'undefined') {\n",
       "        require.undef(\"plotly\");\n",
       "        requirejs.config({\n",
       "            paths: {\n",
       "                'plotly': ['https://cdn.plot.ly/plotly-latest.min']\n",
       "            }\n",
       "        });\n",
       "        require(['plotly'], function(Plotly) {\n",
       "            window._Plotly = Plotly;\n",
       "        });\n",
       "        }\n",
       "        </script>\n",
       "        "
      ]
     },
     "metadata": {},
     "output_type": "display_data"
    }
   ],
   "source": [
    "# Tell plotly to plot in a notebook\n",
    "offline.init_notebook_mode(connected=True)"
   ]
  },
  {
   "cell_type": "markdown",
   "metadata": {},
   "source": [
    "### Load and plot data"
   ]
  },
  {
   "cell_type": "code",
   "execution_count": 3,
   "metadata": {},
   "outputs": [],
   "source": [
    "# Load data\n",
    "store = pd.read_csv('data/store.csv')\n",
    "train = pd.read_csv('data/train.csv', dtype = {'StateHoliday': np.str})\n",
    "\n",
    "# Merge\n",
    "train = pd.merge(store, train, on='Store')\n",
    "train = date_convert(train)\n",
    "\n",
    "# Split\n",
    "end_val = np.floor(0.8 * train.shape[0]).astype(int)\n",
    "end_test = np.floor(0.9 * train.shape[0]).astype(int)\n",
    "\n",
    "Train = train.loc[:end_val]\n",
    "Val = train.loc[end_val:end_test]\n",
    "Test = train.loc[end_test:]"
   ]
  },
  {
   "cell_type": "code",
   "execution_count": 4,
   "metadata": {},
   "outputs": [],
   "source": [
    "#plot_hists(store, name='store')"
   ]
  },
  {
   "cell_type": "code",
   "execution_count": 5,
   "metadata": {},
   "outputs": [],
   "source": [
    "#plot_hists(train, name='train')"
   ]
  },
  {
   "cell_type": "markdown",
   "metadata": {},
   "source": [
    "### Feature engineering "
   ]
  },
  {
   "cell_type": "code",
   "execution_count": null,
   "metadata": {},
   "outputs": [],
   "source": [
    "# Clean data, construct new features for xgboost\n",
    "Train = data_transformation(Train)\n",
    "Val = data_transformation(Val)\n",
    "Test = data_transformation(Test)"
   ]
  },
  {
   "cell_type": "code",
   "execution_count": 40,
   "metadata": {},
   "outputs": [],
   "source": [
    "# OHE\n",
    "cols = Train.select_dtypes(include='object').columns.tolist()\n",
    "\n",
    "for col in cols:\n",
    "    Train[col] = Train[col].astype(str)\n",
    "    Val[col] = Val[col].astype(str)\n",
    "    Test[col] = Test[col].astype(str)\n",
    "\n",
    "ohe = OneHotEncoder(handle_unknown='ignore')\n",
    "ohe_train = pd.DataFrame()\n",
    "ohe_val = pd.DataFrame()\n",
    "ohe_test = pd.DataFrame()\n",
    "\n",
    "\n",
    "for col in cols:\n",
    "    ohe.fit(np.array(Train[col]).reshape(-1,1))\n",
    "    ohe_train_tmp = pd.DataFrame(columns=ohe.categories_, \\\n",
    "                                 data=ohe.transform(np.array(Train[col]).reshape(-1,1)).toarray())\n",
    "    ohe_val_tmp = pd.DataFrame(columns=ohe.categories_, \\\n",
    "                                 data=ohe.transform(np.array(Val[col]).reshape(-1,1)).toarray()) \n",
    "    ohe_test_tmp = pd.DataFrame(columns=ohe.categories_, \\\n",
    "                                 data=ohe.transform(np.array(Test[col]).reshape(-1,1)).toarray()) \n",
    "    ohe_train = pd.concat([ohe_train, ohe_train_tmp], axis=1)\n",
    "    ohe_val = pd.concat([ohe_val, ohe_val_tmp], axis=1)\n",
    "    ohe_test = pd.concat([ohe_test, ohe_test_tmp], axis=1)"
   ]
  },
  {
   "cell_type": "code",
   "execution_count": 10,
   "metadata": {},
   "outputs": [],
   "source": [
    "# Drop columns\n",
    "Train.drop(axis=1, labels=cols, inplace=True)\n",
    "Val.drop(axis=1, labels=cols, inplace=True)\n",
    "Test.drop(axis=1, labels=cols, inplace=True)"
   ]
  },
  {
   "cell_type": "code",
   "execution_count": 41,
   "metadata": {},
   "outputs": [],
   "source": [
    "# Concat\n",
    "Train = pd.concat([Train.reset_index(), ohe_train], axis=1)\n",
    "Val = pd.concat([Val.reset_index(), ohe_val], axis=1)\n",
    "Test = pd.concat([Test.reset_index(), ohe_test], axis=1)"
   ]
  },
  {
   "cell_type": "code",
   "execution_count": 12,
   "metadata": {},
   "outputs": [],
   "source": [
    "# Write data to csv to reuse it fast\n",
    "#Train.to_csv('data/Train.csv', index=False)\n",
    "#Test.to_csv('data/Test.csv', index=False)\n",
    "#Val.to_csv('data/Val.csv', index=False)"
   ]
  },
  {
   "cell_type": "code",
   "execution_count": 28,
   "metadata": {},
   "outputs": [],
   "source": [
    "Train = pd.read_csv('data/Train.csv')\n",
    "Val = pd.read_csv('data/Val.csv')\n",
    "Test = pd.read_csv('data/Test.csv')"
   ]
  },
  {
   "cell_type": "code",
   "execution_count": 30,
   "metadata": {},
   "outputs": [],
   "source": [
    "# Create X_train, y_train and so on\n",
    "# XGB\n",
    "X_train = Train.drop(axis=1, labels='Sales')\n",
    "X_train = X_train\n",
    "y_train = Train['Sales']\n",
    "X_val = Val.drop(axis=1, labels='Sales')\n",
    "y_val = Val['Sales']\n",
    "X_test = Test.drop(axis=1, labels='Sales')\n",
    "y_test = Test['Sales']"
   ]
  },
  {
   "cell_type": "markdown",
   "metadata": {},
   "source": [
    "### Training"
   ]
  },
  {
   "cell_type": "code",
   "execution_count": 26,
   "metadata": {},
   "outputs": [],
   "source": [
    "def parameter_search(X, y, method, params, steps=None):\n",
    "    valid = {'elastic', 'rf', 'xgboost', 'stack'}\n",
    "    if method not in valid:\n",
    "        raise ValueError(\"Method must be one of %r.\" % valid)\n",
    "        \n",
    "    if method == 'elastic':\n",
    "        if not type(params) == dict:\n",
    "            raise ValueError('params is not a dictionary, please support a dictionary of parameters')\n",
    "        else:\n",
    "            score = []\n",
    "            end = np.floor(0.8 * X.shape[0]).astype(int)\n",
    "            X_train = np.array(X)[:end]\n",
    "            y_train = np.array(y)[:end]\n",
    "            X_cv = np.array(X)[end:]\n",
    "            y_cv = np.array(y)[end:]\n",
    "\n",
    "        # Grid search for elastic net\n",
    "        for ratio in params['ratio']:\n",
    "            for alpha in params['alpha']:\n",
    "                print(ratio, alpha)\n",
    "                elastic = ElasticNet(alpha=alpha, l1_ratio=ratio)\n",
    "                elastic.fit(X_train, y_train)\n",
    "                preds = elastic.predict(X_cv)                                       \n",
    "                score.append((alpha, ratio, np.sqrt(mean_squared_error(y_cv, preds))))\n",
    "\n",
    "                with open('el_net_params.txt', 'w') as f:\n",
    "                    f.write(str(score))                    \n",
    "\n",
    "        # Get best score\n",
    "        best_params = min(score, key=itemgetter(2))[0:2]\n",
    "        \n",
    "    elif method == 'rf':\n",
    "        if not type(params) == dict:\n",
    "            raise ValueError('params is not a dictionary, please support a dictionary of parameters')\n",
    "        else:            \n",
    "            score = []\n",
    "            end = np.floor(0.8 * X.shape[0]).astype(int)\n",
    "            X_train = np.array(X)[:end]\n",
    "            y_train = np.array(y)[:end]\n",
    "            X_cv = np.array(X)[end:]\n",
    "            y_cv = np.array(y)[end:]\n",
    "\n",
    "            # Random search for RF\n",
    "            for step in tqdm(range(steps)):\n",
    "                n_estimators = np.random.randint(params['n_estimators'][0], params['n_estimators'][1])\n",
    "                max_depth = np.random.choice(params['max_depth'])\n",
    "                max_features = np.random.choice(params['max_features'])\n",
    "                print((n_estimators, max_depth, max_features))\n",
    "\n",
    "                rf = RandomForestRegressor(n_estimators=n_estimators,\n",
    "                                                max_depth=max_depth,\n",
    "                                                max_features=max_features)\n",
    "                rf.fit(X_train, y_train)\n",
    "                preds = rf.predict(X_cv)                                       \n",
    "                score.append((n_estimators, max_depth, max_features, np.sqrt(mean_squared_error(y_cv, preds))))\n",
    "                \n",
    "                with open('rf_params.txt', 'w') as f:\n",
    "                    f.write(str(score))\n",
    "\n",
    "            # Get best score\n",
    "            best_params = min(score, key=itemgetter(3))[0:3]\n",
    "            \n",
    "    elif method == 'xgboost':\n",
    "        if not type(params) == dict:\n",
    "            raise ValueError('params is not a dictionary, please support a dictionary of parameters')\n",
    "        else:\n",
    "            score = []\n",
    "            end = np.floor(0.8 * X.shape[0]).astype(int)\n",
    "            X_train = np.array(X)[:end]\n",
    "            y_train = np.array(y)[:end]\n",
    "            X_cv = np.array(X)[end:]\n",
    "            y_cv = np.array(y)[end:]\n",
    "\n",
    "            fit_params = {\n",
    "                'eval_metric': 'rmse',\n",
    "                'early_stopping_rounds': 10,    \n",
    "                'eval_set': [(X_cv, y_cv)]\n",
    "            }\n",
    "            # Random search for xgboost\n",
    "            for step in tqdm(range(steps)):\n",
    "                n_estimators = int(np.floor(np.random.uniform(params['n_estimators'][0], params['n_estimators'][1])))\n",
    "                max_depth = np.random.choice(params['max_depth'])\n",
    "                lr = np.random.choice(params['learning_rate'])\n",
    "                subsample = np.random.choice(params['subsample'])\n",
    "                colsample_bytree = np.random.choice(params['colsample_bytree'])\n",
    "                colsample_bylevel = np.random.choice(params['colsample_bylevel'])\n",
    "                reg_lambda = np.random.choice(params['reg_lambda'])\n",
    "                \n",
    "                print((lr, n_estimators, max_depth, subsample, colsample_bytree, colsample_bylevel, reg_lambda))\n",
    "                # Train & predict\n",
    "                xgb_model = xgb.XGBRegressor(learning_rate=lr, \n",
    "                                             n_estimators=n_estimators,\n",
    "                                             max_depth=max_depth,\n",
    "                                             subsample=subsample,\n",
    "                                             colsample_bytree=colsample_bytree,\n",
    "                                             colsample_bylevel=colsample_bylevel,\n",
    "                                             objective='reg:squarederror')\n",
    "\n",
    "                xgb_model.fit(X_train, y_train, eval_metric=fit_params['eval_metric'],\n",
    "                              early_stopping_rounds=fit_params['early_stopping_rounds'], \n",
    "                              eval_set=fit_params['eval_set'], \n",
    "                              verbose=False)\n",
    "                \n",
    "                preds = xgb_model.predict(X_cv)                                       \n",
    "                score.append((lr, n_estimators, max_depth, subsample, colsample_bytree, colsample_bylevel, reg_lambda, \\\n",
    "                              np.sqrt(mean_squared_error(y_cv, preds))))\n",
    "                with open('xgb_params.txt', 'w') as f:\n",
    "                    f.write(str(score))\n",
    "\n",
    "            # Get best score\n",
    "            best_params = min(score, key=itemgetter(7))[0:7]\n",
    "            \n",
    "    elif method == 'stack':\n",
    "        pass\n",
    "    \n",
    "    return best_params"
   ]
  },
  {
   "cell_type": "code",
   "execution_count": 153,
   "metadata": {},
   "outputs": [
    {
     "name": "stderr",
     "output_type": "stream",
     "text": [
      "\n",
      "\n",
      "\n",
      "\n",
      "\n",
      "\n",
      "\n",
      "\n",
      "\n",
      "\n",
      "\n",
      "\n",
      "  0%|          | 0/25 [00:00<?, ?it/s]\u001b[A\u001b[A\u001b[A\u001b[A\u001b[A\u001b[A\u001b[A\u001b[A\u001b[A\u001b[A\u001b[A\u001b[A"
     ]
    },
    {
     "name": "stdout",
     "output_type": "stream",
     "text": [
      "(0.05, 8313, 4, 0.9, 0.3, 0.8, 4.0)\n"
     ]
    },
    {
     "name": "stderr",
     "output_type": "stream",
     "text": [
      "\n",
      "\n",
      "\n",
      "\n",
      "\n",
      "\n",
      "\n",
      "\n",
      "\n",
      "\n",
      "\n",
      "\n",
      "  4%|▍         | 1/25 [00:13<05:35, 13.96s/it]\u001b[A\u001b[A\u001b[A\u001b[A\u001b[A\u001b[A\u001b[A\u001b[A\u001b[A\u001b[A\u001b[A\u001b[A"
     ]
    },
    {
     "name": "stdout",
     "output_type": "stream",
     "text": [
      "(0.05, 7034, 6, 0.8, 0.3, 0.8, 4.0)\n"
     ]
    },
    {
     "name": "stderr",
     "output_type": "stream",
     "text": [
      "\n",
      "\n",
      "\n",
      "\n",
      "\n",
      "\n",
      "\n",
      "\n",
      "\n",
      "\n",
      "\n",
      "\n",
      "  8%|▊         | 2/25 [00:32<05:53, 15.35s/it]\u001b[A\u001b[A\u001b[A\u001b[A\u001b[A\u001b[A\u001b[A\u001b[A\u001b[A\u001b[A\u001b[A\u001b[A"
     ]
    },
    {
     "name": "stdout",
     "output_type": "stream",
     "text": [
      "(0.05, 8037, 3, 0.9, 0.3, 0.7, 1.0)\n"
     ]
    },
    {
     "name": "stderr",
     "output_type": "stream",
     "text": [
      "\n",
      "\n",
      "\n",
      "\n",
      "\n",
      "\n",
      "\n",
      "\n",
      "\n",
      "\n",
      "\n",
      "\n",
      " 12%|█▏        | 3/25 [00:43<05:09, 14.08s/it]\u001b[A\u001b[A\u001b[A\u001b[A\u001b[A\u001b[A\u001b[A\u001b[A\u001b[A\u001b[A\u001b[A\u001b[A"
     ]
    },
    {
     "name": "stdout",
     "output_type": "stream",
     "text": [
      "(0.001, 5524, 7, 0.8, 0.3, 0.3, 3.0)\n"
     ]
    },
    {
     "name": "stderr",
     "output_type": "stream",
     "text": [
      "\n",
      "\n",
      "\n",
      "\n",
      "\n",
      "\n",
      "\n",
      "\n",
      "\n",
      "\n",
      "\n",
      "\n",
      " 16%|█▌        | 4/25 [02:40<15:40, 44.80s/it]\u001b[A\u001b[A\u001b[A\u001b[A\u001b[A\u001b[A\u001b[A\u001b[A\u001b[A\u001b[A\u001b[A\u001b[A"
     ]
    },
    {
     "name": "stdout",
     "output_type": "stream",
     "text": [
      "(0.0005, 2952, 4, 0.8, 0.7, 0.8, 4.0)\n"
     ]
    },
    {
     "name": "stderr",
     "output_type": "stream",
     "text": [
      "\n",
      "\n",
      "\n",
      "\n",
      "\n",
      "\n",
      "\n",
      "\n",
      "\n",
      "\n",
      "\n",
      "\n",
      " 20%|██        | 5/25 [04:20<20:29, 61.45s/it]\u001b[A\u001b[A\u001b[A\u001b[A\u001b[A\u001b[A\u001b[A\u001b[A\u001b[A\u001b[A\u001b[A\u001b[A"
     ]
    },
    {
     "name": "stdout",
     "output_type": "stream",
     "text": [
      "(0.1, 4606, 5, 1.0, 0.3, 0.6, 1.0)\n"
     ]
    },
    {
     "name": "stderr",
     "output_type": "stream",
     "text": [
      "\n",
      "\n",
      "\n",
      "\n",
      "\n",
      "\n",
      "\n",
      "\n",
      "\n",
      "\n",
      "\n",
      "\n",
      " 24%|██▍       | 6/25 [04:25<14:05, 44.49s/it]\u001b[A\u001b[A\u001b[A\u001b[A\u001b[A\u001b[A\u001b[A\u001b[A\u001b[A\u001b[A\u001b[A\u001b[A"
     ]
    },
    {
     "name": "stdout",
     "output_type": "stream",
     "text": [
      "(0.001, 5180, 3, 0.8, 0.4, 0.8, 4.0)\n"
     ]
    },
    {
     "name": "stderr",
     "output_type": "stream",
     "text": [
      "\n",
      "\n",
      "\n",
      "\n",
      "\n",
      "\n",
      "\n",
      "\n",
      "\n",
      "\n",
      "\n",
      "\n",
      " 28%|██▊       | 7/25 [06:22<19:54, 66.36s/it]\u001b[A\u001b[A\u001b[A\u001b[A\u001b[A\u001b[A\u001b[A\u001b[A\u001b[A\u001b[A\u001b[A\u001b[A"
     ]
    },
    {
     "name": "stdout",
     "output_type": "stream",
     "text": [
      "(0.1, 9988, 5, 0.9, 0.6, 0.5, 0.5)\n"
     ]
    },
    {
     "name": "stderr",
     "output_type": "stream",
     "text": [
      "\n",
      "\n",
      "\n",
      "\n",
      "\n",
      "\n",
      "\n",
      "\n",
      "\n",
      "\n",
      "\n",
      "\n",
      " 32%|███▏      | 8/25 [06:39<14:37, 51.61s/it]\u001b[A\u001b[A\u001b[A\u001b[A\u001b[A\u001b[A\u001b[A\u001b[A\u001b[A\u001b[A\u001b[A\u001b[A"
     ]
    },
    {
     "name": "stdout",
     "output_type": "stream",
     "text": [
      "(0.05, 8997, 4, 0.8, 0.8, 0.6, 1.0)\n"
     ]
    },
    {
     "name": "stderr",
     "output_type": "stream",
     "text": [
      "\n",
      "\n",
      "\n",
      "\n",
      "\n",
      "\n",
      "\n",
      "\n",
      "\n",
      "\n",
      "\n",
      "\n",
      " 36%|███▌      | 9/25 [07:06<11:43, 43.98s/it]\u001b[A\u001b[A\u001b[A\u001b[A\u001b[A\u001b[A\u001b[A\u001b[A\u001b[A\u001b[A\u001b[A\u001b[A"
     ]
    },
    {
     "name": "stdout",
     "output_type": "stream",
     "text": [
      "(0.1, 8210, 4, 0.9, 0.3, 0.5, 0.1)\n"
     ]
    },
    {
     "name": "stderr",
     "output_type": "stream",
     "text": [
      "\n",
      "\n",
      "\n",
      "\n",
      "\n",
      "\n",
      "\n",
      "\n",
      "\n",
      "\n",
      "\n",
      "\n",
      " 40%|████      | 10/25 [07:18<08:35, 34.37s/it]\u001b[A\u001b[A\u001b[A\u001b[A\u001b[A\u001b[A\u001b[A\u001b[A\u001b[A\u001b[A\u001b[A\u001b[A"
     ]
    },
    {
     "name": "stdout",
     "output_type": "stream",
     "text": [
      "(0.0005, 1262, 5, 0.9, 0.6, 0.7, 2.0)\n"
     ]
    },
    {
     "name": "stderr",
     "output_type": "stream",
     "text": [
      "\n",
      "\n",
      "\n",
      "\n",
      "\n",
      "\n",
      "\n",
      "\n",
      "\n",
      "\n",
      "\n",
      "\n",
      " 44%|████▍     | 11/25 [08:01<08:37, 36.98s/it]\u001b[A\u001b[A\u001b[A\u001b[A\u001b[A\u001b[A\u001b[A\u001b[A\u001b[A\u001b[A\u001b[A\u001b[A"
     ]
    },
    {
     "name": "stdout",
     "output_type": "stream",
     "text": [
      "(0.0005, 9459, 7, 1.0, 0.8, 0.8, 0.5)\n"
     ]
    },
    {
     "name": "stderr",
     "output_type": "stream",
     "text": [
      "\n",
      "\n",
      "\n",
      "\n",
      "\n",
      "\n",
      "\n",
      "\n",
      "\n",
      "\n",
      "\n",
      "\n",
      " 48%|████▊     | 12/25 [18:07<45:01, 207.79s/it]\u001b[A\u001b[A\u001b[A\u001b[A\u001b[A\u001b[A\u001b[A\u001b[A\u001b[A\u001b[A\u001b[A\u001b[A"
     ]
    },
    {
     "name": "stdout",
     "output_type": "stream",
     "text": [
      "(0.1, 4421, 5, 0.8, 0.4, 0.5, 5.0)\n"
     ]
    },
    {
     "name": "stderr",
     "output_type": "stream",
     "text": [
      "\n",
      "\n",
      "\n",
      "\n",
      "\n",
      "\n",
      "\n",
      "\n",
      "\n",
      "\n",
      "\n",
      "\n",
      " 52%|█████▏    | 13/25 [18:13<29:28, 147.34s/it]\u001b[A\u001b[A\u001b[A\u001b[A\u001b[A\u001b[A\u001b[A\u001b[A\u001b[A\u001b[A\u001b[A\u001b[A"
     ]
    },
    {
     "name": "stdout",
     "output_type": "stream",
     "text": [
      "(0.0005, 1342, 4, 1.0, 0.6, 0.8, 5.0)\n"
     ]
    },
    {
     "name": "stderr",
     "output_type": "stream",
     "text": [
      "\n",
      "\n",
      "\n",
      "\n",
      "\n",
      "\n",
      "\n",
      "\n",
      "\n",
      "\n",
      "\n",
      "\n",
      " 56%|█████▌    | 14/25 [18:52<21:01, 114.72s/it]\u001b[A\u001b[A\u001b[A\u001b[A\u001b[A\u001b[A\u001b[A\u001b[A\u001b[A\u001b[A\u001b[A\u001b[A"
     ]
    },
    {
     "name": "stdout",
     "output_type": "stream",
     "text": [
      "(0.1, 1767, 7, 0.8, 0.7, 0.6, 1.0)\n"
     ]
    },
    {
     "name": "stderr",
     "output_type": "stream",
     "text": [
      "\n",
      "\n",
      "\n",
      "\n",
      "\n",
      "\n",
      "\n",
      "\n",
      "\n",
      "\n",
      "\n",
      "\n",
      " 60%|██████    | 15/25 [19:09<14:14, 85.41s/it] \u001b[A\u001b[A\u001b[A\u001b[A\u001b[A\u001b[A\u001b[A\u001b[A\u001b[A\u001b[A\u001b[A\u001b[A"
     ]
    },
    {
     "name": "stdout",
     "output_type": "stream",
     "text": [
      "(0.05, 7530, 4, 0.9, 0.7, 0.5, 2.0)\n"
     ]
    },
    {
     "name": "stderr",
     "output_type": "stream",
     "text": [
      "\n",
      "\n",
      "\n",
      "\n",
      "\n",
      "\n",
      "\n",
      "\n",
      "\n",
      "\n",
      "\n",
      "\n",
      " 64%|██████▍   | 16/25 [19:32<10:00, 66.75s/it]\u001b[A\u001b[A\u001b[A\u001b[A\u001b[A\u001b[A\u001b[A\u001b[A\u001b[A\u001b[A\u001b[A\u001b[A"
     ]
    },
    {
     "name": "stdout",
     "output_type": "stream",
     "text": [
      "(0.05, 9615, 6, 0.9, 0.6, 0.7, 0.5)\n"
     ]
    },
    {
     "name": "stderr",
     "output_type": "stream",
     "text": [
      "\n",
      "\n",
      "\n",
      "\n",
      "\n",
      "\n",
      "\n",
      "\n",
      "\n",
      "\n",
      "\n",
      "\n",
      " 68%|██████▊   | 17/25 [20:01<07:23, 55.38s/it]\u001b[A\u001b[A\u001b[A\u001b[A\u001b[A\u001b[A\u001b[A\u001b[A\u001b[A\u001b[A\u001b[A\u001b[A"
     ]
    },
    {
     "name": "stdout",
     "output_type": "stream",
     "text": [
      "(0.1, 5074, 6, 1.0, 0.3, 0.8, 1.0)\n"
     ]
    },
    {
     "name": "stderr",
     "output_type": "stream",
     "text": [
      "\n",
      "\n",
      "\n",
      "\n",
      "\n",
      "\n",
      "\n",
      "\n",
      "\n",
      "\n",
      "\n",
      "\n",
      " 72%|███████▏  | 18/25 [20:08<04:45, 40.82s/it]\u001b[A\u001b[A\u001b[A\u001b[A\u001b[A\u001b[A\u001b[A\u001b[A\u001b[A\u001b[A\u001b[A\u001b[A"
     ]
    },
    {
     "name": "stdout",
     "output_type": "stream",
     "text": [
      "(0.05, 9561, 3, 1.0, 0.6, 0.8, 4.0)\n"
     ]
    },
    {
     "name": "stderr",
     "output_type": "stream",
     "text": [
      "\n",
      "\n",
      "\n",
      "\n",
      "\n",
      "\n",
      "\n",
      "\n",
      "\n",
      "\n",
      "\n",
      "\n",
      " 76%|███████▌  | 19/25 [20:24<03:19, 33.30s/it]\u001b[A\u001b[A\u001b[A\u001b[A\u001b[A\u001b[A\u001b[A\u001b[A\u001b[A\u001b[A\u001b[A\u001b[A"
     ]
    },
    {
     "name": "stdout",
     "output_type": "stream",
     "text": [
      "(0.0005, 3648, 6, 1.0, 0.4, 0.5, 2.0)\n"
     ]
    },
    {
     "name": "stderr",
     "output_type": "stream",
     "text": [
      "\n",
      "\n",
      "\n",
      "\n",
      "\n",
      "\n",
      "\n",
      "\n",
      "\n",
      "\n",
      "\n",
      "\n",
      " 80%|████████  | 20/25 [22:06<04:30, 54.14s/it]\u001b[A\u001b[A\u001b[A\u001b[A\u001b[A\u001b[A\u001b[A\u001b[A\u001b[A\u001b[A\u001b[A\u001b[A"
     ]
    },
    {
     "name": "stdout",
     "output_type": "stream",
     "text": [
      "(0.1, 8035, 5, 0.9, 0.5, 0.6, 0.1)\n"
     ]
    },
    {
     "name": "stderr",
     "output_type": "stream",
     "text": [
      "\n",
      "\n",
      "\n",
      "\n",
      "\n",
      "\n",
      "\n",
      "\n",
      "\n",
      "\n",
      "\n",
      "\n",
      " 84%|████████▍ | 21/25 [22:19<02:47, 41.84s/it]\u001b[A\u001b[A\u001b[A\u001b[A\u001b[A\u001b[A\u001b[A\u001b[A\u001b[A\u001b[A\u001b[A\u001b[A"
     ]
    },
    {
     "name": "stdout",
     "output_type": "stream",
     "text": [
      "(0.001, 5479, 6, 0.8, 0.3, 0.3, 4.0)\n"
     ]
    },
    {
     "name": "stderr",
     "output_type": "stream",
     "text": [
      "\n",
      "\n",
      "\n",
      "\n",
      "\n",
      "\n",
      "\n",
      "\n",
      "\n",
      "\n",
      "\n",
      "\n",
      " 88%|████████▊ | 22/25 [24:11<03:07, 62.66s/it]\u001b[A\u001b[A\u001b[A\u001b[A\u001b[A\u001b[A\u001b[A\u001b[A\u001b[A\u001b[A\u001b[A\u001b[A"
     ]
    },
    {
     "name": "stdout",
     "output_type": "stream",
     "text": [
      "(0.1, 2268, 6, 1.0, 0.3, 0.6, 2.0)\n"
     ]
    },
    {
     "name": "stderr",
     "output_type": "stream",
     "text": [
      "\n",
      "\n",
      "\n",
      "\n",
      "\n",
      "\n",
      "\n",
      "\n",
      "\n",
      "\n",
      "\n",
      "\n",
      " 92%|█████████▏| 23/25 [24:28<01:38, 49.05s/it]\u001b[A\u001b[A\u001b[A\u001b[A\u001b[A\u001b[A\u001b[A\u001b[A\u001b[A\u001b[A\u001b[A\u001b[A"
     ]
    },
    {
     "name": "stdout",
     "output_type": "stream",
     "text": [
      "(0.1, 8109, 5, 0.8, 0.4, 0.6, 4.0)\n"
     ]
    },
    {
     "name": "stderr",
     "output_type": "stream",
     "text": [
      "\n",
      "\n",
      "\n",
      "\n",
      "\n",
      "\n",
      "\n",
      "\n",
      "\n",
      "\n",
      "\n",
      "\n",
      " 96%|█████████▌| 24/25 [24:40<00:37, 37.99s/it]\u001b[A\u001b[A\u001b[A\u001b[A\u001b[A\u001b[A\u001b[A\u001b[A\u001b[A\u001b[A\u001b[A\u001b[A"
     ]
    },
    {
     "name": "stdout",
     "output_type": "stream",
     "text": [
      "(0.05, 5620, 6, 0.8, 0.3, 0.8, 0.5)\n"
     ]
    },
    {
     "name": "stderr",
     "output_type": "stream",
     "text": [
      "\n",
      "\n",
      "\n",
      "\n",
      "\n",
      "\n",
      "\n",
      "\n",
      "\n",
      "\n",
      "\n",
      "\n",
      "100%|██████████| 25/25 [24:59<00:00, 59.97s/it]\u001b[A\u001b[A\u001b[A\u001b[A\u001b[A\u001b[A\u001b[A\u001b[A\u001b[A\u001b[A\u001b[A\u001b[A\n"
     ]
    }
   ],
   "source": [
    "# XGBoost\n",
    "params = {\n",
    "        'max_depth': [3, 4, 5, 6, 7],\n",
    "        'learning_rate': [0.0005, 0.001, 0.05, 0.1],\n",
    "        'subsample': [0.8, 0.9, 1.0],\n",
    "        'colsample_bytree': [0.3, 0.4, 0.5, 0.6, 0.7, 0.8],\n",
    "        'colsample_bylevel': [0.3, 0.5, 0.6, 0.7, 0.8],\n",
    "        'reg_lambda' : [0.1, 0.5, 1.0, 2, 3, 4, 5],\n",
    "        'n_estimators': [1000, 10000]\n",
    "}\n",
    "\n",
    "ind = np.random.randint(0, X_train.shape[0], size=50000)\n",
    "xgb_params = parameter_search(X_train.iloc[ind], y_train.iloc[ind], method='xgboost', params=params, steps=25)"
   ]
  },
  {
   "cell_type": "code",
   "execution_count": 154,
   "metadata": {},
   "outputs": [
    {
     "name": "stderr",
     "output_type": "stream",
     "text": [
      "\n",
      "\n",
      "\n",
      "\n",
      "\n",
      "\n",
      "\n",
      "\n",
      "\n",
      "\n",
      "\n",
      "\n",
      "  0%|          | 0/25 [00:00<?, ?it/s]\u001b[A\u001b[A\u001b[A\u001b[A\u001b[A\u001b[A\u001b[A\u001b[A\u001b[A\u001b[A\u001b[A\u001b[A"
     ]
    },
    {
     "name": "stdout",
     "output_type": "stream",
     "text": [
      "(11276, 3, 0.8)\n"
     ]
    },
    {
     "name": "stderr",
     "output_type": "stream",
     "text": [
      "\n",
      "\n",
      "\n",
      "\n",
      "\n",
      "\n",
      "\n",
      "\n",
      "\n",
      "\n",
      "\n",
      "\n",
      "  4%|▍         | 1/25 [09:06<3:38:42, 546.77s/it]\u001b[A\u001b[A\u001b[A\u001b[A\u001b[A\u001b[A\u001b[A\u001b[A\u001b[A\u001b[A\u001b[A\u001b[A"
     ]
    },
    {
     "name": "stdout",
     "output_type": "stream",
     "text": [
      "(12516, 7, 0.9)\n"
     ]
    },
    {
     "name": "stderr",
     "output_type": "stream",
     "text": [
      "\n",
      "\n",
      "\n",
      "\n",
      "\n",
      "\n",
      "\n",
      "\n",
      "\n",
      "\n",
      "\n",
      "\n",
      "  8%|▊         | 2/25 [32:25<5:07:34, 802.38s/it]\u001b[A\u001b[A\u001b[A\u001b[A\u001b[A\u001b[A\u001b[A\u001b[A\u001b[A\u001b[A\u001b[A\u001b[A"
     ]
    },
    {
     "name": "stdout",
     "output_type": "stream",
     "text": [
      "(10089, 4, 0.8)\n"
     ]
    },
    {
     "name": "stderr",
     "output_type": "stream",
     "text": [
      "\n",
      "\n",
      "\n",
      "\n",
      "\n",
      "\n",
      "\n",
      "\n",
      "\n",
      "\n",
      "\n",
      "\n",
      " 12%|█▏        | 3/25 [43:03<4:36:08, 753.11s/it]\u001b[A\u001b[A\u001b[A\u001b[A\u001b[A\u001b[A\u001b[A\u001b[A\u001b[A\u001b[A\u001b[A\u001b[A"
     ]
    },
    {
     "name": "stdout",
     "output_type": "stream",
     "text": [
      "(6339, 4, 1.0)\n"
     ]
    },
    {
     "name": "stderr",
     "output_type": "stream",
     "text": [
      "\n",
      "\n",
      "\n",
      "\n",
      "\n",
      "\n",
      "\n",
      "\n",
      "\n",
      "\n",
      "\n",
      "\n",
      " 16%|█▌        | 4/25 [51:22<3:56:50, 676.68s/it]\u001b[A\u001b[A\u001b[A\u001b[A\u001b[A\u001b[A\u001b[A\u001b[A\u001b[A\u001b[A\u001b[A\u001b[A"
     ]
    },
    {
     "name": "stdout",
     "output_type": "stream",
     "text": [
      "(5946, 7, 0.8)\n"
     ]
    },
    {
     "name": "stderr",
     "output_type": "stream",
     "text": [
      "\n",
      "\n",
      "\n",
      "\n",
      "\n",
      "\n",
      "\n",
      "\n",
      "\n",
      "\n",
      "\n",
      "\n",
      " 20%|██        | 5/25 [1:01:13<3:37:04, 651.22s/it]\u001b[A\u001b[A\u001b[A\u001b[A\u001b[A\u001b[A\u001b[A\u001b[A\u001b[A\u001b[A\u001b[A\u001b[A"
     ]
    },
    {
     "name": "stdout",
     "output_type": "stream",
     "text": [
      "(7111, 3, 1.0)\n"
     ]
    },
    {
     "name": "stderr",
     "output_type": "stream",
     "text": [
      "\n",
      "\n",
      "\n",
      "\n",
      "\n",
      "\n",
      "\n",
      "\n",
      "\n",
      "\n",
      "\n",
      "\n",
      " 24%|██▍       | 6/25 [1:08:22<3:05:04, 584.46s/it]\u001b[A\u001b[A\u001b[A\u001b[A\u001b[A\u001b[A\u001b[A\u001b[A\u001b[A\u001b[A\u001b[A\u001b[A"
     ]
    },
    {
     "name": "stdout",
     "output_type": "stream",
     "text": [
      "(5695, 4, 1.0)\n"
     ]
    },
    {
     "name": "stderr",
     "output_type": "stream",
     "text": [
      "\n",
      "\n",
      "\n",
      "\n",
      "\n",
      "\n",
      "\n",
      "\n",
      "\n",
      "\n",
      "\n",
      "\n",
      " 28%|██▊       | 7/25 [1:15:52<2:43:11, 543.97s/it]\u001b[A\u001b[A\u001b[A\u001b[A\u001b[A\u001b[A\u001b[A\u001b[A\u001b[A\u001b[A\u001b[A\u001b[A"
     ]
    },
    {
     "name": "stdout",
     "output_type": "stream",
     "text": [
      "(7575, 4, 0.8)\n"
     ]
    },
    {
     "name": "stderr",
     "output_type": "stream",
     "text": [
      "\n",
      "\n",
      "\n",
      "\n",
      "\n",
      "\n",
      "\n",
      "\n",
      "\n",
      "\n",
      "\n",
      "\n",
      " 32%|███▏      | 8/25 [1:23:51<2:28:40, 524.71s/it]\u001b[A\u001b[A\u001b[A\u001b[A\u001b[A\u001b[A\u001b[A\u001b[A\u001b[A\u001b[A\u001b[A\u001b[A"
     ]
    },
    {
     "name": "stdout",
     "output_type": "stream",
     "text": [
      "(14387, 4, 0.9)\n"
     ]
    },
    {
     "name": "stderr",
     "output_type": "stream",
     "text": [
      "\n",
      "\n",
      "\n",
      "\n",
      "\n",
      "\n",
      "\n",
      "\n",
      "\n",
      "\n",
      "\n",
      "\n",
      " 36%|███▌      | 9/25 [1:40:53<2:59:40, 673.75s/it]\u001b[A\u001b[A\u001b[A\u001b[A\u001b[A\u001b[A\u001b[A\u001b[A\u001b[A\u001b[A\u001b[A\u001b[A"
     ]
    },
    {
     "name": "stdout",
     "output_type": "stream",
     "text": [
      "(13548, 7, 0.9)\n"
     ]
    },
    {
     "name": "stderr",
     "output_type": "stream",
     "text": [
      "\n",
      "\n",
      "\n",
      "\n",
      "\n",
      "\n",
      "\n",
      "\n",
      "\n",
      "\n",
      "\n",
      "\n",
      " 40%|████      | 10/25 [2:06:11<3:51:47, 927.15s/it]\u001b[A\u001b[A\u001b[A\u001b[A\u001b[A\u001b[A\u001b[A\u001b[A\u001b[A\u001b[A\u001b[A\u001b[A"
     ]
    },
    {
     "name": "stdout",
     "output_type": "stream",
     "text": [
      "(10178, 6, 0.8)\n"
     ]
    },
    {
     "name": "stderr",
     "output_type": "stream",
     "text": [
      "\n",
      "\n",
      "\n",
      "\n",
      "\n",
      "\n",
      "\n",
      "\n",
      "\n",
      "\n",
      "\n",
      "\n",
      " 44%|████▍     | 11/25 [2:21:08<3:34:14, 918.15s/it]\u001b[A\u001b[A\u001b[A\u001b[A\u001b[A\u001b[A\u001b[A\u001b[A\u001b[A\u001b[A\u001b[A\u001b[A"
     ]
    },
    {
     "name": "stdout",
     "output_type": "stream",
     "text": [
      "(9092, 4, 0.9)\n"
     ]
    },
    {
     "name": "stderr",
     "output_type": "stream",
     "text": [
      "\n",
      "\n",
      "\n",
      "\n",
      "\n",
      "\n",
      "\n",
      "\n",
      "\n",
      "\n",
      "\n",
      "\n",
      " 48%|████▊     | 12/25 [2:31:56<3:01:21, 837.04s/it]\u001b[A\u001b[A\u001b[A\u001b[A\u001b[A\u001b[A\u001b[A\u001b[A\u001b[A\u001b[A\u001b[A\u001b[A"
     ]
    },
    {
     "name": "stdout",
     "output_type": "stream",
     "text": [
      "(10118, 4, 0.8)\n"
     ]
    },
    {
     "name": "stderr",
     "output_type": "stream",
     "text": [
      "\n",
      "\n",
      "\n",
      "\n",
      "\n",
      "\n",
      "\n",
      "\n",
      "\n",
      "\n",
      "\n",
      "\n",
      " 52%|█████▏    | 13/25 [2:42:37<2:35:37, 778.14s/it]\u001b[A\u001b[A\u001b[A\u001b[A\u001b[A\u001b[A\u001b[A\u001b[A\u001b[A\u001b[A\u001b[A\u001b[A"
     ]
    },
    {
     "name": "stdout",
     "output_type": "stream",
     "text": [
      "(7017, 3, 0.8)\n"
     ]
    },
    {
     "name": "stderr",
     "output_type": "stream",
     "text": [
      "\n",
      "\n",
      "\n",
      "\n",
      "\n",
      "\n",
      "\n",
      "\n",
      "\n",
      "\n",
      "\n",
      "\n",
      " 56%|█████▌    | 14/25 [2:48:18<1:58:35, 646.88s/it]\u001b[A\u001b[A\u001b[A\u001b[A\u001b[A\u001b[A\u001b[A\u001b[A\u001b[A\u001b[A\u001b[A\u001b[A"
     ]
    },
    {
     "name": "stdout",
     "output_type": "stream",
     "text": [
      "(13526, 7, 1.0)\n"
     ]
    },
    {
     "name": "stderr",
     "output_type": "stream",
     "text": [
      "\n",
      "\n",
      "\n",
      "\n",
      "\n",
      "\n",
      "\n",
      "\n",
      "\n",
      "\n",
      "\n",
      "\n",
      " 60%|██████    | 15/25 [3:16:24<2:39:47, 958.78s/it]\u001b[A\u001b[A\u001b[A\u001b[A\u001b[A\u001b[A\u001b[A\u001b[A\u001b[A\u001b[A\u001b[A\u001b[A"
     ]
    },
    {
     "name": "stdout",
     "output_type": "stream",
     "text": [
      "(12612, 7, 0.8)\n"
     ]
    },
    {
     "name": "stderr",
     "output_type": "stream",
     "text": [
      "\n",
      "\n",
      "\n",
      "\n",
      "\n",
      "\n",
      "\n",
      "\n",
      "\n",
      "\n",
      "\n",
      "\n",
      " 64%|██████▍   | 16/25 [3:37:22<2:37:16, 1048.51s/it]\u001b[A\u001b[A\u001b[A\u001b[A\u001b[A\u001b[A\u001b[A\u001b[A\u001b[A\u001b[A\u001b[A\u001b[A"
     ]
    },
    {
     "name": "stdout",
     "output_type": "stream",
     "text": [
      "(9879, 4, 0.9)\n"
     ]
    },
    {
     "name": "stderr",
     "output_type": "stream",
     "text": [
      "\n",
      "\n",
      "\n",
      "\n",
      "\n",
      "\n",
      "\n",
      "\n",
      "\n",
      "\n",
      "\n",
      "\n",
      " 68%|██████▊   | 17/25 [3:49:04<2:05:55, 944.46s/it] \u001b[A\u001b[A\u001b[A\u001b[A\u001b[A\u001b[A\u001b[A\u001b[A\u001b[A\u001b[A\u001b[A\u001b[A"
     ]
    },
    {
     "name": "stdout",
     "output_type": "stream",
     "text": [
      "(12721, 6, 1.0)\n"
     ]
    },
    {
     "name": "stderr",
     "output_type": "stream",
     "text": [
      "\n",
      "\n",
      "\n",
      "\n",
      "\n",
      "\n",
      "\n",
      "\n",
      "\n",
      "\n",
      "\n",
      "\n",
      " 72%|███████▏  | 18/25 [4:12:20<2:06:01, 1080.15s/it]\u001b[A\u001b[A\u001b[A\u001b[A\u001b[A\u001b[A\u001b[A\u001b[A\u001b[A\u001b[A\u001b[A\u001b[A"
     ]
    },
    {
     "name": "stdout",
     "output_type": "stream",
     "text": [
      "(9984, 6, 0.8)\n"
     ]
    },
    {
     "name": "stderr",
     "output_type": "stream",
     "text": [
      "\n",
      "\n",
      "\n",
      "\n",
      "\n",
      "\n",
      "\n",
      "\n",
      "\n",
      "\n",
      "\n",
      "\n",
      " 76%|███████▌  | 19/25 [4:26:57<1:41:55, 1019.23s/it]\u001b[A\u001b[A\u001b[A\u001b[A\u001b[A\u001b[A\u001b[A\u001b[A\u001b[A\u001b[A\u001b[A\u001b[A"
     ]
    },
    {
     "name": "stdout",
     "output_type": "stream",
     "text": [
      "(11878, 5, 0.9)\n"
     ]
    },
    {
     "name": "stderr",
     "output_type": "stream",
     "text": [
      "\n",
      "\n",
      "\n",
      "\n",
      "\n",
      "\n",
      "\n",
      "\n",
      "\n",
      "\n",
      "\n",
      "\n",
      " 80%|████████  | 20/25 [4:43:49<1:24:44, 1016.87s/it]\u001b[A\u001b[A\u001b[A\u001b[A\u001b[A\u001b[A\u001b[A\u001b[A\u001b[A\u001b[A\u001b[A\u001b[A"
     ]
    },
    {
     "name": "stdout",
     "output_type": "stream",
     "text": [
      "(10247, 6, 1.0)\n"
     ]
    },
    {
     "ename": "KeyboardInterrupt",
     "evalue": "",
     "output_type": "error",
     "traceback": [
      "\u001b[0;31m---------------------------------------------------------------------------\u001b[0m",
      "\u001b[0;31mKeyboardInterrupt\u001b[0m                         Traceback (most recent call last)",
      "\u001b[0;32m<ipython-input-154-d8555698bac9>\u001b[0m in \u001b[0;36m<module>\u001b[0;34m\u001b[0m\n\u001b[1;32m      7\u001b[0m \u001b[0;34m\u001b[0m\u001b[0m\n\u001b[1;32m      8\u001b[0m \u001b[0mind\u001b[0m \u001b[0;34m=\u001b[0m \u001b[0mnp\u001b[0m\u001b[0;34m.\u001b[0m\u001b[0mrandom\u001b[0m\u001b[0;34m.\u001b[0m\u001b[0mrandint\u001b[0m\u001b[0;34m(\u001b[0m\u001b[0;36m0\u001b[0m\u001b[0;34m,\u001b[0m \u001b[0mX_train\u001b[0m\u001b[0;34m.\u001b[0m\u001b[0mshape\u001b[0m\u001b[0;34m[\u001b[0m\u001b[0;36m0\u001b[0m\u001b[0;34m]\u001b[0m\u001b[0;34m,\u001b[0m \u001b[0msize\u001b[0m\u001b[0;34m=\u001b[0m\u001b[0;36m50000\u001b[0m\u001b[0;34m)\u001b[0m\u001b[0;34m\u001b[0m\u001b[0;34m\u001b[0m\u001b[0m\n\u001b[0;32m----> 9\u001b[0;31m \u001b[0mrf_params\u001b[0m \u001b[0;34m=\u001b[0m \u001b[0mparameter_search\u001b[0m\u001b[0;34m(\u001b[0m\u001b[0mX_train\u001b[0m\u001b[0;34m.\u001b[0m\u001b[0miloc\u001b[0m\u001b[0;34m[\u001b[0m\u001b[0mind\u001b[0m\u001b[0;34m]\u001b[0m\u001b[0;34m,\u001b[0m \u001b[0my_train\u001b[0m\u001b[0;34m.\u001b[0m\u001b[0miloc\u001b[0m\u001b[0;34m[\u001b[0m\u001b[0mind\u001b[0m\u001b[0;34m]\u001b[0m\u001b[0;34m,\u001b[0m \u001b[0mmethod\u001b[0m\u001b[0;34m=\u001b[0m\u001b[0;34m'rf'\u001b[0m\u001b[0;34m,\u001b[0m \u001b[0mparams\u001b[0m\u001b[0;34m=\u001b[0m\u001b[0mparams\u001b[0m\u001b[0;34m,\u001b[0m \u001b[0msteps\u001b[0m\u001b[0;34m=\u001b[0m\u001b[0;36m25\u001b[0m\u001b[0;34m)\u001b[0m\u001b[0;34m\u001b[0m\u001b[0;34m\u001b[0m\u001b[0m\n\u001b[0m",
      "\u001b[0;32m<ipython-input-146-cbf19cb92975>\u001b[0m in \u001b[0;36mparameter_search\u001b[0;34m(X, y, method, params, steps)\u001b[0m\n\u001b[1;32m     47\u001b[0m                                                 \u001b[0mmax_depth\u001b[0m\u001b[0;34m=\u001b[0m\u001b[0mmax_depth\u001b[0m\u001b[0;34m,\u001b[0m\u001b[0;34m\u001b[0m\u001b[0;34m\u001b[0m\u001b[0m\n\u001b[1;32m     48\u001b[0m                                                 max_features=max_features)\n\u001b[0;32m---> 49\u001b[0;31m                 \u001b[0mrf\u001b[0m\u001b[0;34m.\u001b[0m\u001b[0mfit\u001b[0m\u001b[0;34m(\u001b[0m\u001b[0mX_train\u001b[0m\u001b[0;34m,\u001b[0m \u001b[0my_train\u001b[0m\u001b[0;34m)\u001b[0m\u001b[0;34m\u001b[0m\u001b[0;34m\u001b[0m\u001b[0m\n\u001b[0m\u001b[1;32m     50\u001b[0m                 \u001b[0mpreds\u001b[0m \u001b[0;34m=\u001b[0m \u001b[0mrf\u001b[0m\u001b[0;34m.\u001b[0m\u001b[0mpredict\u001b[0m\u001b[0;34m(\u001b[0m\u001b[0mX_cv\u001b[0m\u001b[0;34m)\u001b[0m\u001b[0;34m\u001b[0m\u001b[0;34m\u001b[0m\u001b[0m\n\u001b[1;32m     51\u001b[0m                 \u001b[0mscore\u001b[0m\u001b[0;34m.\u001b[0m\u001b[0mappend\u001b[0m\u001b[0;34m(\u001b[0m\u001b[0;34m(\u001b[0m\u001b[0mn_estimators\u001b[0m\u001b[0;34m,\u001b[0m \u001b[0mmax_depth\u001b[0m\u001b[0;34m,\u001b[0m \u001b[0mmax_features\u001b[0m\u001b[0;34m,\u001b[0m \u001b[0madam_metric\u001b[0m\u001b[0;34m(\u001b[0m\u001b[0my_cv\u001b[0m\u001b[0;34m,\u001b[0m \u001b[0mpreds\u001b[0m\u001b[0;34m)\u001b[0m\u001b[0;34m)\u001b[0m\u001b[0;34m)\u001b[0m\u001b[0;34m\u001b[0m\u001b[0;34m\u001b[0m\u001b[0m\n",
      "\u001b[0;32m~/anaconda3/envs/comp1/lib/python3.6/site-packages/sklearn/ensemble/forest.py\u001b[0m in \u001b[0;36mfit\u001b[0;34m(self, X, y, sample_weight)\u001b[0m\n\u001b[1;32m    328\u001b[0m                     \u001b[0mt\u001b[0m\u001b[0;34m,\u001b[0m \u001b[0mself\u001b[0m\u001b[0;34m,\u001b[0m \u001b[0mX\u001b[0m\u001b[0;34m,\u001b[0m \u001b[0my\u001b[0m\u001b[0;34m,\u001b[0m \u001b[0msample_weight\u001b[0m\u001b[0;34m,\u001b[0m \u001b[0mi\u001b[0m\u001b[0;34m,\u001b[0m \u001b[0mlen\u001b[0m\u001b[0;34m(\u001b[0m\u001b[0mtrees\u001b[0m\u001b[0;34m)\u001b[0m\u001b[0;34m,\u001b[0m\u001b[0;34m\u001b[0m\u001b[0;34m\u001b[0m\u001b[0m\n\u001b[1;32m    329\u001b[0m                     verbose=self.verbose, class_weight=self.class_weight)\n\u001b[0;32m--> 330\u001b[0;31m                 for i, t in enumerate(trees))\n\u001b[0m\u001b[1;32m    331\u001b[0m \u001b[0;34m\u001b[0m\u001b[0m\n\u001b[1;32m    332\u001b[0m             \u001b[0;31m# Collect newly grown trees\u001b[0m\u001b[0;34m\u001b[0m\u001b[0;34m\u001b[0m\u001b[0;34m\u001b[0m\u001b[0m\n",
      "\u001b[0;32m~/anaconda3/envs/comp1/lib/python3.6/site-packages/joblib/parallel.py\u001b[0m in \u001b[0;36m__call__\u001b[0;34m(self, iterable)\u001b[0m\n\u001b[1;32m   1004\u001b[0m                 \u001b[0mself\u001b[0m\u001b[0;34m.\u001b[0m\u001b[0m_iterating\u001b[0m \u001b[0;34m=\u001b[0m \u001b[0mself\u001b[0m\u001b[0;34m.\u001b[0m\u001b[0m_original_iterator\u001b[0m \u001b[0;32mis\u001b[0m \u001b[0;32mnot\u001b[0m \u001b[0;32mNone\u001b[0m\u001b[0;34m\u001b[0m\u001b[0;34m\u001b[0m\u001b[0m\n\u001b[1;32m   1005\u001b[0m \u001b[0;34m\u001b[0m\u001b[0m\n\u001b[0;32m-> 1006\u001b[0;31m             \u001b[0;32mwhile\u001b[0m \u001b[0mself\u001b[0m\u001b[0;34m.\u001b[0m\u001b[0mdispatch_one_batch\u001b[0m\u001b[0;34m(\u001b[0m\u001b[0miterator\u001b[0m\u001b[0;34m)\u001b[0m\u001b[0;34m:\u001b[0m\u001b[0;34m\u001b[0m\u001b[0;34m\u001b[0m\u001b[0m\n\u001b[0m\u001b[1;32m   1007\u001b[0m                 \u001b[0;32mpass\u001b[0m\u001b[0;34m\u001b[0m\u001b[0;34m\u001b[0m\u001b[0m\n\u001b[1;32m   1008\u001b[0m \u001b[0;34m\u001b[0m\u001b[0m\n",
      "\u001b[0;32m~/anaconda3/envs/comp1/lib/python3.6/site-packages/joblib/parallel.py\u001b[0m in \u001b[0;36mdispatch_one_batch\u001b[0;34m(self, iterator)\u001b[0m\n\u001b[1;32m    832\u001b[0m                 \u001b[0;32mreturn\u001b[0m \u001b[0;32mFalse\u001b[0m\u001b[0;34m\u001b[0m\u001b[0;34m\u001b[0m\u001b[0m\n\u001b[1;32m    833\u001b[0m             \u001b[0;32melse\u001b[0m\u001b[0;34m:\u001b[0m\u001b[0;34m\u001b[0m\u001b[0;34m\u001b[0m\u001b[0m\n\u001b[0;32m--> 834\u001b[0;31m                 \u001b[0mself\u001b[0m\u001b[0;34m.\u001b[0m\u001b[0m_dispatch\u001b[0m\u001b[0;34m(\u001b[0m\u001b[0mtasks\u001b[0m\u001b[0;34m)\u001b[0m\u001b[0;34m\u001b[0m\u001b[0;34m\u001b[0m\u001b[0m\n\u001b[0m\u001b[1;32m    835\u001b[0m                 \u001b[0;32mreturn\u001b[0m \u001b[0;32mTrue\u001b[0m\u001b[0;34m\u001b[0m\u001b[0;34m\u001b[0m\u001b[0m\n\u001b[1;32m    836\u001b[0m \u001b[0;34m\u001b[0m\u001b[0m\n",
      "\u001b[0;32m~/anaconda3/envs/comp1/lib/python3.6/site-packages/joblib/parallel.py\u001b[0m in \u001b[0;36m_dispatch\u001b[0;34m(self, batch)\u001b[0m\n\u001b[1;32m    751\u001b[0m         \u001b[0;32mwith\u001b[0m \u001b[0mself\u001b[0m\u001b[0;34m.\u001b[0m\u001b[0m_lock\u001b[0m\u001b[0;34m:\u001b[0m\u001b[0;34m\u001b[0m\u001b[0;34m\u001b[0m\u001b[0m\n\u001b[1;32m    752\u001b[0m             \u001b[0mjob_idx\u001b[0m \u001b[0;34m=\u001b[0m \u001b[0mlen\u001b[0m\u001b[0;34m(\u001b[0m\u001b[0mself\u001b[0m\u001b[0;34m.\u001b[0m\u001b[0m_jobs\u001b[0m\u001b[0;34m)\u001b[0m\u001b[0;34m\u001b[0m\u001b[0;34m\u001b[0m\u001b[0m\n\u001b[0;32m--> 753\u001b[0;31m             \u001b[0mjob\u001b[0m \u001b[0;34m=\u001b[0m \u001b[0mself\u001b[0m\u001b[0;34m.\u001b[0m\u001b[0m_backend\u001b[0m\u001b[0;34m.\u001b[0m\u001b[0mapply_async\u001b[0m\u001b[0;34m(\u001b[0m\u001b[0mbatch\u001b[0m\u001b[0;34m,\u001b[0m \u001b[0mcallback\u001b[0m\u001b[0;34m=\u001b[0m\u001b[0mcb\u001b[0m\u001b[0;34m)\u001b[0m\u001b[0;34m\u001b[0m\u001b[0;34m\u001b[0m\u001b[0m\n\u001b[0m\u001b[1;32m    754\u001b[0m             \u001b[0;31m# A job can complete so quickly than its callback is\u001b[0m\u001b[0;34m\u001b[0m\u001b[0;34m\u001b[0m\u001b[0;34m\u001b[0m\u001b[0m\n\u001b[1;32m    755\u001b[0m             \u001b[0;31m# called before we get here, causing self._jobs to\u001b[0m\u001b[0;34m\u001b[0m\u001b[0;34m\u001b[0m\u001b[0;34m\u001b[0m\u001b[0m\n",
      "\u001b[0;32m~/anaconda3/envs/comp1/lib/python3.6/site-packages/joblib/_parallel_backends.py\u001b[0m in \u001b[0;36mapply_async\u001b[0;34m(self, func, callback)\u001b[0m\n\u001b[1;32m    199\u001b[0m     \u001b[0;32mdef\u001b[0m \u001b[0mapply_async\u001b[0m\u001b[0;34m(\u001b[0m\u001b[0mself\u001b[0m\u001b[0;34m,\u001b[0m \u001b[0mfunc\u001b[0m\u001b[0;34m,\u001b[0m \u001b[0mcallback\u001b[0m\u001b[0;34m=\u001b[0m\u001b[0;32mNone\u001b[0m\u001b[0;34m)\u001b[0m\u001b[0;34m:\u001b[0m\u001b[0;34m\u001b[0m\u001b[0;34m\u001b[0m\u001b[0m\n\u001b[1;32m    200\u001b[0m         \u001b[0;34m\"\"\"Schedule a func to be run\"\"\"\u001b[0m\u001b[0;34m\u001b[0m\u001b[0;34m\u001b[0m\u001b[0m\n\u001b[0;32m--> 201\u001b[0;31m         \u001b[0mresult\u001b[0m \u001b[0;34m=\u001b[0m \u001b[0mImmediateResult\u001b[0m\u001b[0;34m(\u001b[0m\u001b[0mfunc\u001b[0m\u001b[0;34m)\u001b[0m\u001b[0;34m\u001b[0m\u001b[0;34m\u001b[0m\u001b[0m\n\u001b[0m\u001b[1;32m    202\u001b[0m         \u001b[0;32mif\u001b[0m \u001b[0mcallback\u001b[0m\u001b[0;34m:\u001b[0m\u001b[0;34m\u001b[0m\u001b[0;34m\u001b[0m\u001b[0m\n\u001b[1;32m    203\u001b[0m             \u001b[0mcallback\u001b[0m\u001b[0;34m(\u001b[0m\u001b[0mresult\u001b[0m\u001b[0;34m)\u001b[0m\u001b[0;34m\u001b[0m\u001b[0;34m\u001b[0m\u001b[0m\n",
      "\u001b[0;32m~/anaconda3/envs/comp1/lib/python3.6/site-packages/joblib/_parallel_backends.py\u001b[0m in \u001b[0;36m__init__\u001b[0;34m(self, batch)\u001b[0m\n\u001b[1;32m    580\u001b[0m         \u001b[0;31m# Don't delay the application, to avoid keeping the input\u001b[0m\u001b[0;34m\u001b[0m\u001b[0;34m\u001b[0m\u001b[0;34m\u001b[0m\u001b[0m\n\u001b[1;32m    581\u001b[0m         \u001b[0;31m# arguments in memory\u001b[0m\u001b[0;34m\u001b[0m\u001b[0;34m\u001b[0m\u001b[0;34m\u001b[0m\u001b[0m\n\u001b[0;32m--> 582\u001b[0;31m         \u001b[0mself\u001b[0m\u001b[0;34m.\u001b[0m\u001b[0mresults\u001b[0m \u001b[0;34m=\u001b[0m \u001b[0mbatch\u001b[0m\u001b[0;34m(\u001b[0m\u001b[0;34m)\u001b[0m\u001b[0;34m\u001b[0m\u001b[0;34m\u001b[0m\u001b[0m\n\u001b[0m\u001b[1;32m    583\u001b[0m \u001b[0;34m\u001b[0m\u001b[0m\n\u001b[1;32m    584\u001b[0m     \u001b[0;32mdef\u001b[0m \u001b[0mget\u001b[0m\u001b[0;34m(\u001b[0m\u001b[0mself\u001b[0m\u001b[0;34m)\u001b[0m\u001b[0;34m:\u001b[0m\u001b[0;34m\u001b[0m\u001b[0;34m\u001b[0m\u001b[0m\n",
      "\u001b[0;32m~/anaconda3/envs/comp1/lib/python3.6/site-packages/joblib/parallel.py\u001b[0m in \u001b[0;36m__call__\u001b[0;34m(self)\u001b[0m\n\u001b[1;32m    254\u001b[0m         \u001b[0;32mwith\u001b[0m \u001b[0mparallel_backend\u001b[0m\u001b[0;34m(\u001b[0m\u001b[0mself\u001b[0m\u001b[0;34m.\u001b[0m\u001b[0m_backend\u001b[0m\u001b[0;34m,\u001b[0m \u001b[0mn_jobs\u001b[0m\u001b[0;34m=\u001b[0m\u001b[0mself\u001b[0m\u001b[0;34m.\u001b[0m\u001b[0m_n_jobs\u001b[0m\u001b[0;34m)\u001b[0m\u001b[0;34m:\u001b[0m\u001b[0;34m\u001b[0m\u001b[0;34m\u001b[0m\u001b[0m\n\u001b[1;32m    255\u001b[0m             return [func(*args, **kwargs)\n\u001b[0;32m--> 256\u001b[0;31m                     for func, args, kwargs in self.items]\n\u001b[0m\u001b[1;32m    257\u001b[0m \u001b[0;34m\u001b[0m\u001b[0m\n\u001b[1;32m    258\u001b[0m     \u001b[0;32mdef\u001b[0m \u001b[0m__len__\u001b[0m\u001b[0;34m(\u001b[0m\u001b[0mself\u001b[0m\u001b[0;34m)\u001b[0m\u001b[0;34m:\u001b[0m\u001b[0;34m\u001b[0m\u001b[0;34m\u001b[0m\u001b[0m\n",
      "\u001b[0;32m~/anaconda3/envs/comp1/lib/python3.6/site-packages/joblib/parallel.py\u001b[0m in \u001b[0;36m<listcomp>\u001b[0;34m(.0)\u001b[0m\n\u001b[1;32m    254\u001b[0m         \u001b[0;32mwith\u001b[0m \u001b[0mparallel_backend\u001b[0m\u001b[0;34m(\u001b[0m\u001b[0mself\u001b[0m\u001b[0;34m.\u001b[0m\u001b[0m_backend\u001b[0m\u001b[0;34m,\u001b[0m \u001b[0mn_jobs\u001b[0m\u001b[0;34m=\u001b[0m\u001b[0mself\u001b[0m\u001b[0;34m.\u001b[0m\u001b[0m_n_jobs\u001b[0m\u001b[0;34m)\u001b[0m\u001b[0;34m:\u001b[0m\u001b[0;34m\u001b[0m\u001b[0;34m\u001b[0m\u001b[0m\n\u001b[1;32m    255\u001b[0m             return [func(*args, **kwargs)\n\u001b[0;32m--> 256\u001b[0;31m                     for func, args, kwargs in self.items]\n\u001b[0m\u001b[1;32m    257\u001b[0m \u001b[0;34m\u001b[0m\u001b[0m\n\u001b[1;32m    258\u001b[0m     \u001b[0;32mdef\u001b[0m \u001b[0m__len__\u001b[0m\u001b[0;34m(\u001b[0m\u001b[0mself\u001b[0m\u001b[0;34m)\u001b[0m\u001b[0;34m:\u001b[0m\u001b[0;34m\u001b[0m\u001b[0;34m\u001b[0m\u001b[0m\n",
      "\u001b[0;32m~/anaconda3/envs/comp1/lib/python3.6/site-packages/sklearn/ensemble/forest.py\u001b[0m in \u001b[0;36m_parallel_build_trees\u001b[0;34m(tree, forest, X, y, sample_weight, tree_idx, n_trees, verbose, class_weight)\u001b[0m\n\u001b[1;32m    116\u001b[0m             \u001b[0mcurr_sample_weight\u001b[0m \u001b[0;34m*=\u001b[0m \u001b[0mcompute_sample_weight\u001b[0m\u001b[0;34m(\u001b[0m\u001b[0;34m'balanced'\u001b[0m\u001b[0;34m,\u001b[0m \u001b[0my\u001b[0m\u001b[0;34m,\u001b[0m \u001b[0mindices\u001b[0m\u001b[0;34m)\u001b[0m\u001b[0;34m\u001b[0m\u001b[0;34m\u001b[0m\u001b[0m\n\u001b[1;32m    117\u001b[0m \u001b[0;34m\u001b[0m\u001b[0m\n\u001b[0;32m--> 118\u001b[0;31m         \u001b[0mtree\u001b[0m\u001b[0;34m.\u001b[0m\u001b[0mfit\u001b[0m\u001b[0;34m(\u001b[0m\u001b[0mX\u001b[0m\u001b[0;34m,\u001b[0m \u001b[0my\u001b[0m\u001b[0;34m,\u001b[0m \u001b[0msample_weight\u001b[0m\u001b[0;34m=\u001b[0m\u001b[0mcurr_sample_weight\u001b[0m\u001b[0;34m,\u001b[0m \u001b[0mcheck_input\u001b[0m\u001b[0;34m=\u001b[0m\u001b[0;32mFalse\u001b[0m\u001b[0;34m)\u001b[0m\u001b[0;34m\u001b[0m\u001b[0;34m\u001b[0m\u001b[0m\n\u001b[0m\u001b[1;32m    119\u001b[0m     \u001b[0;32melse\u001b[0m\u001b[0;34m:\u001b[0m\u001b[0;34m\u001b[0m\u001b[0;34m\u001b[0m\u001b[0m\n\u001b[1;32m    120\u001b[0m         \u001b[0mtree\u001b[0m\u001b[0;34m.\u001b[0m\u001b[0mfit\u001b[0m\u001b[0;34m(\u001b[0m\u001b[0mX\u001b[0m\u001b[0;34m,\u001b[0m \u001b[0my\u001b[0m\u001b[0;34m,\u001b[0m \u001b[0msample_weight\u001b[0m\u001b[0;34m=\u001b[0m\u001b[0msample_weight\u001b[0m\u001b[0;34m,\u001b[0m \u001b[0mcheck_input\u001b[0m\u001b[0;34m=\u001b[0m\u001b[0;32mFalse\u001b[0m\u001b[0;34m)\u001b[0m\u001b[0;34m\u001b[0m\u001b[0;34m\u001b[0m\u001b[0m\n",
      "\u001b[0;32m~/anaconda3/envs/comp1/lib/python3.6/site-packages/sklearn/tree/tree.py\u001b[0m in \u001b[0;36mfit\u001b[0;34m(self, X, y, sample_weight, check_input, X_idx_sorted)\u001b[0m\n\u001b[1;32m   1155\u001b[0m             \u001b[0msample_weight\u001b[0m\u001b[0;34m=\u001b[0m\u001b[0msample_weight\u001b[0m\u001b[0;34m,\u001b[0m\u001b[0;34m\u001b[0m\u001b[0;34m\u001b[0m\u001b[0m\n\u001b[1;32m   1156\u001b[0m             \u001b[0mcheck_input\u001b[0m\u001b[0;34m=\u001b[0m\u001b[0mcheck_input\u001b[0m\u001b[0;34m,\u001b[0m\u001b[0;34m\u001b[0m\u001b[0;34m\u001b[0m\u001b[0m\n\u001b[0;32m-> 1157\u001b[0;31m             X_idx_sorted=X_idx_sorted)\n\u001b[0m\u001b[1;32m   1158\u001b[0m         \u001b[0;32mreturn\u001b[0m \u001b[0mself\u001b[0m\u001b[0;34m\u001b[0m\u001b[0;34m\u001b[0m\u001b[0m\n\u001b[1;32m   1159\u001b[0m \u001b[0;34m\u001b[0m\u001b[0m\n",
      "\u001b[0;32m~/anaconda3/envs/comp1/lib/python3.6/site-packages/sklearn/tree/tree.py\u001b[0m in \u001b[0;36mfit\u001b[0;34m(self, X, y, sample_weight, check_input, X_idx_sorted)\u001b[0m\n\u001b[1;32m    378\u001b[0m                                            min_impurity_split)\n\u001b[1;32m    379\u001b[0m \u001b[0;34m\u001b[0m\u001b[0m\n\u001b[0;32m--> 380\u001b[0;31m         \u001b[0mbuilder\u001b[0m\u001b[0;34m.\u001b[0m\u001b[0mbuild\u001b[0m\u001b[0;34m(\u001b[0m\u001b[0mself\u001b[0m\u001b[0;34m.\u001b[0m\u001b[0mtree_\u001b[0m\u001b[0;34m,\u001b[0m \u001b[0mX\u001b[0m\u001b[0;34m,\u001b[0m \u001b[0my\u001b[0m\u001b[0;34m,\u001b[0m \u001b[0msample_weight\u001b[0m\u001b[0;34m,\u001b[0m \u001b[0mX_idx_sorted\u001b[0m\u001b[0;34m)\u001b[0m\u001b[0;34m\u001b[0m\u001b[0;34m\u001b[0m\u001b[0m\n\u001b[0m\u001b[1;32m    381\u001b[0m \u001b[0;34m\u001b[0m\u001b[0m\n\u001b[1;32m    382\u001b[0m         \u001b[0;32mif\u001b[0m \u001b[0mself\u001b[0m\u001b[0;34m.\u001b[0m\u001b[0mn_outputs_\u001b[0m \u001b[0;34m==\u001b[0m \u001b[0;36m1\u001b[0m\u001b[0;34m:\u001b[0m\u001b[0;34m\u001b[0m\u001b[0;34m\u001b[0m\u001b[0m\n",
      "\u001b[0;31mKeyboardInterrupt\u001b[0m: "
     ]
    }
   ],
   "source": [
    "# RF\n",
    "params = {\n",
    "        'max_depth': [3, 4, 5, 6, 7],\n",
    "        'n_estimators': [5000, 15000],\n",
    "        'max_features': [0.8, 0.9, 1]\n",
    "}\n",
    "\n",
    "ind = np.random.randint(0, X_train.shape[0], size=50000)\n",
    "rf_params = parameter_search(X_train.iloc[ind], y_train.iloc[ind], method='rf', params=params, steps=25)"
   ]
  },
  {
   "cell_type": "code",
   "execution_count": 32,
   "metadata": {},
   "outputs": [],
   "source": [
    "pca = PCA(n_components=4)\n",
    "X_train_pca = pca.fit_transform(X_train)"
   ]
  },
  {
   "cell_type": "code",
   "execution_count": 34,
   "metadata": {},
   "outputs": [
    {
     "name": "stdout",
     "output_type": "stream",
     "text": [
      "0.1 1e-05\n",
      "0.1 5e-05\n",
      "0.1 0.0001\n",
      "0.1 0.0005\n",
      "0.1 0.001\n",
      "0.1 0.005\n",
      "0.1 0.01\n",
      "0.1 0.05\n",
      "0.1 0.1\n",
      "0.1 0.5\n",
      "0.1 1\n",
      "0.1 5\n",
      "0.1 10\n",
      "0.1 20\n",
      "0.1 50\n",
      "0.1 100\n",
      "0.1473684210526316 1e-05\n",
      "0.1473684210526316 5e-05\n",
      "0.1473684210526316 0.0001\n",
      "0.1473684210526316 0.0005\n",
      "0.1473684210526316 0.001\n",
      "0.1473684210526316 0.005\n",
      "0.1473684210526316 0.01\n",
      "0.1473684210526316 0.05\n",
      "0.1473684210526316 0.1\n",
      "0.1473684210526316 0.5\n",
      "0.1473684210526316 1\n",
      "0.1473684210526316 5\n",
      "0.1473684210526316 10\n",
      "0.1473684210526316 20\n",
      "0.1473684210526316 50\n",
      "0.1473684210526316 100\n",
      "0.19473684210526315 1e-05\n",
      "0.19473684210526315 5e-05\n",
      "0.19473684210526315 0.0001\n",
      "0.19473684210526315 0.0005\n",
      "0.19473684210526315 0.001\n",
      "0.19473684210526315 0.005\n",
      "0.19473684210526315 0.01\n",
      "0.19473684210526315 0.05\n",
      "0.19473684210526315 0.1\n",
      "0.19473684210526315 0.5\n",
      "0.19473684210526315 1\n",
      "0.19473684210526315 5\n",
      "0.19473684210526315 10\n",
      "0.19473684210526315 20\n",
      "0.19473684210526315 50\n",
      "0.19473684210526315 100\n",
      "0.24210526315789474 1e-05\n",
      "0.24210526315789474 5e-05\n",
      "0.24210526315789474 0.0001\n",
      "0.24210526315789474 0.0005\n",
      "0.24210526315789474 0.001\n",
      "0.24210526315789474 0.005\n",
      "0.24210526315789474 0.01\n",
      "0.24210526315789474 0.05\n",
      "0.24210526315789474 0.1\n",
      "0.24210526315789474 0.5\n",
      "0.24210526315789474 1\n",
      "0.24210526315789474 5\n",
      "0.24210526315789474 10\n",
      "0.24210526315789474 20\n",
      "0.24210526315789474 50\n",
      "0.24210526315789474 100\n",
      "0.2894736842105263 1e-05\n",
      "0.2894736842105263 5e-05\n",
      "0.2894736842105263 0.0001\n",
      "0.2894736842105263 0.0005\n",
      "0.2894736842105263 0.001\n",
      "0.2894736842105263 0.005\n",
      "0.2894736842105263 0.01\n",
      "0.2894736842105263 0.05\n",
      "0.2894736842105263 0.1\n",
      "0.2894736842105263 0.5\n",
      "0.2894736842105263 1\n",
      "0.2894736842105263 5\n",
      "0.2894736842105263 10\n",
      "0.2894736842105263 20\n",
      "0.2894736842105263 50\n",
      "0.2894736842105263 100\n",
      "0.33684210526315794 1e-05\n",
      "0.33684210526315794 5e-05\n",
      "0.33684210526315794 0.0001\n",
      "0.33684210526315794 0.0005\n",
      "0.33684210526315794 0.001\n",
      "0.33684210526315794 0.005\n",
      "0.33684210526315794 0.01\n",
      "0.33684210526315794 0.05\n",
      "0.33684210526315794 0.1\n",
      "0.33684210526315794 0.5\n",
      "0.33684210526315794 1\n",
      "0.33684210526315794 5\n",
      "0.33684210526315794 10\n",
      "0.33684210526315794 20\n",
      "0.33684210526315794 50\n",
      "0.33684210526315794 100\n",
      "0.38421052631578945 1e-05\n",
      "0.38421052631578945 5e-05\n",
      "0.38421052631578945 0.0001\n",
      "0.38421052631578945 0.0005\n",
      "0.38421052631578945 0.001\n",
      "0.38421052631578945 0.005\n",
      "0.38421052631578945 0.01\n",
      "0.38421052631578945 0.05\n",
      "0.38421052631578945 0.1\n",
      "0.38421052631578945 0.5\n",
      "0.38421052631578945 1\n",
      "0.38421052631578945 5\n",
      "0.38421052631578945 10\n",
      "0.38421052631578945 20\n",
      "0.38421052631578945 50\n",
      "0.38421052631578945 100\n",
      "0.43157894736842106 1e-05\n",
      "0.43157894736842106 5e-05\n",
      "0.43157894736842106 0.0001\n",
      "0.43157894736842106 0.0005\n",
      "0.43157894736842106 0.001\n",
      "0.43157894736842106 0.005\n",
      "0.43157894736842106 0.01\n",
      "0.43157894736842106 0.05\n",
      "0.43157894736842106 0.1\n",
      "0.43157894736842106 0.5\n",
      "0.43157894736842106 1\n",
      "0.43157894736842106 5\n",
      "0.43157894736842106 10\n",
      "0.43157894736842106 20\n",
      "0.43157894736842106 50\n",
      "0.43157894736842106 100\n",
      "0.4789473684210527 1e-05\n",
      "0.4789473684210527 5e-05\n",
      "0.4789473684210527 0.0001\n",
      "0.4789473684210527 0.0005\n",
      "0.4789473684210527 0.001\n",
      "0.4789473684210527 0.005\n",
      "0.4789473684210527 0.01\n",
      "0.4789473684210527 0.05\n",
      "0.4789473684210527 0.1\n",
      "0.4789473684210527 0.5\n",
      "0.4789473684210527 1\n",
      "0.4789473684210527 5\n",
      "0.4789473684210527 10\n",
      "0.4789473684210527 20\n",
      "0.4789473684210527 50\n",
      "0.4789473684210527 100\n",
      "0.5263157894736842 1e-05\n",
      "0.5263157894736842 5e-05\n",
      "0.5263157894736842 0.0001\n",
      "0.5263157894736842 0.0005\n",
      "0.5263157894736842 0.001\n",
      "0.5263157894736842 0.005\n",
      "0.5263157894736842 0.01\n",
      "0.5263157894736842 0.05\n",
      "0.5263157894736842 0.1\n",
      "0.5263157894736842 0.5\n",
      "0.5263157894736842 1\n",
      "0.5263157894736842 5\n",
      "0.5263157894736842 10\n",
      "0.5263157894736842 20\n",
      "0.5263157894736842 50\n",
      "0.5263157894736842 100\n",
      "0.5736842105263158 1e-05\n",
      "0.5736842105263158 5e-05\n",
      "0.5736842105263158 0.0001\n",
      "0.5736842105263158 0.0005\n",
      "0.5736842105263158 0.001\n",
      "0.5736842105263158 0.005\n",
      "0.5736842105263158 0.01\n",
      "0.5736842105263158 0.05\n",
      "0.5736842105263158 0.1\n",
      "0.5736842105263158 0.5\n",
      "0.5736842105263158 1\n",
      "0.5736842105263158 5\n",
      "0.5736842105263158 10\n",
      "0.5736842105263158 20\n",
      "0.5736842105263158 50\n",
      "0.5736842105263158 100\n",
      "0.6210526315789474 1e-05\n",
      "0.6210526315789474 5e-05\n",
      "0.6210526315789474 0.0001\n",
      "0.6210526315789474 0.0005\n",
      "0.6210526315789474 0.001\n",
      "0.6210526315789474 0.005\n",
      "0.6210526315789474 0.01\n",
      "0.6210526315789474 0.05\n",
      "0.6210526315789474 0.1\n",
      "0.6210526315789474 0.5\n",
      "0.6210526315789474 1\n",
      "0.6210526315789474 5\n",
      "0.6210526315789474 10\n",
      "0.6210526315789474 20\n",
      "0.6210526315789474 50\n",
      "0.6210526315789474 100\n",
      "0.6684210526315789 1e-05\n",
      "0.6684210526315789 5e-05\n",
      "0.6684210526315789 0.0001\n",
      "0.6684210526315789 0.0005\n",
      "0.6684210526315789 0.001\n",
      "0.6684210526315789 0.005\n",
      "0.6684210526315789 0.01\n",
      "0.6684210526315789 0.05\n",
      "0.6684210526315789 0.1\n",
      "0.6684210526315789 0.5\n",
      "0.6684210526315789 1\n",
      "0.6684210526315789 5\n",
      "0.6684210526315789 10\n",
      "0.6684210526315789 20\n",
      "0.6684210526315789 50\n",
      "0.6684210526315789 100\n",
      "0.7157894736842105 1e-05\n",
      "0.7157894736842105 5e-05\n",
      "0.7157894736842105 0.0001\n",
      "0.7157894736842105 0.0005\n",
      "0.7157894736842105 0.001\n",
      "0.7157894736842105 0.005\n",
      "0.7157894736842105 0.01\n",
      "0.7157894736842105 0.05\n",
      "0.7157894736842105 0.1\n",
      "0.7157894736842105 0.5\n",
      "0.7157894736842105 1\n",
      "0.7157894736842105 5\n",
      "0.7157894736842105 10\n",
      "0.7157894736842105 20\n",
      "0.7157894736842105 50\n",
      "0.7157894736842105 100\n",
      "0.7631578947368421 1e-05\n",
      "0.7631578947368421 5e-05\n",
      "0.7631578947368421 0.0001\n",
      "0.7631578947368421 0.0005\n",
      "0.7631578947368421 0.001\n",
      "0.7631578947368421 0.005\n",
      "0.7631578947368421 0.01\n",
      "0.7631578947368421 0.05\n",
      "0.7631578947368421 0.1\n",
      "0.7631578947368421 0.5\n",
      "0.7631578947368421 1\n",
      "0.7631578947368421 5\n",
      "0.7631578947368421 10\n",
      "0.7631578947368421 20\n",
      "0.7631578947368421 50\n",
      "0.7631578947368421 100\n",
      "0.8105263157894737 1e-05\n",
      "0.8105263157894737 5e-05\n",
      "0.8105263157894737 0.0001\n",
      "0.8105263157894737 0.0005\n",
      "0.8105263157894737 0.001\n",
      "0.8105263157894737 0.005\n",
      "0.8105263157894737 0.01\n",
      "0.8105263157894737 0.05\n",
      "0.8105263157894737 0.1\n",
      "0.8105263157894737 0.5\n",
      "0.8105263157894737 1\n",
      "0.8105263157894737 5\n",
      "0.8105263157894737 10\n",
      "0.8105263157894737 20\n",
      "0.8105263157894737 50\n",
      "0.8105263157894737 100\n",
      "0.8578947368421053 1e-05\n",
      "0.8578947368421053 5e-05\n",
      "0.8578947368421053 0.0001\n",
      "0.8578947368421053 0.0005\n",
      "0.8578947368421053 0.001\n",
      "0.8578947368421053 0.005\n",
      "0.8578947368421053 0.01\n",
      "0.8578947368421053 0.05\n",
      "0.8578947368421053 0.1\n",
      "0.8578947368421053 0.5\n",
      "0.8578947368421053 1\n",
      "0.8578947368421053 5\n",
      "0.8578947368421053 10\n",
      "0.8578947368421053 20\n",
      "0.8578947368421053 50\n",
      "0.8578947368421053 100\n",
      "0.9052631578947369 1e-05\n",
      "0.9052631578947369 5e-05\n",
      "0.9052631578947369 0.0001\n",
      "0.9052631578947369 0.0005\n",
      "0.9052631578947369 0.001\n",
      "0.9052631578947369 0.005\n",
      "0.9052631578947369 0.01\n",
      "0.9052631578947369 0.05\n",
      "0.9052631578947369 0.1\n",
      "0.9052631578947369 0.5\n",
      "0.9052631578947369 1\n",
      "0.9052631578947369 5\n",
      "0.9052631578947369 10\n",
      "0.9052631578947369 20\n",
      "0.9052631578947369 50\n",
      "0.9052631578947369 100\n",
      "0.9526315789473684 1e-05\n",
      "0.9526315789473684 5e-05\n",
      "0.9526315789473684 0.0001\n",
      "0.9526315789473684 0.0005\n",
      "0.9526315789473684 0.001\n",
      "0.9526315789473684 0.005\n",
      "0.9526315789473684 0.01\n",
      "0.9526315789473684 0.05\n",
      "0.9526315789473684 0.1\n",
      "0.9526315789473684 0.5\n",
      "0.9526315789473684 1\n",
      "0.9526315789473684 5\n",
      "0.9526315789473684 10\n",
      "0.9526315789473684 20\n",
      "0.9526315789473684 50\n",
      "0.9526315789473684 100\n",
      "1.0 1e-05\n",
      "1.0 5e-05\n",
      "1.0 0.0001\n",
      "1.0 0.0005\n",
      "1.0 0.001\n",
      "1.0 0.005\n",
      "1.0 0.01\n",
      "1.0 0.05\n",
      "1.0 0.1\n",
      "1.0 0.5\n",
      "1.0 1\n",
      "1.0 5\n",
      "1.0 10\n",
      "1.0 20\n",
      "1.0 50\n",
      "1.0 100\n"
     ]
    }
   ],
   "source": [
    "# Elastic Net\n",
    "params = {\n",
    "        'ratio': np.linspace(0.1, 1, 20),\n",
    "        'alpha': [1e-5, 5e-5, 1e-4, 5e-4, 1e-3, 5e-3, 1e-2, 5e-2, 1e-1, 5e-1, 1, 5, 10, 20, 50, 100],\n",
    "        'max_features': [0.8, 0.9, 1]\n",
    "}\n",
    "\n",
    "el_net_params = parameter_search(X_train_pca, y_train, method='elastic', params=params)"
   ]
  },
  {
   "cell_type": "code",
   "execution_count": 35,
   "metadata": {},
   "outputs": [
    {
     "name": "stdout",
     "output_type": "stream",
     "text": [
      "[(1e-05, 0.1, 1815.563687496391), (5e-05, 0.1, 1815.5636874966917), (0.0001, 0.1, 1815.5636874970673), (0.0005, 0.1, 1815.5636875000728), (0.001, 0.1, 1815.5636875038306), (0.005, 0.1, 1815.5636875338832), (0.01, 0.1, 1815.5636875714488), (0.05, 0.1, 1815.5636878720481), (0.1, 0.1, 1815.5636882382705), (0.5, 0.1, 1815.5636912435295), (1, 0.1, 1815.5636950001126), (5, 0.1, 1815.5637250531709), (10, 0.1, 1815.5637626204746), (20, 0.1, 1815.5638377583525), (50, 0.1, 1815.5640588872259), (100, 0.1, 1815.5644347074492), (1e-05, 0.1473684210526316, 1815.5636874964177), (5e-05, 0.1473684210526316, 1815.5636874968234), (0.0001, 0.1473684210526316, 1815.5636874973309), (0.0005, 0.1473684210526316, 1815.5636875013913), (0.001, 0.1473684210526316, 1815.5636875064652), (0.005, 0.1473684210526316, 1815.5636875470568), (0.01, 0.1473684210526316, 1815.5636875977966), (0.05, 0.1473684210526316, 1815.5636879943536), (0.1, 0.1473684210526316, 1815.5636885017502), (0.5, 0.1473684210526316, 1815.5636925609276), (1, 0.1473684210526316, 1815.5636976349113), (5, 0.1473684210526316, 1815.563738227252), (10, 0.1473684210526316, 1815.5637889688583), (20, 0.1473684210526316, 1815.563890456005), (50, 0.1473684210526316, 1815.5641906379824), (100, 0.1473684210526316, 1815.5646982310925), (1e-05, 0.19473684210526315, 1815.5636874964437), (5e-05, 0.19473684210526315, 1815.563687496955), (0.0001, 0.19473684210526315, 1815.5636874975942), (0.0005, 0.19473684210526315, 1815.5636875027087), (0.001, 0.19473684210526315, 1815.5636875091), (0.005, 0.19473684210526315, 1815.5636875602308), (0.01, 0.19473684210526315, 1815.5636876241444), (0.05, 0.19473684210526315, 1815.5636881260932), (0.1, 0.19473684210526315, 1815.5636887652297), (0.5, 0.19473684210526315, 1815.563693878326), (1, 0.19473684210526315, 1815.5637002697113), (5, 0.19473684210526315, 1815.5637514013717), (10, 0.19473684210526315, 1815.563815317396), (20, 0.19473684210526315, 1815.5639388433244), (50, 0.19473684210526315, 1815.5643223925797), (100, 0.19473684210526315, 1815.5649617700979), (1e-05, 0.24210526315789474, 1815.5636874964703), (5e-05, 0.24210526315789474, 1815.563687497087), (0.0001, 0.24210526315789474, 1815.5636874978577), (0.0005, 0.24210526315789474, 1815.5636875040261), (0.001, 0.24210526315789474, 1815.5636875117348), (0.005, 0.24210526315789474, 1815.5636875734049), (0.01, 0.24210526315789474, 1815.563687650492), (0.05, 0.24210526315789474, 1815.5636882578328), (0.1, 0.24210526315789474, 1815.5636890287092), (0.5, 0.24210526315789474, 1815.5636951957251), (1, 0.24210526315789474, 1815.5637029045129), (5, 0.24210526315789474, 1815.5637645755298), (10, 0.24210526315789474, 1815.5638416660868), (20, 0.24210526315789474, 1815.5639915422003), (50, 0.24210526315789474, 1815.5644541510178), (100, 0.24210526315789474, 1815.5652253244657), (1e-05, 0.2894736842105263, 1815.5636874964964), (5e-05, 0.2894736842105263, 1815.5636874972183), (0.0001, 0.2894736842105263, 1815.5636874981215), (0.0005, 0.2894736842105263, 1815.5636875053435), (0.001, 0.2894736842105263, 1815.5636875143693), (0.005, 0.2894736842105263, 1815.5636875865787), (0.01, 0.2894736842105263, 1815.5636876768406), (0.05, 0.2894736842105263, 1815.5636883895727), (0.1, 0.2894736842105263, 1815.5636892921887), (0.5, 0.2894736842105263, 1815.5636965131243), (1, 0.2894736842105263, 1815.563705539316), (5, 0.2894736842105263, 1815.5637777497261), (10, 0.2894736842105263, 1815.5638680149314), (20, 0.2894736842105263, 1815.564044241691), (50, 0.2894736842105263, 1815.5645859132965), (100, 0.2894736842105263, 1815.5654888941963), (1e-05, 0.33684210526315794, 1815.563687496523), (5e-05, 0.33684210526315794, 1815.5636874973504), (0.0001, 0.33684210526315794, 1815.5636874983848), (0.0005, 0.33684210526315794, 1815.563687506661), (0.001, 0.33684210526315794, 1815.5636875170042), (0.005, 0.33684210526315794, 1815.563687599753), (0.01, 0.33684210526315794, 1815.5636877032623), (0.05, 0.33684210526315794, 1815.5636885213128), (0.1, 0.33684210526315794, 1815.5636895556681), (0.5, 0.33684210526315794, 1815.5636978305242), (1, 0.33684210526315794, 1815.5637081741206), (5, 0.33684210526315794, 1815.563790923961), (10, 0.33684210526315794, 1815.5638900529739), (20, 0.33684210526315794, 1815.564096941796), (50, 0.33684210526315794, 1815.5647176794162), (100, 0.33684210526315794, 1815.5657524792898), (1e-05, 0.38421052631578945, 1815.5636874965492), (5e-05, 0.38421052631578945, 1815.563687497482), (0.0001, 0.38421052631578945, 1815.563687498648), (0.0005, 0.38421052631578945, 1815.5636875079783), (0.001, 0.38421052631578945, 1815.5636875196394), (0.005, 0.38421052631578945, 1815.5636876129267), (0.01, 0.38421052631578945, 1815.5636877296104), (0.05, 0.38421052631578945, 1815.5636886530522), (0.1, 0.38421052631578945, 1815.5636898191476), (0.5, 0.38421052631578945, 1815.5636991479244), (1, 0.38421052631578945, 1815.563710808927), (5, 0.38421052631578945, 1815.5638040982344), (10, 0.38421052631578945, 1815.563916402123), (20, 0.38421052631578945, 1815.5641496425155), (50, 0.38421052631578945, 1815.5648494493764), (100, 0.38421052631578945, 1815.5660160797463), (1e-05, 0.43157894736842106, 1815.5636874965758), (5e-05, 0.43157894736842106, 1815.563687497614), (0.0001, 0.43157894736842106, 1815.5636874989116), (0.0005, 0.43157894736842106, 1815.5636875092955), (0.001, 0.43157894736842106, 1815.563687522274), (0.005, 0.43157894736842106, 1815.5636876261005), (0.01, 0.43157894736842106, 1815.5636877559584), (0.05, 0.43157894736842106, 1815.563688784792), (0.1, 0.43157894736842106, 1815.5636900826273), (0.5, 0.43157894736842106, 1815.5637004653247), (1, 0.43157894736842106, 1815.5637134437345), (5, 0.43157894736842106, 1815.563817272546), (10, 0.43157894736842106, 1815.5639427514257), (20, 0.43157894736842106, 1815.5642023438495), (50, 0.43157894736842106, 1815.564981223177), (100, 0.43157894736842106, 1815.566279695566), (1e-05, 0.4789473684210527, 1815.563687496602), (5e-05, 0.4789473684210527, 1815.5636874977458), (0.0001, 0.4789473684210527, 1815.5636874991753), (0.0005, 0.4789473684210527, 1815.563687510613), (0.001, 0.4789473684210527, 1815.5636875249086), (0.005, 0.4789473684210527, 1815.5636876392748), (0.01, 0.4789473684210527, 1815.563687782306), (0.05, 0.4789473684210527, 1815.5636889165319), (0.1, 0.4789473684210527, 1815.5636903461068), (0.5, 0.4789473684210527, 1815.5637017827255), (1, 0.4789473684210527, 1815.5637160785438), (5, 0.4789473684210527, 1815.5638304468962), (10, 0.4789473684210527, 1815.5639691008819), (20, 0.4789473684210527, 1815.5642550457983), (50, 0.4789473684210527, 1815.5651130008184), (100, 0.4789473684210527, 1815.5665433267488), (1e-05, 0.5263157894736842, 1815.5636874966283), (5e-05, 0.5263157894736842, 1815.5636874978775), (0.0001, 0.5263157894736842, 1815.5636874994389), (0.0005, 0.5263157894736842, 1815.5636875119305), (0.001, 0.5263157894736842, 1815.5636875275436), (0.005, 0.5263157894736842, 1815.5636876524488), (0.01, 0.5263157894736842, 1815.563687808654), (0.05, 0.5263157894736842, 1815.5636890482715), (0.1, 0.5263157894736842, 1815.5636906095865), (0.5, 0.5263157894736842, 1815.5637031001268), (1, 0.5263157894736842, 1815.563718713355), (5, 0.5263157894736842, 1815.5638436212846), (10, 0.5263157894736842, 1815.5639954504918), (20, 0.5263157894736842, 1815.5643077483612), (50, 0.5263157894736842, 1815.5652447823015), (100, 0.5263157894736842, 1815.5668069732956), (1e-05, 0.5736842105263158, 1815.5636874966547), (5e-05, 0.5736842105263158, 1815.5636874980091), (0.0001, 0.5736842105263158, 1815.5636874997033), (0.0005, 0.5736842105263158, 1815.563687513248), (0.001, 0.5736842105263158, 1815.5636875301784), (0.005, 0.5736842105263158, 1815.5636876656226), (0.01, 0.5736842105263158, 1815.5636878350022), (0.05, 0.5736842105263158, 1815.5636891800114), (0.1, 0.5736842105263158, 1815.5636908730658), (0.5, 0.5736842105263158, 1815.5637044175282), (1, 0.5736842105263158, 1815.5637213481673), (5, 0.5736842105263158, 1815.5638567957114), (10, 0.5736842105263158, 1815.5640218002554), (20, 0.5736842105263158, 1815.5643604515392), (50, 0.5736842105263158, 1815.565376567625), (100, 0.5736842105263158, 1815.5670706352055), (1e-05, 0.6210526315789474, 1815.5636874966813), (5e-05, 0.6210526315789474, 1815.563687498141), (0.0001, 0.6210526315789474, 1815.563687499967), (0.0005, 0.6210526315789474, 1815.5636875145656), (0.001, 0.6210526315789474, 1815.5636875328132), (0.005, 0.6210526315789474, 1815.563687678797), (0.01, 0.6210526315789474, 1815.56368786135), (0.05, 0.6210526315789474, 1815.5636893117512), (0.1, 0.6210526315789474, 1815.5636911365457), (0.5, 0.6210526315789474, 1815.5637057349304), (1, 0.6210526315789474, 1815.5637239829812), (5, 0.6210526315789474, 1815.5638656592173), (10, 0.6210526315789474, 1815.5640481501725), (20, 0.6210526315789474, 1815.5644131553313), (50, 0.6210526315789474, 1815.565508356789), (100, 0.6210526315789474, 1815.5673343124793), (1e-05, 0.6684210526315789, 1815.5636874967074), (5e-05, 0.6684210526315789, 1815.5636874982727), (0.0001, 0.6684210526315789, 1815.5636875002303), (0.0005, 0.6684210526315789, 1815.5636875158823), (0.001, 0.6684210526315789, 1815.5636875354478), (0.005, 0.6684210526315789, 1815.5636876920446), (0.01, 0.6684210526315789, 1815.5636878782639), (0.05, 0.6684210526315789, 1815.5636894434908), (0.1, 0.6684210526315789, 1815.5636914000252), (0.5, 0.6684210526315789, 1815.5637070523326), (1, 0.6684210526315789, 1815.5637266177964), (5, 0.6684210526315789, 1815.5638788337196), (10, 0.6684210526315789, 1815.5640745002436), (20, 0.6684210526315789, 1815.5644658597378), (50, 0.6684210526315789, 1815.5656401497945), (100, 0.6684210526315789, 1815.5675980051167), (1e-05, 0.7157894736842105, 1815.5636874967336), (5e-05, 0.7157894736842105, 1815.5636874984043), (0.0001, 0.7157894736842105, 1815.5636875004939), (0.0005, 0.7157894736842105, 1815.5636875172002), (0.001, 0.7157894736842105, 1815.5636875380826), (0.005, 0.7157894736842105, 1815.5636877052186), (0.01, 0.7157894736842105, 1815.5636879046115), (0.05, 0.7157894736842105, 1815.5636895752305), (0.1, 0.7157894736842105, 1815.5636916635049), (0.5, 0.7157894736842105, 1815.5637083697357), (1, 0.7157894736842105, 1815.5637292526135), (5, 0.7157894736842105, 1815.5638920082604), (10, 0.7157894736842105, 1815.5641008504679), (20, 0.7157894736842105, 1815.5645185647593), (50, 0.7157894736842105, 1815.5657719466399), (100, 0.7157894736842105, 1815.567861713118), (1e-05, 0.7631578947368421, 1815.5636874967602), (5e-05, 0.7631578947368421, 1815.5636874985362), (0.0001, 0.7631578947368421, 1815.5636875007574), (0.0005, 0.7631578947368421, 1815.5636875185173), (0.001, 0.7631578947368421, 1815.5636875407176), (0.005, 0.7631578947368421, 1815.5636877183927), (0.01, 0.7631578947368421, 1815.5636879309595), (0.05, 0.7631578947368421, 1815.5636897069705), (0.1, 0.7631578947368421, 1815.5636919269846), (0.5, 0.7631578947368421, 1815.5637096871387), (1, 0.7631578947368421, 1815.5637318874324), (5, 0.7631578947368421, 1815.5639051828393), (10, 0.7631578947368421, 1815.5641272008459), (20, 0.7631578947368421, 1815.564571270395), (50, 0.7631578947368421, 1815.565903747327), (100, 0.7631578947368421, 1815.5681254364838), (1e-05, 0.8105263157894737, 1815.5636874967863), (5e-05, 0.8105263157894737, 1815.5636874986678), (0.0001, 0.8105263157894737, 1815.5636875010207), (0.0005, 0.8105263157894737, 1815.5636875198347), (0.001, 0.8105263157894737, 1815.5636875433524), (0.005, 0.8105263157894737, 1815.5636877315665), (0.01, 0.8105263157894737, 1815.5636879573076), (0.05, 0.8105263157894737, 1815.5636898387102), (0.1, 0.8105263157894737, 1815.563692190464), (0.5, 0.8105263157894737, 1815.5637110045423), (1, 0.8105263157894737, 1815.5637345222522), (5, 0.8105263157894737, 1815.563918357457), (10, 0.8105263157894737, 1815.5641535513776), (20, 0.8105263157894737, 1815.5646239766452), (50, 0.8105263157894737, 1815.5660355518548), (100, 0.8105263157894737, 1815.5683891752133), (1e-05, 0.8578947368421053, 1815.563687496813), (5e-05, 0.8578947368421053, 1815.5636874987997), (0.0001, 0.8578947368421053, 1815.563687501284), (0.0005, 0.8578947368421053, 1815.5636875211521), (0.001, 0.8578947368421053, 1815.563687545987), (0.005, 0.8578947368421053, 1815.5636877447403), (0.01, 0.8578947368421053, 1815.5636879836557), (0.05, 0.8578947368421053, 1815.5636899704496), (0.1, 0.8578947368421053, 1815.5636924539438), (0.5, 0.8578947368421053, 1815.5637123219462), (1, 0.8578947368421053, 1815.5637371570738), (5, 0.8578947368421053, 1815.5639315321127), (10, 0.8578947368421053, 1815.5641799020627), (20, 0.8578947368421053, 1815.56467668351), (50, 0.8578947368421053, 1815.5661673602233), (100, 0.8578947368421053, 1815.5686529293073), (1e-05, 0.9052631578947369, 1815.563687496839), (5e-05, 0.9052631578947369, 1815.5636874989314), (0.0001, 0.9052631578947369, 1815.563687501548), (0.0005, 0.9052631578947369, 1815.5636875224698), (0.001, 0.9052631578947369, 1815.563687548622), (0.005, 0.9052631578947369, 1815.5636877579145), (0.01, 0.9052631578947369, 1815.5636880100035), (0.05, 0.9052631578947369, 1815.5636901021896), (0.1, 0.9052631578947369, 1815.5636927174235), (0.5, 0.9052631578947369, 1815.5637136393505), (1, 0.9052631578947369, 1815.5637397918968), (5, 0.9052631578947369, 1815.563944706807), (10, 0.9052631578947369, 1815.564206252902), (20, 0.9052631578947369, 1815.5647293909894), (50, 0.9052631578947369, 1815.566299172433), (100, 0.9052631578947369, 1815.5689166987659), (1e-05, 0.9526315789473684, 1815.5636874968654), (5e-05, 0.9526315789473684, 1815.563687499063), (0.0001, 0.9526315789473684, 1815.5636875018113), (0.0005, 0.9526315789473684, 1815.563687523787), (0.001, 0.9526315789473684, 1815.5636875512566), (0.005, 0.9526315789473684, 1815.5636877710883), (0.01, 0.9526315789473684, 1815.5636880363513), (0.05, 0.9526315789473684, 1815.5636902339293), (0.1, 0.9526315789473684, 1815.5636929809034), (0.5, 0.9526315789473684, 1815.5637149567551), (1, 0.9526315789473684, 1815.5637424267218), (5, 0.9526315789473684, 1815.5639578815396), (10, 0.9526315789473684, 1815.5642326038944), (20, 0.9526315789473684, 1815.5647820990832), (50, 0.9526315789473684, 1815.5664309884835), (100, 0.9526315789473684, 1815.569180483589), (1e-05, 1.0, 1815.5636874968918), (5e-05, 1.0, 1815.5636874991947), (0.0001, 1.0, 1815.5636875020748), (0.0005, 1.0, 1815.5636875251046), (0.001, 1.0, 1815.5636875538917), (0.005, 1.0, 1815.5636877842624), (0.01, 1.0, 1815.5636880626996), (0.05, 1.0, 1815.5636903656691), (0.1, 1.0, 1815.563693244383), (0.5, 1.0, 1815.5637162741605), (1, 1.0, 1815.5637450615477), (5, 1.0, 1815.563971056311), (10, 1.0, 1815.5642589550407), (20, 1.0, 1815.5648348077916), (50, 1.0, 1815.566562808375), (100, 1.0, 1815.5694442837766)]"
     ]
    }
   ],
   "source": [
    "!cat el_net_params.txt"
   ]
  }
 ],
 "metadata": {
  "kernelspec": {
   "display_name": "Python 3",
   "language": "python",
   "name": "python3"
  },
  "language_info": {
   "codemirror_mode": {
    "name": "ipython",
    "version": 3
   },
   "file_extension": ".py",
   "mimetype": "text/x-python",
   "name": "python",
   "nbconvert_exporter": "python",
   "pygments_lexer": "ipython3",
   "version": "3.6.9"
  }
 },
 "nbformat": 4,
 "nbformat_minor": 4
}
