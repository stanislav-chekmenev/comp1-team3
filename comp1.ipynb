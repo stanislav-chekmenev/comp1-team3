{
 "cells": [
  {
   "cell_type": "code",
   "execution_count": 1,
   "metadata": {},
   "outputs": [
    {
     "name": "stderr",
     "output_type": "stream",
     "text": [
      "/home/stas/anaconda3/envs/comp1/lib/python3.6/site-packages/IPython/core/interactiveshell.py:3249: DtypeWarning:\n",
      "\n",
      "Columns (7) have mixed types. Specify dtype option on import or set low_memory=False.\n",
      "\n"
     ]
    }
   ],
   "source": [
    "from feat_competition_sales import *\n",
    "\n",
    "from sklearn.decomposition import PCA\n",
    "from sklearn.metrics import mean_squared_error\n",
    "from sklearn.preprocessing import LabelEncoder, OneHotEncoder\n",
    "import xgboost as xgb"
   ]
  },
  {
   "cell_type": "code",
   "execution_count": 2,
   "metadata": {},
   "outputs": [
    {
     "data": {
      "text/html": [
       "        <script type=\"text/javascript\">\n",
       "        window.PlotlyConfig = {MathJaxConfig: 'local'};\n",
       "        if (window.MathJax) {MathJax.Hub.Config({SVG: {font: \"STIX-Web\"}});}\n",
       "        if (typeof require !== 'undefined') {\n",
       "        require.undef(\"plotly\");\n",
       "        requirejs.config({\n",
       "            paths: {\n",
       "                'plotly': ['https://cdn.plot.ly/plotly-latest.min']\n",
       "            }\n",
       "        });\n",
       "        require(['plotly'], function(Plotly) {\n",
       "            window._Plotly = Plotly;\n",
       "        });\n",
       "        }\n",
       "        </script>\n",
       "        "
      ]
     },
     "metadata": {},
     "output_type": "display_data"
    }
   ],
   "source": [
    "# Tell plotly to plot in a notebook\n",
    "offline.init_notebook_mode(connected=True)"
   ]
  },
  {
   "cell_type": "markdown",
   "metadata": {},
   "source": [
    "### Load and plot data"
   ]
  },
  {
   "cell_type": "code",
   "execution_count": 3,
   "metadata": {},
   "outputs": [],
   "source": [
    "# Load data\n",
    "store = pd.read_csv('data/store.csv')\n",
    "train = pd.read_csv('data/train.csv', dtype = {'StateHoliday': np.str})\n",
    "\n",
    "# Merge\n",
    "train = pd.merge(store, train, on='Store')\n",
    "train = date_convert(train)\n",
    "\n",
    "# Split\n",
    "end_val = np.floor(0.8 * train.shape[0]).astype(int)\n",
    "end_test = np.floor(0.9 * train.shape[0]).astype(int)\n",
    "\n",
    "Train = train.loc[:end_val]\n",
    "Val = train.loc[end_val:end_test]\n",
    "Test = train.loc[end_test:]"
   ]
  },
  {
   "cell_type": "code",
   "execution_count": 5,
   "metadata": {},
   "outputs": [],
   "source": [
    "#plot_hists(train, name='train')"
   ]
  },
  {
   "cell_type": "code",
   "execution_count": null,
   "metadata": {},
   "outputs": [],
   "source": [
    "#plot_hists(store, name='store')"
   ]
  },
  {
   "cell_type": "markdown",
   "metadata": {},
   "source": [
    "### Feature engineering "
   ]
  },
  {
   "cell_type": "code",
   "execution_count": 4,
   "metadata": {},
   "outputs": [
    {
     "name": "stderr",
     "output_type": "stream",
     "text": [
      "/home/stas/anaconda3/envs/comp1/lib/python3.6/site-packages/pandas/core/series.py:853: RuntimeWarning:\n",
      "\n",
      "invalid value encountered in log\n",
      "\n"
     ]
    }
   ],
   "source": [
    "# Clean data, construct new features for xgboost\n",
    "Train = data_transformation(Train)\n",
    "Val = data_transformation(Val)\n",
    "Test = data_transformation(Test)"
   ]
  },
  {
   "cell_type": "code",
   "execution_count": 6,
   "metadata": {},
   "outputs": [],
   "source": [
    "# OHE\n",
    "cols = Train.select_dtypes(include='object').columns.tolist()\n",
    "\n",
    "for col in cols:\n",
    "    Train[col] = Train[col].astype(str)\n",
    "    Val[col] = Val[col].astype(str)\n",
    "    Test[col] = Test[col].astype(str)\n",
    "\n",
    "ohe = OneHotEncoder(handle_unknown='ignore')\n",
    "ohe_train = pd.DataFrame()\n",
    "ohe_val = pd.DataFrame()\n",
    "ohe_test = pd.DataFrame()\n",
    "\n",
    "\n",
    "for col in cols:\n",
    "    ohe.fit(np.array(Train[col]).reshape(-1,1))\n",
    "    ohe_train_tmp = pd.DataFrame(columns=ohe.categories_, \\\n",
    "                                 data=ohe.transform(np.array(Train[col]).reshape(-1,1)).toarray())\n",
    "    ohe_val_tmp = pd.DataFrame(columns=ohe.categories_, \\\n",
    "                                 data=ohe.transform(np.array(Val[col]).reshape(-1,1)).toarray()) \n",
    "    ohe_test_tmp = pd.DataFrame(columns=ohe.categories_, \\\n",
    "                                 data=ohe.transform(np.array(Test[col]).reshape(-1,1)).toarray()) \n",
    "    ohe_train = pd.concat([ohe_train, ohe_train_tmp], axis=1)\n",
    "    ohe_val = pd.concat([ohe_val, ohe_val_tmp], axis=1)\n",
    "    ohe_test = pd.concat([ohe_test, ohe_test_tmp], axis=1)"
   ]
  },
  {
   "cell_type": "code",
   "execution_count": 7,
   "metadata": {},
   "outputs": [],
   "source": [
    "# Drop columns\n",
    "Train.drop(axis=1, labels=cols, inplace=True)\n",
    "Val.drop(axis=1, labels=cols, inplace=True)\n",
    "Test.drop(axis=1, labels=cols, inplace=True)"
   ]
  },
  {
   "cell_type": "code",
   "execution_count": 10,
   "metadata": {},
   "outputs": [],
   "source": [
    "# Concat\n",
    "Train = pd.concat([Train.reset_index(), ohe_train], axis=1)\n",
    "Val = pd.concat([Val.reset_index(), ohe_val], axis=1)\n",
    "Test = pd.concat([Test.reset_index(), ohe_test], axis=1)"
   ]
  },
  {
   "cell_type": "code",
   "execution_count": 13,
   "metadata": {},
   "outputs": [],
   "source": [
    "# Write data to csv to reuse it fast\n",
    "#Train.to_csv('data/stasTrain.csv', index=False)\n",
    "#Test.to_csv('data/stasTest.csv', index=False)\n",
    "#Val.to_csv('data/stasVal.csv', index=False)"
   ]
  },
  {
   "cell_type": "code",
   "execution_count": 34,
   "metadata": {},
   "outputs": [],
   "source": [
    "Train = pd.read_csv('data/stasTrain.csv', index_col=False).drop(axis=1, labels='index')\n",
    "Val = pd.read_csv('data/stasVal.csv', index_col=False).drop(axis=1, labels='index')\n",
    "Test = pd.read_csv('data/stasTest.csv', index_col=False).drop(axis=1, labels='index')"
   ]
  },
  {
   "cell_type": "code",
   "execution_count": 16,
   "metadata": {},
   "outputs": [],
   "source": [
    "# Create X_train, y_train and so on\n",
    "X_train = Train.drop(axis=1, labels=['Sales, Index'])\n",
    "X_train = X_train\n",
    "y_train = Train['Sales']\n",
    "X_val = Val.drop(axis=1, labels=['Sales, Index'])\n",
    "y_val = Val['Sales']\n",
    "X_test = Test.drop(axis=1, labels=['Sales, Index,'])\n",
    "y_test = Test['Sales']"
   ]
  },
  {
   "cell_type": "markdown",
   "metadata": {},
   "source": [
    "### Training"
   ]
  },
  {
   "cell_type": "code",
   "execution_count": 71,
   "metadata": {},
   "outputs": [
    {
     "name": "stderr",
     "output_type": "stream",
     "text": [
      "\n",
      "  0%|          | 0/50 [00:00<?, ?it/s]\u001b[A"
     ]
    },
    {
     "name": "stdout",
     "output_type": "stream",
     "text": [
      "(0.05, 2489, 3, 0.8, 0.7, 0.3, 5.0)\n"
     ]
    },
    {
     "name": "stderr",
     "output_type": "stream",
     "text": [
      "\n",
      "  2%|▏         | 1/50 [00:37<30:34, 37.44s/it]\u001b[A"
     ]
    },
    {
     "name": "stdout",
     "output_type": "stream",
     "text": [
      "(0.1, 3520, 6, 0.8, 0.6, 0.8, 0.5)\n"
     ]
    },
    {
     "name": "stderr",
     "output_type": "stream",
     "text": [
      "\n",
      "  4%|▍         | 2/50 [01:12<29:25, 36.77s/it]\u001b[A"
     ]
    },
    {
     "name": "stdout",
     "output_type": "stream",
     "text": [
      "(0.001, 3266, 5, 1.0, 0.5, 0.6, 2.0)\n"
     ]
    },
    {
     "name": "stderr",
     "output_type": "stream",
     "text": [
      "\n",
      "  6%|▌         | 3/50 [03:47<56:29, 72.11s/it]\u001b[A"
     ]
    },
    {
     "name": "stdout",
     "output_type": "stream",
     "text": [
      "(0.001, 2961, 6, 1.0, 0.6, 0.7, 3.0)\n"
     ]
    },
    {
     "name": "stderr",
     "output_type": "stream",
     "text": [
      "\n",
      "  8%|▊         | 4/50 [07:03<1:23:54, 109.45s/it]\u001b[A"
     ]
    },
    {
     "name": "stdout",
     "output_type": "stream",
     "text": [
      "(0.05, 3950, 5, 0.9, 0.6, 0.5, 1.0)\n"
     ]
    },
    {
     "name": "stderr",
     "output_type": "stream",
     "text": [
      "\n",
      " 10%|█         | 5/50 [07:55<1:09:02, 92.06s/it] \u001b[A"
     ]
    },
    {
     "name": "stdout",
     "output_type": "stream",
     "text": [
      "(0.1, 1210, 4, 0.9, 0.3, 0.6, 3.0)\n"
     ]
    },
    {
     "name": "stderr",
     "output_type": "stream",
     "text": [
      "\n",
      " 12%|█▏        | 6/50 [08:09<50:25, 68.77s/it]  \u001b[A"
     ]
    },
    {
     "name": "stdout",
     "output_type": "stream",
     "text": [
      "(0.1, 2223, 7, 1.0, 0.7, 0.5, 0.5)\n"
     ]
    },
    {
     "name": "stderr",
     "output_type": "stream",
     "text": [
      "\n",
      " 14%|█▍        | 7/50 [08:34<39:44, 55.46s/it]\u001b[A"
     ]
    },
    {
     "name": "stdout",
     "output_type": "stream",
     "text": [
      "(0.05, 2855, 6, 1.0, 0.3, 0.6, 3.0)\n"
     ]
    },
    {
     "name": "stderr",
     "output_type": "stream",
     "text": [
      "\n",
      " 16%|█▌        | 8/50 [09:07<34:10, 48.81s/it]\u001b[A"
     ]
    },
    {
     "name": "stdout",
     "output_type": "stream",
     "text": [
      "(0.001, 3064, 7, 0.8, 0.6, 0.5, 0.5)\n"
     ]
    },
    {
     "name": "stderr",
     "output_type": "stream",
     "text": [
      "\n",
      " 18%|█▊        | 9/50 [12:42<1:07:24, 98.63s/it]\u001b[A"
     ]
    },
    {
     "name": "stdout",
     "output_type": "stream",
     "text": [
      "(0.1, 2857, 4, 1.0, 0.8, 0.6, 2.0)\n"
     ]
    },
    {
     "name": "stderr",
     "output_type": "stream",
     "text": [
      "\n",
      " 20%|██        | 10/50 [13:05<50:42, 76.06s/it] \u001b[A"
     ]
    },
    {
     "name": "stdout",
     "output_type": "stream",
     "text": [
      "(0.001, 2150, 4, 1.0, 0.5, 0.7, 5.0)\n"
     ]
    },
    {
     "name": "stderr",
     "output_type": "stream",
     "text": [
      "\n",
      " 22%|██▏       | 11/50 [14:34<51:50, 79.76s/it]\u001b[A"
     ]
    },
    {
     "name": "stdout",
     "output_type": "stream",
     "text": [
      "(0.1, 3614, 4, 1.0, 0.3, 0.5, 0.1)\n"
     ]
    },
    {
     "name": "stderr",
     "output_type": "stream",
     "text": [
      "\n",
      " 24%|██▍       | 12/50 [15:04<41:09, 64.99s/it]\u001b[A"
     ]
    },
    {
     "name": "stdout",
     "output_type": "stream",
     "text": [
      "(0.001, 1669, 7, 1.0, 0.7, 0.8, 1.0)\n"
     ]
    },
    {
     "name": "stderr",
     "output_type": "stream",
     "text": [
      "\n",
      " 26%|██▌       | 13/50 [17:38<56:29, 91.62s/it]\u001b[A"
     ]
    },
    {
     "name": "stdout",
     "output_type": "stream",
     "text": [
      "(0.1, 2897, 3, 0.9, 0.7, 0.5, 2.0)\n"
     ]
    },
    {
     "name": "stderr",
     "output_type": "stream",
     "text": [
      "\n",
      " 28%|██▊       | 14/50 [18:13<44:51, 74.77s/it]\u001b[A"
     ]
    },
    {
     "name": "stdout",
     "output_type": "stream",
     "text": [
      "(0.1, 2650, 7, 0.9, 0.3, 0.5, 0.5)\n"
     ]
    },
    {
     "name": "stderr",
     "output_type": "stream",
     "text": [
      "\n",
      " 30%|███       | 15/50 [18:34<34:05, 58.45s/it]\u001b[A"
     ]
    },
    {
     "name": "stdout",
     "output_type": "stream",
     "text": [
      "(0.1, 1981, 3, 0.8, 0.8, 0.6, 3.0)\n"
     ]
    },
    {
     "name": "stderr",
     "output_type": "stream",
     "text": [
      "\n",
      " 32%|███▏      | 16/50 [18:52<26:16, 46.36s/it]\u001b[A"
     ]
    },
    {
     "name": "stdout",
     "output_type": "stream",
     "text": [
      "(0.05, 3189, 6, 0.8, 0.4, 0.8, 0.5)\n"
     ]
    },
    {
     "name": "stderr",
     "output_type": "stream",
     "text": [
      "\n",
      " 34%|███▍      | 17/50 [19:34<24:50, 45.15s/it]\u001b[A"
     ]
    },
    {
     "name": "stdout",
     "output_type": "stream",
     "text": [
      "(0.1, 3150, 3, 1.0, 0.5, 0.3, 0.1)\n"
     ]
    },
    {
     "name": "stderr",
     "output_type": "stream",
     "text": [
      "\n",
      " 36%|███▌      | 18/50 [19:49<19:12, 36.00s/it]\u001b[A"
     ]
    },
    {
     "name": "stdout",
     "output_type": "stream",
     "text": [
      "(0.1, 3784, 7, 1.0, 0.7, 0.5, 3.0)\n"
     ]
    },
    {
     "name": "stderr",
     "output_type": "stream",
     "text": [
      "\n",
      " 38%|███▊      | 19/50 [20:13<16:46, 32.45s/it]\u001b[A"
     ]
    },
    {
     "name": "stdout",
     "output_type": "stream",
     "text": [
      "(0.1, 3459, 4, 0.8, 0.5, 0.6, 0.1)\n"
     ]
    },
    {
     "name": "stderr",
     "output_type": "stream",
     "text": [
      "\n",
      " 40%|████      | 20/50 [20:49<16:43, 33.46s/it]\u001b[A"
     ]
    },
    {
     "name": "stdout",
     "output_type": "stream",
     "text": [
      "(0.05, 1555, 5, 1.0, 0.3, 0.7, 4.0)\n"
     ]
    },
    {
     "name": "stderr",
     "output_type": "stream",
     "text": [
      "\n",
      " 42%|████▏     | 21/50 [21:34<17:51, 36.96s/it]\u001b[A"
     ]
    },
    {
     "name": "stdout",
     "output_type": "stream",
     "text": [
      "(0.1, 2689, 6, 0.9, 0.6, 0.8, 0.1)\n"
     ]
    },
    {
     "name": "stderr",
     "output_type": "stream",
     "text": [
      "\n",
      " 44%|████▍     | 22/50 [22:01<15:54, 34.08s/it]\u001b[A"
     ]
    },
    {
     "name": "stdout",
     "output_type": "stream",
     "text": [
      "(0.05, 2930, 6, 1.0, 0.7, 0.3, 2.0)\n"
     ]
    },
    {
     "name": "stderr",
     "output_type": "stream",
     "text": [
      "\n",
      " 46%|████▌     | 23/50 [22:42<16:15, 36.11s/it]\u001b[A"
     ]
    },
    {
     "name": "stdout",
     "output_type": "stream",
     "text": [
      "(0.05, 3330, 6, 1.0, 0.6, 0.8, 2.0)\n"
     ]
    },
    {
     "name": "stderr",
     "output_type": "stream",
     "text": [
      "\n",
      " 48%|████▊     | 24/50 [23:24<16:21, 37.74s/it]\u001b[A"
     ]
    },
    {
     "name": "stdout",
     "output_type": "stream",
     "text": [
      "(0.001, 1989, 6, 1.0, 0.7, 0.6, 0.1)\n"
     ]
    },
    {
     "name": "stderr",
     "output_type": "stream",
     "text": [
      "\n",
      " 50%|█████     | 25/50 [25:30<26:49, 64.36s/it]\u001b[A"
     ]
    },
    {
     "name": "stdout",
     "output_type": "stream",
     "text": [
      "(0.001, 2631, 5, 0.9, 0.8, 0.6, 1.0)\n"
     ]
    },
    {
     "name": "stderr",
     "output_type": "stream",
     "text": [
      "\n",
      " 52%|█████▏    | 26/50 [28:00<35:58, 89.93s/it]\u001b[A"
     ]
    },
    {
     "name": "stdout",
     "output_type": "stream",
     "text": [
      "(0.1, 1468, 7, 0.9, 0.3, 0.3, 0.5)\n"
     ]
    },
    {
     "name": "stderr",
     "output_type": "stream",
     "text": [
      "\n",
      " 54%|█████▍    | 27/50 [28:14<25:48, 67.31s/it]\u001b[A"
     ]
    },
    {
     "name": "stdout",
     "output_type": "stream",
     "text": [
      "(0.1, 1322, 7, 0.8, 0.8, 0.5, 5.0)\n"
     ]
    },
    {
     "name": "stderr",
     "output_type": "stream",
     "text": [
      "\n",
      " 56%|█████▌    | 28/50 [28:38<19:53, 54.27s/it]\u001b[A"
     ]
    },
    {
     "name": "stdout",
     "output_type": "stream",
     "text": [
      "(0.001, 1955, 6, 0.9, 0.3, 0.8, 5.0)\n"
     ]
    },
    {
     "name": "stderr",
     "output_type": "stream",
     "text": [
      "\n",
      " 58%|█████▊    | 29/50 [30:09<22:49, 65.21s/it]\u001b[A"
     ]
    },
    {
     "name": "stdout",
     "output_type": "stream",
     "text": [
      "(0.001, 3635, 3, 1.0, 0.8, 0.7, 0.5)\n"
     ]
    },
    {
     "name": "stderr",
     "output_type": "stream",
     "text": [
      "\n",
      " 60%|██████    | 30/50 [32:38<30:05, 90.29s/it]\u001b[A"
     ]
    },
    {
     "name": "stdout",
     "output_type": "stream",
     "text": [
      "(0.001, 2161, 6, 1.0, 0.8, 0.7, 4.0)\n"
     ]
    },
    {
     "name": "stderr",
     "output_type": "stream",
     "text": [
      "\n",
      " 62%|██████▏   | 31/50 [35:25<35:57, 113.55s/it]\u001b[A"
     ]
    },
    {
     "name": "stdout",
     "output_type": "stream",
     "text": [
      "(0.001, 3632, 7, 1.0, 0.6, 0.5, 4.0)\n"
     ]
    },
    {
     "name": "stderr",
     "output_type": "stream",
     "text": [
      "\n",
      " 64%|██████▍   | 32/50 [39:23<45:12, 150.72s/it]\u001b[A"
     ]
    },
    {
     "name": "stdout",
     "output_type": "stream",
     "text": [
      "(0.05, 3812, 7, 1.0, 0.4, 0.7, 3.0)\n"
     ]
    },
    {
     "name": "stderr",
     "output_type": "stream",
     "text": [
      "\n",
      " 66%|██████▌   | 33/50 [39:55<32:37, 115.17s/it]\u001b[A"
     ]
    },
    {
     "name": "stdout",
     "output_type": "stream",
     "text": [
      "(0.05, 3966, 6, 0.9, 0.3, 0.7, 0.1)\n"
     ]
    },
    {
     "name": "stderr",
     "output_type": "stream",
     "text": [
      "\n",
      " 68%|██████▊   | 34/50 [40:39<24:58, 93.65s/it] \u001b[A"
     ]
    },
    {
     "name": "stdout",
     "output_type": "stream",
     "text": [
      "(0.1, 1745, 6, 0.8, 0.6, 0.3, 4.0)\n"
     ]
    },
    {
     "name": "stderr",
     "output_type": "stream",
     "text": [
      "\n",
      " 70%|███████   | 35/50 [40:53<17:27, 69.80s/it]\u001b[A"
     ]
    },
    {
     "name": "stdout",
     "output_type": "stream",
     "text": [
      "(0.1, 1876, 6, 0.9, 0.3, 0.5, 1.0)\n"
     ]
    },
    {
     "name": "stderr",
     "output_type": "stream",
     "text": [
      "\n",
      " 72%|███████▏  | 36/50 [41:12<12:45, 54.68s/it]\u001b[A"
     ]
    },
    {
     "name": "stdout",
     "output_type": "stream",
     "text": [
      "(0.1, 2319, 5, 1.0, 0.7, 0.6, 3.0)\n"
     ]
    },
    {
     "name": "stderr",
     "output_type": "stream",
     "text": [
      "\n",
      " 74%|███████▍  | 37/50 [41:49<10:39, 49.19s/it]\u001b[A"
     ]
    },
    {
     "name": "stdout",
     "output_type": "stream",
     "text": [
      "(0.05, 2471, 4, 0.8, 0.4, 0.8, 4.0)\n"
     ]
    },
    {
     "name": "stderr",
     "output_type": "stream",
     "text": [
      "\n",
      " 76%|███████▌  | 38/50 [42:45<10:15, 51.25s/it]\u001b[A"
     ]
    },
    {
     "name": "stdout",
     "output_type": "stream",
     "text": [
      "(0.001, 1027, 4, 0.8, 0.5, 0.7, 2.0)\n"
     ]
    },
    {
     "name": "stderr",
     "output_type": "stream",
     "text": [
      "\n",
      " 78%|███████▊  | 39/50 [43:30<09:04, 49.52s/it]\u001b[A"
     ]
    },
    {
     "name": "stdout",
     "output_type": "stream",
     "text": [
      "(0.001, 2134, 5, 0.8, 0.8, 0.6, 1.0)\n"
     ]
    },
    {
     "name": "stderr",
     "output_type": "stream",
     "text": [
      "\n",
      " 80%|████████  | 40/50 [45:43<12:26, 74.65s/it]\u001b[A"
     ]
    },
    {
     "name": "stdout",
     "output_type": "stream",
     "text": [
      "(0.1, 2520, 6, 0.8, 0.7, 0.6, 5.0)\n"
     ]
    },
    {
     "name": "stderr",
     "output_type": "stream",
     "text": [
      "\n",
      " 82%|████████▏ | 41/50 [45:58<08:29, 56.63s/it]\u001b[A"
     ]
    },
    {
     "name": "stdout",
     "output_type": "stream",
     "text": [
      "(0.05, 1174, 4, 0.9, 0.4, 0.3, 2.0)\n"
     ]
    },
    {
     "name": "stderr",
     "output_type": "stream",
     "text": [
      "\n",
      " 84%|████████▍ | 42/50 [46:32<06:39, 49.88s/it]\u001b[A"
     ]
    },
    {
     "name": "stdout",
     "output_type": "stream",
     "text": [
      "(0.05, 1185, 3, 0.8, 0.3, 0.6, 5.0)\n"
     ]
    },
    {
     "name": "stderr",
     "output_type": "stream",
     "text": [
      "\n",
      " 86%|████████▌ | 43/50 [47:00<05:02, 43.16s/it]\u001b[A"
     ]
    },
    {
     "name": "stdout",
     "output_type": "stream",
     "text": [
      "(0.05, 1704, 5, 1.0, 0.3, 0.7, 5.0)\n"
     ]
    },
    {
     "name": "stderr",
     "output_type": "stream",
     "text": [
      "\n",
      " 88%|████████▊ | 44/50 [47:45<04:23, 43.84s/it]\u001b[A"
     ]
    },
    {
     "name": "stdout",
     "output_type": "stream",
     "text": [
      "(0.001, 3850, 4, 1.0, 0.3, 0.5, 0.5)\n"
     ]
    },
    {
     "name": "stderr",
     "output_type": "stream",
     "text": [
      "\n",
      " 90%|█████████ | 45/50 [49:43<05:30, 66.10s/it]\u001b[A"
     ]
    },
    {
     "name": "stdout",
     "output_type": "stream",
     "text": [
      "(0.001, 1999, 7, 0.9, 0.5, 0.7, 0.1)\n"
     ]
    },
    {
     "name": "stderr",
     "output_type": "stream",
     "text": [
      "\n",
      " 92%|█████████▏| 46/50 [52:09<05:59, 89.97s/it]\u001b[A"
     ]
    },
    {
     "name": "stdout",
     "output_type": "stream",
     "text": [
      "(0.05, 1413, 4, 0.8, 0.7, 0.3, 0.1)\n"
     ]
    },
    {
     "name": "stderr",
     "output_type": "stream",
     "text": [
      "\n",
      " 94%|█████████▍| 47/50 [52:46<03:42, 74.04s/it]\u001b[A"
     ]
    },
    {
     "name": "stdout",
     "output_type": "stream",
     "text": [
      "(0.05, 1229, 7, 1.0, 0.3, 0.3, 5.0)\n"
     ]
    },
    {
     "name": "stderr",
     "output_type": "stream",
     "text": [
      "\n",
      " 96%|█████████▌| 48/50 [53:31<02:10, 65.37s/it]\u001b[A"
     ]
    },
    {
     "name": "stdout",
     "output_type": "stream",
     "text": [
      "(0.001, 3407, 4, 0.8, 0.3, 0.5, 2.0)\n"
     ]
    },
    {
     "name": "stderr",
     "output_type": "stream",
     "text": [
      "\n",
      " 98%|█████████▊| 49/50 [55:18<01:17, 77.99s/it]\u001b[A"
     ]
    },
    {
     "name": "stdout",
     "output_type": "stream",
     "text": [
      "(0.05, 2497, 3, 0.8, 0.8, 0.3, 4.0)\n"
     ]
    },
    {
     "name": "stderr",
     "output_type": "stream",
     "text": [
      "\n",
      "100%|██████████| 50/50 [55:56<00:00, 67.14s/it]\u001b[A\n"
     ]
    }
   ],
   "source": [
    "# XGBoost\n",
    "params = {\n",
    "        'max_depth': [3, 4, 5, 6, 7],\n",
    "        'learning_rate': [0.001, 0.05, 0.1],\n",
    "        'subsample': [0.8, 0.9, 1.0],\n",
    "        'colsample_bytree': [0.3, 0.4, 0.5, 0.6, 0.7, 0.8],\n",
    "        'colsample_bylevel': [0.3, 0.5, 0.6, 0.7, 0.8],\n",
    "        'reg_lambda' : [0.1, 0.5, 1.0, 2, 3, 4, 5],\n",
    "        'n_estimators': [1000, 4000]\n",
    "}\n",
    "\n",
    "ind = np.random.randint(0, X_train.shape[0], size=50000)\n",
    "xgb_params = parameter_search(X_train.iloc[ind], y_train.iloc[ind], method='xgboost', params=params, steps=50)"
   ]
  },
  {
   "cell_type": "code",
   "execution_count": 154,
   "metadata": {},
   "outputs": [
    {
     "name": "stderr",
     "output_type": "stream",
     "text": [
      "\n",
      "\n",
      "\n",
      "\n",
      "\n",
      "\n",
      "\n",
      "\n",
      "\n",
      "\n",
      "\n",
      "\n",
      "  0%|          | 0/25 [00:00<?, ?it/s]\u001b[A\u001b[A\u001b[A\u001b[A\u001b[A\u001b[A\u001b[A\u001b[A\u001b[A\u001b[A\u001b[A\u001b[A"
     ]
    },
    {
     "name": "stdout",
     "output_type": "stream",
     "text": [
      "(11276, 3, 0.8)\n"
     ]
    },
    {
     "name": "stderr",
     "output_type": "stream",
     "text": [
      "\n",
      "\n",
      "\n",
      "\n",
      "\n",
      "\n",
      "\n",
      "\n",
      "\n",
      "\n",
      "\n",
      "\n",
      "  4%|▍         | 1/25 [09:06<3:38:42, 546.77s/it]\u001b[A\u001b[A\u001b[A\u001b[A\u001b[A\u001b[A\u001b[A\u001b[A\u001b[A\u001b[A\u001b[A\u001b[A"
     ]
    },
    {
     "name": "stdout",
     "output_type": "stream",
     "text": [
      "(12516, 7, 0.9)\n"
     ]
    },
    {
     "name": "stderr",
     "output_type": "stream",
     "text": [
      "\n",
      "\n",
      "\n",
      "\n",
      "\n",
      "\n",
      "\n",
      "\n",
      "\n",
      "\n",
      "\n",
      "\n",
      "  8%|▊         | 2/25 [32:25<5:07:34, 802.38s/it]\u001b[A\u001b[A\u001b[A\u001b[A\u001b[A\u001b[A\u001b[A\u001b[A\u001b[A\u001b[A\u001b[A\u001b[A"
     ]
    },
    {
     "name": "stdout",
     "output_type": "stream",
     "text": [
      "(10089, 4, 0.8)\n"
     ]
    },
    {
     "name": "stderr",
     "output_type": "stream",
     "text": [
      "\n",
      "\n",
      "\n",
      "\n",
      "\n",
      "\n",
      "\n",
      "\n",
      "\n",
      "\n",
      "\n",
      "\n",
      " 12%|█▏        | 3/25 [43:03<4:36:08, 753.11s/it]\u001b[A\u001b[A\u001b[A\u001b[A\u001b[A\u001b[A\u001b[A\u001b[A\u001b[A\u001b[A\u001b[A\u001b[A"
     ]
    },
    {
     "name": "stdout",
     "output_type": "stream",
     "text": [
      "(6339, 4, 1.0)\n"
     ]
    },
    {
     "name": "stderr",
     "output_type": "stream",
     "text": [
      "\n",
      "\n",
      "\n",
      "\n",
      "\n",
      "\n",
      "\n",
      "\n",
      "\n",
      "\n",
      "\n",
      "\n",
      " 16%|█▌        | 4/25 [51:22<3:56:50, 676.68s/it]\u001b[A\u001b[A\u001b[A\u001b[A\u001b[A\u001b[A\u001b[A\u001b[A\u001b[A\u001b[A\u001b[A\u001b[A"
     ]
    },
    {
     "name": "stdout",
     "output_type": "stream",
     "text": [
      "(5946, 7, 0.8)\n"
     ]
    },
    {
     "name": "stderr",
     "output_type": "stream",
     "text": [
      "\n",
      "\n",
      "\n",
      "\n",
      "\n",
      "\n",
      "\n",
      "\n",
      "\n",
      "\n",
      "\n",
      "\n",
      " 20%|██        | 5/25 [1:01:13<3:37:04, 651.22s/it]\u001b[A\u001b[A\u001b[A\u001b[A\u001b[A\u001b[A\u001b[A\u001b[A\u001b[A\u001b[A\u001b[A\u001b[A"
     ]
    },
    {
     "name": "stdout",
     "output_type": "stream",
     "text": [
      "(7111, 3, 1.0)\n"
     ]
    },
    {
     "name": "stderr",
     "output_type": "stream",
     "text": [
      "\n",
      "\n",
      "\n",
      "\n",
      "\n",
      "\n",
      "\n",
      "\n",
      "\n",
      "\n",
      "\n",
      "\n",
      " 24%|██▍       | 6/25 [1:08:22<3:05:04, 584.46s/it]\u001b[A\u001b[A\u001b[A\u001b[A\u001b[A\u001b[A\u001b[A\u001b[A\u001b[A\u001b[A\u001b[A\u001b[A"
     ]
    },
    {
     "name": "stdout",
     "output_type": "stream",
     "text": [
      "(5695, 4, 1.0)\n"
     ]
    },
    {
     "name": "stderr",
     "output_type": "stream",
     "text": [
      "\n",
      "\n",
      "\n",
      "\n",
      "\n",
      "\n",
      "\n",
      "\n",
      "\n",
      "\n",
      "\n",
      "\n",
      " 28%|██▊       | 7/25 [1:15:52<2:43:11, 543.97s/it]\u001b[A\u001b[A\u001b[A\u001b[A\u001b[A\u001b[A\u001b[A\u001b[A\u001b[A\u001b[A\u001b[A\u001b[A"
     ]
    },
    {
     "name": "stdout",
     "output_type": "stream",
     "text": [
      "(7575, 4, 0.8)\n"
     ]
    },
    {
     "name": "stderr",
     "output_type": "stream",
     "text": [
      "\n",
      "\n",
      "\n",
      "\n",
      "\n",
      "\n",
      "\n",
      "\n",
      "\n",
      "\n",
      "\n",
      "\n",
      " 32%|███▏      | 8/25 [1:23:51<2:28:40, 524.71s/it]\u001b[A\u001b[A\u001b[A\u001b[A\u001b[A\u001b[A\u001b[A\u001b[A\u001b[A\u001b[A\u001b[A\u001b[A"
     ]
    },
    {
     "name": "stdout",
     "output_type": "stream",
     "text": [
      "(14387, 4, 0.9)\n"
     ]
    },
    {
     "name": "stderr",
     "output_type": "stream",
     "text": [
      "\n",
      "\n",
      "\n",
      "\n",
      "\n",
      "\n",
      "\n",
      "\n",
      "\n",
      "\n",
      "\n",
      "\n",
      " 36%|███▌      | 9/25 [1:40:53<2:59:40, 673.75s/it]\u001b[A\u001b[A\u001b[A\u001b[A\u001b[A\u001b[A\u001b[A\u001b[A\u001b[A\u001b[A\u001b[A\u001b[A"
     ]
    },
    {
     "name": "stdout",
     "output_type": "stream",
     "text": [
      "(13548, 7, 0.9)\n"
     ]
    },
    {
     "name": "stderr",
     "output_type": "stream",
     "text": [
      "\n",
      "\n",
      "\n",
      "\n",
      "\n",
      "\n",
      "\n",
      "\n",
      "\n",
      "\n",
      "\n",
      "\n",
      " 40%|████      | 10/25 [2:06:11<3:51:47, 927.15s/it]\u001b[A\u001b[A\u001b[A\u001b[A\u001b[A\u001b[A\u001b[A\u001b[A\u001b[A\u001b[A\u001b[A\u001b[A"
     ]
    },
    {
     "name": "stdout",
     "output_type": "stream",
     "text": [
      "(10178, 6, 0.8)\n"
     ]
    },
    {
     "name": "stderr",
     "output_type": "stream",
     "text": [
      "\n",
      "\n",
      "\n",
      "\n",
      "\n",
      "\n",
      "\n",
      "\n",
      "\n",
      "\n",
      "\n",
      "\n",
      " 44%|████▍     | 11/25 [2:21:08<3:34:14, 918.15s/it]\u001b[A\u001b[A\u001b[A\u001b[A\u001b[A\u001b[A\u001b[A\u001b[A\u001b[A\u001b[A\u001b[A\u001b[A"
     ]
    },
    {
     "name": "stdout",
     "output_type": "stream",
     "text": [
      "(9092, 4, 0.9)\n"
     ]
    },
    {
     "name": "stderr",
     "output_type": "stream",
     "text": [
      "\n",
      "\n",
      "\n",
      "\n",
      "\n",
      "\n",
      "\n",
      "\n",
      "\n",
      "\n",
      "\n",
      "\n",
      " 48%|████▊     | 12/25 [2:31:56<3:01:21, 837.04s/it]\u001b[A\u001b[A\u001b[A\u001b[A\u001b[A\u001b[A\u001b[A\u001b[A\u001b[A\u001b[A\u001b[A\u001b[A"
     ]
    },
    {
     "name": "stdout",
     "output_type": "stream",
     "text": [
      "(10118, 4, 0.8)\n"
     ]
    },
    {
     "name": "stderr",
     "output_type": "stream",
     "text": [
      "\n",
      "\n",
      "\n",
      "\n",
      "\n",
      "\n",
      "\n",
      "\n",
      "\n",
      "\n",
      "\n",
      "\n",
      " 52%|█████▏    | 13/25 [2:42:37<2:35:37, 778.14s/it]\u001b[A\u001b[A\u001b[A\u001b[A\u001b[A\u001b[A\u001b[A\u001b[A\u001b[A\u001b[A\u001b[A\u001b[A"
     ]
    },
    {
     "name": "stdout",
     "output_type": "stream",
     "text": [
      "(7017, 3, 0.8)\n"
     ]
    },
    {
     "name": "stderr",
     "output_type": "stream",
     "text": [
      "\n",
      "\n",
      "\n",
      "\n",
      "\n",
      "\n",
      "\n",
      "\n",
      "\n",
      "\n",
      "\n",
      "\n",
      " 56%|█████▌    | 14/25 [2:48:18<1:58:35, 646.88s/it]\u001b[A\u001b[A\u001b[A\u001b[A\u001b[A\u001b[A\u001b[A\u001b[A\u001b[A\u001b[A\u001b[A\u001b[A"
     ]
    },
    {
     "name": "stdout",
     "output_type": "stream",
     "text": [
      "(13526, 7, 1.0)\n"
     ]
    },
    {
     "name": "stderr",
     "output_type": "stream",
     "text": [
      "\n",
      "\n",
      "\n",
      "\n",
      "\n",
      "\n",
      "\n",
      "\n",
      "\n",
      "\n",
      "\n",
      "\n",
      " 60%|██████    | 15/25 [3:16:24<2:39:47, 958.78s/it]\u001b[A\u001b[A\u001b[A\u001b[A\u001b[A\u001b[A\u001b[A\u001b[A\u001b[A\u001b[A\u001b[A\u001b[A"
     ]
    },
    {
     "name": "stdout",
     "output_type": "stream",
     "text": [
      "(12612, 7, 0.8)\n"
     ]
    },
    {
     "name": "stderr",
     "output_type": "stream",
     "text": [
      "\n",
      "\n",
      "\n",
      "\n",
      "\n",
      "\n",
      "\n",
      "\n",
      "\n",
      "\n",
      "\n",
      "\n",
      " 64%|██████▍   | 16/25 [3:37:22<2:37:16, 1048.51s/it]\u001b[A\u001b[A\u001b[A\u001b[A\u001b[A\u001b[A\u001b[A\u001b[A\u001b[A\u001b[A\u001b[A\u001b[A"
     ]
    },
    {
     "name": "stdout",
     "output_type": "stream",
     "text": [
      "(9879, 4, 0.9)\n"
     ]
    },
    {
     "name": "stderr",
     "output_type": "stream",
     "text": [
      "\n",
      "\n",
      "\n",
      "\n",
      "\n",
      "\n",
      "\n",
      "\n",
      "\n",
      "\n",
      "\n",
      "\n",
      " 68%|██████▊   | 17/25 [3:49:04<2:05:55, 944.46s/it] \u001b[A\u001b[A\u001b[A\u001b[A\u001b[A\u001b[A\u001b[A\u001b[A\u001b[A\u001b[A\u001b[A\u001b[A"
     ]
    },
    {
     "name": "stdout",
     "output_type": "stream",
     "text": [
      "(12721, 6, 1.0)\n"
     ]
    },
    {
     "name": "stderr",
     "output_type": "stream",
     "text": [
      "\n",
      "\n",
      "\n",
      "\n",
      "\n",
      "\n",
      "\n",
      "\n",
      "\n",
      "\n",
      "\n",
      "\n",
      " 72%|███████▏  | 18/25 [4:12:20<2:06:01, 1080.15s/it]\u001b[A\u001b[A\u001b[A\u001b[A\u001b[A\u001b[A\u001b[A\u001b[A\u001b[A\u001b[A\u001b[A\u001b[A"
     ]
    },
    {
     "name": "stdout",
     "output_type": "stream",
     "text": [
      "(9984, 6, 0.8)\n"
     ]
    },
    {
     "name": "stderr",
     "output_type": "stream",
     "text": [
      "\n",
      "\n",
      "\n",
      "\n",
      "\n",
      "\n",
      "\n",
      "\n",
      "\n",
      "\n",
      "\n",
      "\n",
      " 76%|███████▌  | 19/25 [4:26:57<1:41:55, 1019.23s/it]\u001b[A\u001b[A\u001b[A\u001b[A\u001b[A\u001b[A\u001b[A\u001b[A\u001b[A\u001b[A\u001b[A\u001b[A"
     ]
    },
    {
     "name": "stdout",
     "output_type": "stream",
     "text": [
      "(11878, 5, 0.9)\n"
     ]
    },
    {
     "name": "stderr",
     "output_type": "stream",
     "text": [
      "\n",
      "\n",
      "\n",
      "\n",
      "\n",
      "\n",
      "\n",
      "\n",
      "\n",
      "\n",
      "\n",
      "\n",
      " 80%|████████  | 20/25 [4:43:49<1:24:44, 1016.87s/it]\u001b[A\u001b[A\u001b[A\u001b[A\u001b[A\u001b[A\u001b[A\u001b[A\u001b[A\u001b[A\u001b[A\u001b[A"
     ]
    },
    {
     "name": "stdout",
     "output_type": "stream",
     "text": [
      "(10247, 6, 1.0)\n"
     ]
    },
    {
     "ename": "KeyboardInterrupt",
     "evalue": "",
     "output_type": "error",
     "traceback": [
      "\u001b[0;31m---------------------------------------------------------------------------\u001b[0m",
      "\u001b[0;31mKeyboardInterrupt\u001b[0m                         Traceback (most recent call last)",
      "\u001b[0;32m<ipython-input-154-d8555698bac9>\u001b[0m in \u001b[0;36m<module>\u001b[0;34m\u001b[0m\n\u001b[1;32m      7\u001b[0m \u001b[0;34m\u001b[0m\u001b[0m\n\u001b[1;32m      8\u001b[0m \u001b[0mind\u001b[0m \u001b[0;34m=\u001b[0m \u001b[0mnp\u001b[0m\u001b[0;34m.\u001b[0m\u001b[0mrandom\u001b[0m\u001b[0;34m.\u001b[0m\u001b[0mrandint\u001b[0m\u001b[0;34m(\u001b[0m\u001b[0;36m0\u001b[0m\u001b[0;34m,\u001b[0m \u001b[0mX_train\u001b[0m\u001b[0;34m.\u001b[0m\u001b[0mshape\u001b[0m\u001b[0;34m[\u001b[0m\u001b[0;36m0\u001b[0m\u001b[0;34m]\u001b[0m\u001b[0;34m,\u001b[0m \u001b[0msize\u001b[0m\u001b[0;34m=\u001b[0m\u001b[0;36m50000\u001b[0m\u001b[0;34m)\u001b[0m\u001b[0;34m\u001b[0m\u001b[0;34m\u001b[0m\u001b[0m\n\u001b[0;32m----> 9\u001b[0;31m \u001b[0mrf_params\u001b[0m \u001b[0;34m=\u001b[0m \u001b[0mparameter_search\u001b[0m\u001b[0;34m(\u001b[0m\u001b[0mX_train\u001b[0m\u001b[0;34m.\u001b[0m\u001b[0miloc\u001b[0m\u001b[0;34m[\u001b[0m\u001b[0mind\u001b[0m\u001b[0;34m]\u001b[0m\u001b[0;34m,\u001b[0m \u001b[0my_train\u001b[0m\u001b[0;34m.\u001b[0m\u001b[0miloc\u001b[0m\u001b[0;34m[\u001b[0m\u001b[0mind\u001b[0m\u001b[0;34m]\u001b[0m\u001b[0;34m,\u001b[0m \u001b[0mmethod\u001b[0m\u001b[0;34m=\u001b[0m\u001b[0;34m'rf'\u001b[0m\u001b[0;34m,\u001b[0m \u001b[0mparams\u001b[0m\u001b[0;34m=\u001b[0m\u001b[0mparams\u001b[0m\u001b[0;34m,\u001b[0m \u001b[0msteps\u001b[0m\u001b[0;34m=\u001b[0m\u001b[0;36m25\u001b[0m\u001b[0;34m)\u001b[0m\u001b[0;34m\u001b[0m\u001b[0;34m\u001b[0m\u001b[0m\n\u001b[0m",
      "\u001b[0;32m<ipython-input-146-cbf19cb92975>\u001b[0m in \u001b[0;36mparameter_search\u001b[0;34m(X, y, method, params, steps)\u001b[0m\n\u001b[1;32m     47\u001b[0m                                                 \u001b[0mmax_depth\u001b[0m\u001b[0;34m=\u001b[0m\u001b[0mmax_depth\u001b[0m\u001b[0;34m,\u001b[0m\u001b[0;34m\u001b[0m\u001b[0;34m\u001b[0m\u001b[0m\n\u001b[1;32m     48\u001b[0m                                                 max_features=max_features)\n\u001b[0;32m---> 49\u001b[0;31m                 \u001b[0mrf\u001b[0m\u001b[0;34m.\u001b[0m\u001b[0mfit\u001b[0m\u001b[0;34m(\u001b[0m\u001b[0mX_train\u001b[0m\u001b[0;34m,\u001b[0m \u001b[0my_train\u001b[0m\u001b[0;34m)\u001b[0m\u001b[0;34m\u001b[0m\u001b[0;34m\u001b[0m\u001b[0m\n\u001b[0m\u001b[1;32m     50\u001b[0m                 \u001b[0mpreds\u001b[0m \u001b[0;34m=\u001b[0m \u001b[0mrf\u001b[0m\u001b[0;34m.\u001b[0m\u001b[0mpredict\u001b[0m\u001b[0;34m(\u001b[0m\u001b[0mX_cv\u001b[0m\u001b[0;34m)\u001b[0m\u001b[0;34m\u001b[0m\u001b[0;34m\u001b[0m\u001b[0m\n\u001b[1;32m     51\u001b[0m                 \u001b[0mscore\u001b[0m\u001b[0;34m.\u001b[0m\u001b[0mappend\u001b[0m\u001b[0;34m(\u001b[0m\u001b[0;34m(\u001b[0m\u001b[0mn_estimators\u001b[0m\u001b[0;34m,\u001b[0m \u001b[0mmax_depth\u001b[0m\u001b[0;34m,\u001b[0m \u001b[0mmax_features\u001b[0m\u001b[0;34m,\u001b[0m \u001b[0madam_metric\u001b[0m\u001b[0;34m(\u001b[0m\u001b[0my_cv\u001b[0m\u001b[0;34m,\u001b[0m \u001b[0mpreds\u001b[0m\u001b[0;34m)\u001b[0m\u001b[0;34m)\u001b[0m\u001b[0;34m)\u001b[0m\u001b[0;34m\u001b[0m\u001b[0;34m\u001b[0m\u001b[0m\n",
      "\u001b[0;32m~/anaconda3/envs/comp1/lib/python3.6/site-packages/sklearn/ensemble/forest.py\u001b[0m in \u001b[0;36mfit\u001b[0;34m(self, X, y, sample_weight)\u001b[0m\n\u001b[1;32m    328\u001b[0m                     \u001b[0mt\u001b[0m\u001b[0;34m,\u001b[0m \u001b[0mself\u001b[0m\u001b[0;34m,\u001b[0m \u001b[0mX\u001b[0m\u001b[0;34m,\u001b[0m \u001b[0my\u001b[0m\u001b[0;34m,\u001b[0m \u001b[0msample_weight\u001b[0m\u001b[0;34m,\u001b[0m \u001b[0mi\u001b[0m\u001b[0;34m,\u001b[0m \u001b[0mlen\u001b[0m\u001b[0;34m(\u001b[0m\u001b[0mtrees\u001b[0m\u001b[0;34m)\u001b[0m\u001b[0;34m,\u001b[0m\u001b[0;34m\u001b[0m\u001b[0;34m\u001b[0m\u001b[0m\n\u001b[1;32m    329\u001b[0m                     verbose=self.verbose, class_weight=self.class_weight)\n\u001b[0;32m--> 330\u001b[0;31m                 for i, t in enumerate(trees))\n\u001b[0m\u001b[1;32m    331\u001b[0m \u001b[0;34m\u001b[0m\u001b[0m\n\u001b[1;32m    332\u001b[0m             \u001b[0;31m# Collect newly grown trees\u001b[0m\u001b[0;34m\u001b[0m\u001b[0;34m\u001b[0m\u001b[0;34m\u001b[0m\u001b[0m\n",
      "\u001b[0;32m~/anaconda3/envs/comp1/lib/python3.6/site-packages/joblib/parallel.py\u001b[0m in \u001b[0;36m__call__\u001b[0;34m(self, iterable)\u001b[0m\n\u001b[1;32m   1004\u001b[0m                 \u001b[0mself\u001b[0m\u001b[0;34m.\u001b[0m\u001b[0m_iterating\u001b[0m \u001b[0;34m=\u001b[0m \u001b[0mself\u001b[0m\u001b[0;34m.\u001b[0m\u001b[0m_original_iterator\u001b[0m \u001b[0;32mis\u001b[0m \u001b[0;32mnot\u001b[0m \u001b[0;32mNone\u001b[0m\u001b[0;34m\u001b[0m\u001b[0;34m\u001b[0m\u001b[0m\n\u001b[1;32m   1005\u001b[0m \u001b[0;34m\u001b[0m\u001b[0m\n\u001b[0;32m-> 1006\u001b[0;31m             \u001b[0;32mwhile\u001b[0m \u001b[0mself\u001b[0m\u001b[0;34m.\u001b[0m\u001b[0mdispatch_one_batch\u001b[0m\u001b[0;34m(\u001b[0m\u001b[0miterator\u001b[0m\u001b[0;34m)\u001b[0m\u001b[0;34m:\u001b[0m\u001b[0;34m\u001b[0m\u001b[0;34m\u001b[0m\u001b[0m\n\u001b[0m\u001b[1;32m   1007\u001b[0m                 \u001b[0;32mpass\u001b[0m\u001b[0;34m\u001b[0m\u001b[0;34m\u001b[0m\u001b[0m\n\u001b[1;32m   1008\u001b[0m \u001b[0;34m\u001b[0m\u001b[0m\n",
      "\u001b[0;32m~/anaconda3/envs/comp1/lib/python3.6/site-packages/joblib/parallel.py\u001b[0m in \u001b[0;36mdispatch_one_batch\u001b[0;34m(self, iterator)\u001b[0m\n\u001b[1;32m    832\u001b[0m                 \u001b[0;32mreturn\u001b[0m \u001b[0;32mFalse\u001b[0m\u001b[0;34m\u001b[0m\u001b[0;34m\u001b[0m\u001b[0m\n\u001b[1;32m    833\u001b[0m             \u001b[0;32melse\u001b[0m\u001b[0;34m:\u001b[0m\u001b[0;34m\u001b[0m\u001b[0;34m\u001b[0m\u001b[0m\n\u001b[0;32m--> 834\u001b[0;31m                 \u001b[0mself\u001b[0m\u001b[0;34m.\u001b[0m\u001b[0m_dispatch\u001b[0m\u001b[0;34m(\u001b[0m\u001b[0mtasks\u001b[0m\u001b[0;34m)\u001b[0m\u001b[0;34m\u001b[0m\u001b[0;34m\u001b[0m\u001b[0m\n\u001b[0m\u001b[1;32m    835\u001b[0m                 \u001b[0;32mreturn\u001b[0m \u001b[0;32mTrue\u001b[0m\u001b[0;34m\u001b[0m\u001b[0;34m\u001b[0m\u001b[0m\n\u001b[1;32m    836\u001b[0m \u001b[0;34m\u001b[0m\u001b[0m\n",
      "\u001b[0;32m~/anaconda3/envs/comp1/lib/python3.6/site-packages/joblib/parallel.py\u001b[0m in \u001b[0;36m_dispatch\u001b[0;34m(self, batch)\u001b[0m\n\u001b[1;32m    751\u001b[0m         \u001b[0;32mwith\u001b[0m \u001b[0mself\u001b[0m\u001b[0;34m.\u001b[0m\u001b[0m_lock\u001b[0m\u001b[0;34m:\u001b[0m\u001b[0;34m\u001b[0m\u001b[0;34m\u001b[0m\u001b[0m\n\u001b[1;32m    752\u001b[0m             \u001b[0mjob_idx\u001b[0m \u001b[0;34m=\u001b[0m \u001b[0mlen\u001b[0m\u001b[0;34m(\u001b[0m\u001b[0mself\u001b[0m\u001b[0;34m.\u001b[0m\u001b[0m_jobs\u001b[0m\u001b[0;34m)\u001b[0m\u001b[0;34m\u001b[0m\u001b[0;34m\u001b[0m\u001b[0m\n\u001b[0;32m--> 753\u001b[0;31m             \u001b[0mjob\u001b[0m \u001b[0;34m=\u001b[0m \u001b[0mself\u001b[0m\u001b[0;34m.\u001b[0m\u001b[0m_backend\u001b[0m\u001b[0;34m.\u001b[0m\u001b[0mapply_async\u001b[0m\u001b[0;34m(\u001b[0m\u001b[0mbatch\u001b[0m\u001b[0;34m,\u001b[0m \u001b[0mcallback\u001b[0m\u001b[0;34m=\u001b[0m\u001b[0mcb\u001b[0m\u001b[0;34m)\u001b[0m\u001b[0;34m\u001b[0m\u001b[0;34m\u001b[0m\u001b[0m\n\u001b[0m\u001b[1;32m    754\u001b[0m             \u001b[0;31m# A job can complete so quickly than its callback is\u001b[0m\u001b[0;34m\u001b[0m\u001b[0;34m\u001b[0m\u001b[0;34m\u001b[0m\u001b[0m\n\u001b[1;32m    755\u001b[0m             \u001b[0;31m# called before we get here, causing self._jobs to\u001b[0m\u001b[0;34m\u001b[0m\u001b[0;34m\u001b[0m\u001b[0;34m\u001b[0m\u001b[0m\n",
      "\u001b[0;32m~/anaconda3/envs/comp1/lib/python3.6/site-packages/joblib/_parallel_backends.py\u001b[0m in \u001b[0;36mapply_async\u001b[0;34m(self, func, callback)\u001b[0m\n\u001b[1;32m    199\u001b[0m     \u001b[0;32mdef\u001b[0m \u001b[0mapply_async\u001b[0m\u001b[0;34m(\u001b[0m\u001b[0mself\u001b[0m\u001b[0;34m,\u001b[0m \u001b[0mfunc\u001b[0m\u001b[0;34m,\u001b[0m \u001b[0mcallback\u001b[0m\u001b[0;34m=\u001b[0m\u001b[0;32mNone\u001b[0m\u001b[0;34m)\u001b[0m\u001b[0;34m:\u001b[0m\u001b[0;34m\u001b[0m\u001b[0;34m\u001b[0m\u001b[0m\n\u001b[1;32m    200\u001b[0m         \u001b[0;34m\"\"\"Schedule a func to be run\"\"\"\u001b[0m\u001b[0;34m\u001b[0m\u001b[0;34m\u001b[0m\u001b[0m\n\u001b[0;32m--> 201\u001b[0;31m         \u001b[0mresult\u001b[0m \u001b[0;34m=\u001b[0m \u001b[0mImmediateResult\u001b[0m\u001b[0;34m(\u001b[0m\u001b[0mfunc\u001b[0m\u001b[0;34m)\u001b[0m\u001b[0;34m\u001b[0m\u001b[0;34m\u001b[0m\u001b[0m\n\u001b[0m\u001b[1;32m    202\u001b[0m         \u001b[0;32mif\u001b[0m \u001b[0mcallback\u001b[0m\u001b[0;34m:\u001b[0m\u001b[0;34m\u001b[0m\u001b[0;34m\u001b[0m\u001b[0m\n\u001b[1;32m    203\u001b[0m             \u001b[0mcallback\u001b[0m\u001b[0;34m(\u001b[0m\u001b[0mresult\u001b[0m\u001b[0;34m)\u001b[0m\u001b[0;34m\u001b[0m\u001b[0;34m\u001b[0m\u001b[0m\n",
      "\u001b[0;32m~/anaconda3/envs/comp1/lib/python3.6/site-packages/joblib/_parallel_backends.py\u001b[0m in \u001b[0;36m__init__\u001b[0;34m(self, batch)\u001b[0m\n\u001b[1;32m    580\u001b[0m         \u001b[0;31m# Don't delay the application, to avoid keeping the input\u001b[0m\u001b[0;34m\u001b[0m\u001b[0;34m\u001b[0m\u001b[0;34m\u001b[0m\u001b[0m\n\u001b[1;32m    581\u001b[0m         \u001b[0;31m# arguments in memory\u001b[0m\u001b[0;34m\u001b[0m\u001b[0;34m\u001b[0m\u001b[0;34m\u001b[0m\u001b[0m\n\u001b[0;32m--> 582\u001b[0;31m         \u001b[0mself\u001b[0m\u001b[0;34m.\u001b[0m\u001b[0mresults\u001b[0m \u001b[0;34m=\u001b[0m \u001b[0mbatch\u001b[0m\u001b[0;34m(\u001b[0m\u001b[0;34m)\u001b[0m\u001b[0;34m\u001b[0m\u001b[0;34m\u001b[0m\u001b[0m\n\u001b[0m\u001b[1;32m    583\u001b[0m \u001b[0;34m\u001b[0m\u001b[0m\n\u001b[1;32m    584\u001b[0m     \u001b[0;32mdef\u001b[0m \u001b[0mget\u001b[0m\u001b[0;34m(\u001b[0m\u001b[0mself\u001b[0m\u001b[0;34m)\u001b[0m\u001b[0;34m:\u001b[0m\u001b[0;34m\u001b[0m\u001b[0;34m\u001b[0m\u001b[0m\n",
      "\u001b[0;32m~/anaconda3/envs/comp1/lib/python3.6/site-packages/joblib/parallel.py\u001b[0m in \u001b[0;36m__call__\u001b[0;34m(self)\u001b[0m\n\u001b[1;32m    254\u001b[0m         \u001b[0;32mwith\u001b[0m \u001b[0mparallel_backend\u001b[0m\u001b[0;34m(\u001b[0m\u001b[0mself\u001b[0m\u001b[0;34m.\u001b[0m\u001b[0m_backend\u001b[0m\u001b[0;34m,\u001b[0m \u001b[0mn_jobs\u001b[0m\u001b[0;34m=\u001b[0m\u001b[0mself\u001b[0m\u001b[0;34m.\u001b[0m\u001b[0m_n_jobs\u001b[0m\u001b[0;34m)\u001b[0m\u001b[0;34m:\u001b[0m\u001b[0;34m\u001b[0m\u001b[0;34m\u001b[0m\u001b[0m\n\u001b[1;32m    255\u001b[0m             return [func(*args, **kwargs)\n\u001b[0;32m--> 256\u001b[0;31m                     for func, args, kwargs in self.items]\n\u001b[0m\u001b[1;32m    257\u001b[0m \u001b[0;34m\u001b[0m\u001b[0m\n\u001b[1;32m    258\u001b[0m     \u001b[0;32mdef\u001b[0m \u001b[0m__len__\u001b[0m\u001b[0;34m(\u001b[0m\u001b[0mself\u001b[0m\u001b[0;34m)\u001b[0m\u001b[0;34m:\u001b[0m\u001b[0;34m\u001b[0m\u001b[0;34m\u001b[0m\u001b[0m\n",
      "\u001b[0;32m~/anaconda3/envs/comp1/lib/python3.6/site-packages/joblib/parallel.py\u001b[0m in \u001b[0;36m<listcomp>\u001b[0;34m(.0)\u001b[0m\n\u001b[1;32m    254\u001b[0m         \u001b[0;32mwith\u001b[0m \u001b[0mparallel_backend\u001b[0m\u001b[0;34m(\u001b[0m\u001b[0mself\u001b[0m\u001b[0;34m.\u001b[0m\u001b[0m_backend\u001b[0m\u001b[0;34m,\u001b[0m \u001b[0mn_jobs\u001b[0m\u001b[0;34m=\u001b[0m\u001b[0mself\u001b[0m\u001b[0;34m.\u001b[0m\u001b[0m_n_jobs\u001b[0m\u001b[0;34m)\u001b[0m\u001b[0;34m:\u001b[0m\u001b[0;34m\u001b[0m\u001b[0;34m\u001b[0m\u001b[0m\n\u001b[1;32m    255\u001b[0m             return [func(*args, **kwargs)\n\u001b[0;32m--> 256\u001b[0;31m                     for func, args, kwargs in self.items]\n\u001b[0m\u001b[1;32m    257\u001b[0m \u001b[0;34m\u001b[0m\u001b[0m\n\u001b[1;32m    258\u001b[0m     \u001b[0;32mdef\u001b[0m \u001b[0m__len__\u001b[0m\u001b[0;34m(\u001b[0m\u001b[0mself\u001b[0m\u001b[0;34m)\u001b[0m\u001b[0;34m:\u001b[0m\u001b[0;34m\u001b[0m\u001b[0;34m\u001b[0m\u001b[0m\n",
      "\u001b[0;32m~/anaconda3/envs/comp1/lib/python3.6/site-packages/sklearn/ensemble/forest.py\u001b[0m in \u001b[0;36m_parallel_build_trees\u001b[0;34m(tree, forest, X, y, sample_weight, tree_idx, n_trees, verbose, class_weight)\u001b[0m\n\u001b[1;32m    116\u001b[0m             \u001b[0mcurr_sample_weight\u001b[0m \u001b[0;34m*=\u001b[0m \u001b[0mcompute_sample_weight\u001b[0m\u001b[0;34m(\u001b[0m\u001b[0;34m'balanced'\u001b[0m\u001b[0;34m,\u001b[0m \u001b[0my\u001b[0m\u001b[0;34m,\u001b[0m \u001b[0mindices\u001b[0m\u001b[0;34m)\u001b[0m\u001b[0;34m\u001b[0m\u001b[0;34m\u001b[0m\u001b[0m\n\u001b[1;32m    117\u001b[0m \u001b[0;34m\u001b[0m\u001b[0m\n\u001b[0;32m--> 118\u001b[0;31m         \u001b[0mtree\u001b[0m\u001b[0;34m.\u001b[0m\u001b[0mfit\u001b[0m\u001b[0;34m(\u001b[0m\u001b[0mX\u001b[0m\u001b[0;34m,\u001b[0m \u001b[0my\u001b[0m\u001b[0;34m,\u001b[0m \u001b[0msample_weight\u001b[0m\u001b[0;34m=\u001b[0m\u001b[0mcurr_sample_weight\u001b[0m\u001b[0;34m,\u001b[0m \u001b[0mcheck_input\u001b[0m\u001b[0;34m=\u001b[0m\u001b[0;32mFalse\u001b[0m\u001b[0;34m)\u001b[0m\u001b[0;34m\u001b[0m\u001b[0;34m\u001b[0m\u001b[0m\n\u001b[0m\u001b[1;32m    119\u001b[0m     \u001b[0;32melse\u001b[0m\u001b[0;34m:\u001b[0m\u001b[0;34m\u001b[0m\u001b[0;34m\u001b[0m\u001b[0m\n\u001b[1;32m    120\u001b[0m         \u001b[0mtree\u001b[0m\u001b[0;34m.\u001b[0m\u001b[0mfit\u001b[0m\u001b[0;34m(\u001b[0m\u001b[0mX\u001b[0m\u001b[0;34m,\u001b[0m \u001b[0my\u001b[0m\u001b[0;34m,\u001b[0m \u001b[0msample_weight\u001b[0m\u001b[0;34m=\u001b[0m\u001b[0msample_weight\u001b[0m\u001b[0;34m,\u001b[0m \u001b[0mcheck_input\u001b[0m\u001b[0;34m=\u001b[0m\u001b[0;32mFalse\u001b[0m\u001b[0;34m)\u001b[0m\u001b[0;34m\u001b[0m\u001b[0;34m\u001b[0m\u001b[0m\n",
      "\u001b[0;32m~/anaconda3/envs/comp1/lib/python3.6/site-packages/sklearn/tree/tree.py\u001b[0m in \u001b[0;36mfit\u001b[0;34m(self, X, y, sample_weight, check_input, X_idx_sorted)\u001b[0m\n\u001b[1;32m   1155\u001b[0m             \u001b[0msample_weight\u001b[0m\u001b[0;34m=\u001b[0m\u001b[0msample_weight\u001b[0m\u001b[0;34m,\u001b[0m\u001b[0;34m\u001b[0m\u001b[0;34m\u001b[0m\u001b[0m\n\u001b[1;32m   1156\u001b[0m             \u001b[0mcheck_input\u001b[0m\u001b[0;34m=\u001b[0m\u001b[0mcheck_input\u001b[0m\u001b[0;34m,\u001b[0m\u001b[0;34m\u001b[0m\u001b[0;34m\u001b[0m\u001b[0m\n\u001b[0;32m-> 1157\u001b[0;31m             X_idx_sorted=X_idx_sorted)\n\u001b[0m\u001b[1;32m   1158\u001b[0m         \u001b[0;32mreturn\u001b[0m \u001b[0mself\u001b[0m\u001b[0;34m\u001b[0m\u001b[0;34m\u001b[0m\u001b[0m\n\u001b[1;32m   1159\u001b[0m \u001b[0;34m\u001b[0m\u001b[0m\n",
      "\u001b[0;32m~/anaconda3/envs/comp1/lib/python3.6/site-packages/sklearn/tree/tree.py\u001b[0m in \u001b[0;36mfit\u001b[0;34m(self, X, y, sample_weight, check_input, X_idx_sorted)\u001b[0m\n\u001b[1;32m    378\u001b[0m                                            min_impurity_split)\n\u001b[1;32m    379\u001b[0m \u001b[0;34m\u001b[0m\u001b[0m\n\u001b[0;32m--> 380\u001b[0;31m         \u001b[0mbuilder\u001b[0m\u001b[0;34m.\u001b[0m\u001b[0mbuild\u001b[0m\u001b[0;34m(\u001b[0m\u001b[0mself\u001b[0m\u001b[0;34m.\u001b[0m\u001b[0mtree_\u001b[0m\u001b[0;34m,\u001b[0m \u001b[0mX\u001b[0m\u001b[0;34m,\u001b[0m \u001b[0my\u001b[0m\u001b[0;34m,\u001b[0m \u001b[0msample_weight\u001b[0m\u001b[0;34m,\u001b[0m \u001b[0mX_idx_sorted\u001b[0m\u001b[0;34m)\u001b[0m\u001b[0;34m\u001b[0m\u001b[0;34m\u001b[0m\u001b[0m\n\u001b[0m\u001b[1;32m    381\u001b[0m \u001b[0;34m\u001b[0m\u001b[0m\n\u001b[1;32m    382\u001b[0m         \u001b[0;32mif\u001b[0m \u001b[0mself\u001b[0m\u001b[0;34m.\u001b[0m\u001b[0mn_outputs_\u001b[0m \u001b[0;34m==\u001b[0m \u001b[0;36m1\u001b[0m\u001b[0;34m:\u001b[0m\u001b[0;34m\u001b[0m\u001b[0;34m\u001b[0m\u001b[0m\n",
      "\u001b[0;31mKeyboardInterrupt\u001b[0m: "
     ]
    }
   ],
   "source": [
    "# RF\n",
    "params = {\n",
    "        'max_depth': [3, 4, 5, 6, 7],\n",
    "        'n_estimators': [5000, 15000],\n",
    "        'max_features': [0.8, 0.9, 1]\n",
    "}\n",
    "\n",
    "ind = np.random.randint(0, X_train.shape[0], size=50000)\n",
    "rf_params = parameter_search(X_train.iloc[ind], y_train.iloc[ind], method='rf', params=params, steps=25)"
   ]
  },
  {
   "cell_type": "code",
   "execution_count": 21,
   "metadata": {},
   "outputs": [],
   "source": [
    "# Perform PCA\n",
    "pca = PCA(n_components=4)\n",
    "pca.fit(X_train)def predict_stacked(X, models, coefs):\n",
    "    pca = pickle.load(open(\"pca.pickle.dat\", \"rb\"))\n",
    "    X_pca = pca.transform(X)\n",
    "    valid_models = {'xgb', 'rf', 'el_net'}\n",
    "    if models.keys() not in valid_models:\n",
    "        raise ValueError(\"Model names must be one of %r.\" % valid_models)\n",
    "        \n",
    "    if not type(models) == dict & type(coefs) == dict:\n",
    "        raise ValueError('models and coefs are dictionaries, please support a dictionary')\n",
    "    else:    \n",
    "        xgb_mod = models['xgb']\n",
    "        rf_mod = models['rf']\n",
    "        el_net_mod = models['el_net']\n",
    "        xgb_coef = coefs['xgb']\n",
    "        rf_coef = coefs['rf']\n",
    "        el_net_coef = coefs['el_net']\n",
    "    \n",
    "    return np.sum(xgb_coef * xgb_mod.predict(X) + rf_coed * rf_mod.predict(X) + el_net_coef * el_net.predict(X_pca))     \n",
    "pickle.dump(pca, open(\"pca.pickle.dat\", \"wb\"))"
   ]
  },
  {
   "cell_type": "code",
   "execution_count": 34,
   "metadata": {},
   "outputs": [
    {
     "name": "stdout",
     "output_type": "stream",
     "text": [
      "0.1 1e-05\n",
      "0.1 5e-05\n",
      "0.1 0.0001\n",
      "0.1 0.0005\n",
      "0.1 0.001\n",
      "0.1 0.005\n",
      "0.1 0.01\n",
      "0.1 0.05\n",
      "0.1 0.1\n",
      "0.1 0.5\n",
      "0.1 1\n",
      "0.1 5\n",
      "0.1 10\n",
      "0.1 20\n",
      "0.1 50\n",
      "0.1 100\n",
      "0.1473684210526316 1e-05\n",
      "0.1473684210526316 5e-05\n",
      "0.1473684210526316 0.0001\n",
      "0.1473684210526316 0.0005\n",
      "0.1473684210526316 0.001\n",
      "0.1473684210526316 0.005\n",
      "0.1473684210526316 0.01\n",
      "0.1473684210526316 0.05\n",
      "0.1473684210526316 0.1\n",
      "0.1473684210526316 0.5\n",
      "0.1473684210526316 1\n",
      "0.1473684210526316 5\n",
      "0.1473684210526316 10\n",
      "0.1473684210526316 20\n",
      "0.1473684210526316 50\n",
      "0.1473684210526316 100\n",
      "0.19473684210526315 1e-05\n",
      "0.19473684210526315 5e-05\n",
      "0.19473684210526315 0.0001\n",
      "0.19473684210526315 0.0005\n",
      "0.19473684210526315 0.001\n",
      "0.19473684210526315 0.005\n",
      "0.19473684210526315 0.01\n",
      "0.19473684210526315 0.05\n",
      "0.19473684210526315 0.1\n",
      "0.19473684210526315 0.5\n",
      "0.19473684210526315 1\n",
      "0.19473684210526315 5\n",
      "0.19473684210526315 10\n",
      "0.19473684210526315 20\n",
      "0.19473684210526315 50\n",
      "0.19473684210526315 100\n",
      "0.24210526315789474 1e-05\n",
      "0.24210526315789474 5e-05\n",
      "0.24210526315789474 0.0001\n",
      "0.24210526315789474 0.0005\n",
      "0.24210526315789474 0.001\n",
      "0.24210526315789474 0.005\n",
      "0.24210526315789474 0.01\n",
      "0.24210526315789474 0.05\n",
      "0.24210526315789474 0.1\n",
      "0.24210526315789474 0.5\n",
      "0.24210526315789474 1\n",
      "0.24210526315789474 5\n",
      "0.24210526315789474 10\n",
      "0.24210526315789474 20\n",
      "0.24210526315789474 50\n",
      "0.24210526315789474 100\n",
      "0.2894736842105263 1e-05\n",
      "0.2894736842105263 5e-05\n",
      "0.2894736842105263 0.0001\n",
      "0.2894736842105263 0.0005\n",
      "0.2894736842105263 0.001\n",
      "0.2894736842105263 0.005\n",
      "0.2894736842105263 0.01\n",
      "0.2894736842105263 0.05\n",
      "0.2894736842105263 0.1\n",
      "0.2894736842105263 0.5\n",
      "0.2894736842105263 1\n",
      "0.2894736842105263 5\n",
      "0.2894736842105263 10\n",
      "0.2894736842105263 20\n",
      "0.2894736842105263 50\n",
      "0.2894736842105263 100\n",
      "0.33684210526315794 1e-05\n",
      "0.33684210526315794 5e-05\n",
      "0.33684210526315794 0.0001\n",
      "0.33684210526315794 0.0005\n",
      "0.33684210526315794 0.001\n",
      "0.33684210526315794 0.005\n",
      "0.33684210526315794 0.01\n",
      "0.33684210526315794 0.05\n",
      "0.33684210526315794 0.1\n",
      "0.33684210526315794 0.5\n",
      "0.33684210526315794 1\n",
      "0.33684210526315794 5\n",
      "0.33684210526315794 10\n",
      "0.33684210526315794 20\n",
      "0.33684210526315794 50\n",
      "0.33684210526315794 100\n",
      "0.38421052631578945 1e-05\n",
      "0.38421052631578945 5e-05\n",
      "0.38421052631578945 0.0001\n",
      "0.38421052631578945 0.0005\n",
      "0.38421052631578945 0.001\n",
      "0.38421052631578945 0.005\n",
      "0.38421052631578945 0.01\n",
      "0.38421052631578945 0.05\n",
      "0.38421052631578945 0.1\n",
      "0.38421052631578945 0.5\n",
      "0.38421052631578945 1\n",
      "0.38421052631578945 5\n",
      "0.38421052631578945 10\n",
      "0.38421052631578945 20\n",
      "0.38421052631578945 50\n",
      "0.38421052631578945 100\n",
      "0.43157894736842106 1e-05\n",
      "0.43157894736842106 5e-05\n",
      "0.43157894736842106 0.0001\n",
      "0.43157894736842106 0.0005\n",
      "0.43157894736842106 0.001\n",
      "0.43157894736842106 0.005\n",
      "0.43157894736842106 0.01\n",
      "0.43157894736842106 0.05\n",
      "0.43157894736842106 0.1\n",
      "0.43157894736842106 0.5\n",
      "0.43157894736842106 1\n",
      "0.43157894736842106 5\n",
      "0.43157894736842106 10\n",
      "0.43157894736842106 20\n",
      "0.43157894736842106 50\n",
      "0.43157894736842106 100\n",
      "0.4789473684210527 1e-05\n",
      "0.4789473684210527 5e-05\n",
      "0.4789473684210527 0.0001\n",
      "0.4789473684210527 0.0005\n",
      "0.4789473684210527 0.001\n",
      "0.4789473684210527 0.005\n",
      "0.4789473684210527 0.01\n",
      "0.4789473684210527 0.05\n",
      "0.4789473684210527 0.1\n",
      "0.4789473684210527 0.5\n",
      "0.4789473684210527 1\n",
      "0.4789473684210527 5\n",
      "0.4789473684210527 10\n",
      "0.4789473684210527 20\n",
      "0.4789473684210527 50\n",
      "0.4789473684210527 100\n",
      "0.5263157894736842 1e-05\n",
      "0.5263157894736842 5e-05\n",
      "0.5263157894736842 0.0001\n",
      "0.5263157894736842 0.0005\n",
      "0.5263157894736842 0.001\n",
      "0.5263157894736842 0.005\n",
      "0.5263157894736842 0.01\n",
      "0.5263157894736842 0.05\n",
      "0.5263157894736842 0.1\n",
      "0.5263157894736842 0.5\n",
      "0.5263157894736842 1\n",
      "0.5263157894736842 5\n",
      "0.5263157894736842 10\n",
      "0.5263157894736842 20\n",
      "0.5263157894736842 50\n",
      "0.5263157894736842 100\n",
      "0.5736842105263158 1e-05\n",
      "0.5736842105263158 5e-05\n",
      "0.5736842105263158 0.0001\n",
      "0.5736842105263158 0.0005\n",
      "0.5736842105263158 0.001\n",
      "0.5736842105263158 0.005\n",
      "0.5736842105263158 0.01\n",
      "0.5736842105263158 0.05\n",
      "0.5736842105263158 0.1\n",
      "0.5736842105263158 0.5\n",
      "0.5736842105263158 1\n",
      "0.5736842105263158 5\n",
      "0.5736842105263158 10\n",
      "0.5736842105263158 20\n",
      "0.5736842105263158 50\n",
      "0.5736842105263158 100\n",
      "0.6210526315789474 1e-05\n",
      "0.6210526315789474 5e-05\n",
      "0.6210526315789474 0.0001\n",
      "0.6210526315789474 0.0005\n",
      "0.6210526315789474 0.001\n",
      "0.6210526315789474 0.005\n",
      "0.6210526315789474 0.01\n",
      "0.6210526315789474 0.05\n",
      "0.6210526315789474 0.1\n",
      "0.6210526315789474 0.5\n",
      "0.6210526315789474 1\n",
      "0.6210526315789474 5\n",
      "0.6210526315789474 10\n",
      "0.6210526315789474 20\n",
      "0.6210526315789474 50\n",
      "0.6210526315789474 100\n",
      "0.6684210526315789 1e-05\n",
      "0.6684210526315789 5e-05\n",
      "0.6684210526315789 0.0001\n",
      "0.6684210526315789 0.0005\n",
      "0.6684210526315789 0.001\n",
      "0.6684210526315789 0.005\n",
      "0.6684210526315789 0.01\n",
      "0.6684210526315789 0.05\n",
      "0.6684210526315789 0.1\n",
      "0.6684210526315789 0.5\n",
      "0.6684210526315789 1\n",
      "0.6684210526315789 5\n",
      "0.6684210526315789 10\n",
      "0.6684210526315789 20\n",
      "0.6684210526315789 50\n",
      "0.6684210526315789 100\n",
      "0.7157894736842105 1e-05\n",
      "0.7157894736842105 5e-05\n",
      "0.7157894736842105 0.0001\n",
      "0.7157894736842105 0.0005\n",
      "0.7157894736842105 0.001\n",
      "0.7157894736842105 0.005\n",
      "0.7157894736842105 0.01\n",
      "0.7157894736842105 0.05\n",
      "0.7157894736842105 0.1\n",
      "0.7157894736842105 0.5\n",
      "0.7157894736842105 1\n",
      "0.7157894736842105 5\n",
      "0.7157894736842105 10\n",
      "0.7157894736842105 20\n",
      "0.7157894736842105 50\n",
      "0.7157894736842105 100\n",
      "0.7631578947368421 1e-05\n",
      "0.7631578947368421 5e-05\n",
      "0.7631578947368421 0.0001\n",
      "0.7631578947368421 0.0005\n",
      "0.7631578947368421 0.001\n",
      "0.7631578947368421 0.005\n",
      "0.7631578947368421 0.01\n",
      "0.7631578947368421 0.05\n",
      "0.7631578947368421 0.1\n",
      "0.7631578947368421 0.5\n",
      "0.7631578947368421 1\n",
      "0.7631578947368421 5\n",
      "0.7631578947368421 10\n",
      "0.7631578947368421 20\n",
      "0.7631578947368421 50\n",
      "0.7631578947368421 100\n",
      "0.8105263157894737 1e-05\n",
      "0.8105263157894737 5e-05\n",
      "0.8105263157894737 0.0001\n",
      "0.8105263157894737 0.0005\n",
      "0.8105263157894737 0.001\n",
      "0.8105263157894737 0.005\n",
      "0.8105263157894737 0.01\n",
      "0.8105263157894737 0.05\n",
      "0.8105263157894737 0.1\n",
      "0.8105263157894737 0.5\n",
      "0.8105263157894737 1\n",
      "0.8105263157894737 5\n",
      "0.8105263157894737 10\n",
      "0.8105263157894737 20\n",
      "0.8105263157894737 50\n",
      "0.8105263157894737 100\n",
      "0.8578947368421053 1e-05\n",
      "0.8578947368421053 5e-05\n",
      "0.8578947368421053 0.0001\n",
      "0.8578947368421053 0.0005\n",
      "0.8578947368421053 0.001\n",
      "0.8578947368421053 0.005\n",
      "0.8578947368421053 0.01\n",
      "0.8578947368421053 0.05\n",
      "0.8578947368421053 0.1\n",
      "0.8578947368421053 0.5\n",
      "0.8578947368421053 1\n",
      "0.8578947368421053 5\n",
      "0.8578947368421053 10\n",
      "0.8578947368421053 20\n",
      "0.8578947368421053 50\n",
      "0.8578947368421053 100\n",
      "0.9052631578947369 1e-05\n",
      "0.9052631578947369 5e-05\n",
      "0.9052631578947369 0.0001\n",
      "0.9052631578947369 0.0005\n",
      "0.9052631578947369 0.001\n",
      "0.9052631578947369 0.005\n",
      "0.9052631578947369 0.01\n",
      "0.9052631578947369 0.05\n",
      "0.9052631578947369 0.1\n",
      "0.9052631578947369 0.5\n",
      "0.9052631578947369 1\n",
      "0.9052631578947369 5\n",
      "0.9052631578947369 10\n",
      "0.9052631578947369 20\n",
      "0.9052631578947369 50\n",
      "0.9052631578947369 100\n",
      "0.9526315789473684 1e-05\n",
      "0.9526315789473684 5e-05\n",
      "0.9526315789473684 0.0001\n",
      "0.9526315789473684 0.0005\n",
      "0.9526315789473684 0.001\n",
      "0.9526315789473684 0.005\n",
      "0.9526315789473684 0.01\n",
      "0.9526315789473684 0.05\n",
      "0.9526315789473684 0.1\n",
      "0.9526315789473684 0.5\n",
      "0.9526315789473684 1\n",
      "0.9526315789473684 5\n",
      "0.9526315789473684 10\n",
      "0.9526315789473684 20\n",
      "0.9526315789473684 50\n",
      "0.9526315789473684 100\n",
      "1.0 1e-05\n",
      "1.0 5e-05\n",
      "1.0 0.0001\n",
      "1.0 0.0005\n",
      "1.0 0.001\n",
      "1.0 0.005\n",
      "1.0 0.01\n",
      "1.0 0.05\n",
      "1.0 0.1\n",
      "1.0 0.5\n",
      "1.0 1\n",
      "1.0 5\n",
      "1.0 10\n",
      "1.0 20\n",
      "1.0 50\n",
      "1.0 100\n"
     ]
    }
   ],
   "source": [
    "# Elastic Net\n",
    "params = {\n",
    "        'ratio': np.linspace(0.1, 1, 20),\n",
    "        'alpha': [1e-5, 5e-5, 1e-4, 5e-4, 1e-3, 5e-3, 1e-2, 5e-2, 1e-1, 5e-1, 1, 5, 10, 20, 50, 100],\n",
    "        'max_features': [0.8, 0.9, 1]\n",
    "}\n",
    "\n",
    "el_net_params = parameter_search(X_train_pca, y_train, method='elastic', params=params)"
   ]
  },
  {
   "cell_type": "code",
   "execution_count": 37,
   "metadata": {},
   "outputs": [],
   "source": [
    "# Get best parameters\n",
    "#with open('xgb_params.txt') as f:\n",
    "#    lines = f.read()\n",
    "#xgb_params = ast.literal_eval(lines)\n",
    "#best_xgb_params = min(xgb_params, key=itemgetter(7))[0:7]\n",
    "best_xgb_params = (0.1, 1767, 7, 0.8, 0.7, 0.6, 1.0)\n",
    "\n",
    "with open('metadata/rf_params.txt') as f:\n",
    "    lines = f.read()\n",
    "rf_params = ast.literal_eval(lines)\n",
    "best_rf_params = min(rf_params, key=itemgetter(3))[0:3]\n",
    "\n",
    "with open('metadata/el_net_params.txt') as f:\n",
    "    lines = f.read()\n",
    "el_net_params = ast.literal_eval(lines)\n",
    "best_el_net_params = min(el_net_params, key=itemgetter(2))[0:2]\n"
   ]
  },
  {
   "cell_type": "code",
   "execution_count": null,
   "metadata": {},
   "outputs": [
    {
     "name": "stdout",
     "output_type": "stream",
     "text": [
      "Training XGB\n"
     ]
    },
    {
     "name": "stderr",
     "output_type": "stream",
     "text": [
      "/home/stas/anaconda3/envs/comp1/lib/python3.6/site-packages/xgboost/core.py:587: FutureWarning:\n",
      "\n",
      "Series.base is deprecated and will be removed in a future version\n",
      "\n",
      "/home/stas/anaconda3/envs/comp1/lib/python3.6/site-packages/xgboost/core.py:588: FutureWarning:\n",
      "\n",
      "Series.base is deprecated and will be removed in a future version\n",
      "\n"
     ]
    },
    {
     "name": "stdout",
     "output_type": "stream",
     "text": [
      "Training RF\n"
     ]
    }
   ],
   "source": [
    "# Retrain \n",
    "print('Training XGB')\n",
    "xgb_model = xgb.XGBRegressor(learning_rate=best_xgb_params[0], \n",
    "                             n_estimators=best_xgb_params[1],\n",
    "                             max_depth=best_xgb_params[2],\n",
    "                             subsample=best_xgb_params[3],\n",
    "                             colsample_bytree=best_xgb_params[4],\n",
    "                             colsample_bylevel=best_xgb_params[5],\n",
    "                             reg_lambda = best_xgb_params[6],\n",
    "                             objective='reg:squarederror')\n",
    "\n",
    "fit_params = {\n",
    "            'eval_metric': 'rmse',\n",
    "            'early_stopping_rounds': 10,    \n",
    "            'eval_set': [(X_val, y_val)]\n",
    "            }\n",
    "\n",
    "xgb_model.fit(X_train, y_train, eval_metric=fit_params['eval_metric'],\n",
    "              early_stopping_rounds=fit_params['early_stopping_rounds'], \n",
    "              eval_set=fit_params['eval_set'], \n",
    "              verbose=False)\n",
    "\n",
    "# save model to file\n",
    "pickle.dump(xgb_model, open(\"metadata/xgb_model.pickle.dat\", \"wb\"))\n",
    "\n",
    "print('Training RF')\n",
    "rf = RandomForestRegressor(n_estimators=best_rf_params[0],\n",
    "                            max_depth=best_rf_params[1],\n",
    "                            max_features=best_rf_params[2])\n",
    "rf.fit(X_train, y_train)\n",
    "\n",
    "# save model to file\n",
    "pickle.dump(rf, open(\"metadata/rf_model.pickle.dat\", \"wb\"))\n",
    "\n",
    "print('Training Elastic Net')\n",
    "elastic = ElasticNet(alpha=best_el_net_params[0], l1_ratio=best_el_net_params[1])\n",
    "elastic.fit(X_train_pca, y_train)\n",
    "\n",
    "# save model to file\n",
    "pickle.dump(el_net_model, open(\"metadata/el_net_model.pickle.dat\", \"wb\"))"
   ]
  },
  {
   "cell_type": "code",
   "execution_count": null,
   "metadata": {},
   "outputs": [],
   "source": [
    "# Perform search for stacking coefficients\n",
    "params = [\n",
    "    (0.3, 0.3, 0.3), (0.4, 0.4, 0.2), (0.5, 0.5, 0), (0.6, 0.4, 0), (0.7, 0.3, 0),\n",
    "    (0.8, 0.2, 0), (0.9, 0.1, 0), (0.6, 0.3, 0.1), (0.6, 0.2, 0.2), (0.5, 0.4, 0.1)\n",
    "    (0.5, 0.3, 0.2), (0.4, 0.6, 0), (0.4, 0.5, 0.1), (0.4, 0.4, 0.2), (0.3, 0.7, 0),\n",
    "    (0.3, 0.6, 0.1), (0.3, 0.5, 0.2)\n",
    "]\n",
    "\n",
    "models = {\n",
    "    'xgb' : pickle.load(open(\"xgb_model.pickle.dat\", \"rb\")),\n",
    "    'rf' : pickle.load(open(\"rf_model.pickle.dat\", \"rb\")),\n",
    "    'el_net' : pickle.load(open(\"el_net_model.pickle.dat\", \"rb\"))\n",
    "}\n",
    "\n",
    "best_stack_params = parameter_search(X_val, y_val, method='stack', params=params, steps=None, models=models)[\n",
    "                (0.3, 0.3, 0.3), (0.4, 0.4, 0.2), (0.5, 0.5, 0), (0.6, 0.4, 0), (0.7, 0.3, 0),\n",
    "                (0.8, 0.2, 0), (0.9, 0.1, 0), (0.6, 0.3, 0.1), (0.6, 0.2, 0.2), (0.5, 0.4, 0.1)\n",
    "                (0.5, 0.3, 0.2), (0.4, 0.6, 0), (0.4, 0.5, 0.1), (0.4, 0.4, 0.2), (0.3, 0.7, 0),\n",
    "                (0.3, 0.6, 0.1), (0.3, 0.5, 0.2)\n",
    "]"
   ]
  },
  {
   "cell_type": "code",
   "execution_count": null,
   "metadata": {},
   "outputs": [],
   "source": [
    "# Retrain on the train + val\n",
    "X = np.concatenate((X_train, X_val), axis=0)\n",
    "y = np.concatenate((y_train, y_val), axis=0)\n",
    "\n",
    "xgb_mod = pickle.load(open(\"xgb_model.pickle.dat\", \"rb\"))\n",
    "best_number_trees = xgb_mod.best_ntree_limit\n",
    "rf_mod =  pickle.load(open(\"rf_model.pickle.dat\", \"rb\")),\n",
    "el_net_mod = pickle.load(open(\"el_net_model.pickle.dat\", \"rb\"))\n",
    "\n",
    "print('Training XGB')\n",
    "xgb_model = xgb.XGBRegressor(learning_rate=best_xgb_params[0], \n",
    "                             n_estimators=best_number_trees,\n",
    "                             max_depth=best_xgb_params[2],\n",
    "                             subsample=best_xgb_params[3],\n",
    "                             colsample_bytree=best_xgb_params[4],\n",
    "                             colsample_bylevel=best_xgb_params[5],\n",
    "                             reg_lambda = best_xgb_params[6],\n",
    "                             objective='reg:squarederror')\n",
    "\n",
    "fit_params = {'eval_metric': 'rmse'}\n",
    "\n",
    "xgb_model.fit(X, y, eval_metric=fit_params['eval_metric'],\n",
    "              verbose=False)\n",
    "\n",
    "# save model to file\n",
    "pickle.dump(xgb_model, open(\"xgb_model.pickle.dat\", \"wb\"))\n",
    "\n",
    "print('Training RF')\n",
    "rf = RandomForestRegressor(n_estimators=best_rf_params[0],\n",
    "                            max_depth=best_rf_params[1],\n",
    "                            max_features=best_rf_params[2])\n",
    "rf.fit(X, y)\n",
    "\n",
    "# save model to file\n",
    "pickle.dump(rf, open(\"rf_model.pickle.dat\", \"wb\"))\n",
    "\n",
    "print('Training Elastic Net')\n",
    "elastic = ElasticNet(alpha=best_el_net_params[0], l1_ratio=best_el_net_params[1])\n",
    "                elastic.fit(X_train_pca, y_train)\n",
    "    \n",
    "elastic.fit(X, y)\n",
    "\n",
    "# save model to file\n",
    "pickle.dump(el_net_model, open(\"el_net_model.pickle.dat\", \"wb\"))"
   ]
  },
  {
   "cell_type": "code",
   "execution_count": null,
   "metadata": {},
   "outputs": [],
   "source": [
    "with open('stack_params.txt') as f:\n",
    "    lines = f.read()\n",
    "stack_params = ast.literal_eval(lines)\n",
    "best_stack_params = min(stack_params, key=itemgetter(3))[0:3]\n",
    "\n",
    "models = {\n",
    "    'xgb' : pickle.load(open(\"xgb_model.pickle.dat\", \"rb\")),\n",
    "    'rf' : pickle.load(open(\"rf_model.pickle.dat\", \"rb\")),\n",
    "    'el_net' : pickle.load(open(\"el_net_model.pickle.dat\", \"rb\")) \n",
    "}\n",
    "\n",
    "coefs = {\n",
    "    'xgb_coef' : best_stack_params[0],\n",
    "    'rf_coef' : best_stackmodelsams[1],\n",
    "    'el_coef' : best_stack_params[2]\n",
    "}\n",
    "\n",
    "# Test\n",
    "print('RMSE is :' + str(np.mean(np.sqrt(mean_squared_error(y_cv, predict_stacked(X_test, models=models, coefs=coefs))))))\n",
    "print('Adam metric is :' + stadam_metricdam_metric(y_cv, predict_stacked(X_test, models=models, coefs=coefs)))\n"
   ]
  }
 ],
 "metadata": {
  "kernelspec": {
   "display_name": "Python 3",
   "language": "python",
   "name": "python3"
  },
  "language_info": {
   "codemirror_mode": {
    "name": "ipython",
    "version": 3
   },
   "file_extension": ".py",
   "mimetype": "text/x-python",
   "name": "python",
   "nbconvert_exporter": "python",
   "pygments_lexer": "ipython3",
   "version": "3.6.9"
  }
 },
 "nbformat": 4,
 "nbformat_minor": 4
}
