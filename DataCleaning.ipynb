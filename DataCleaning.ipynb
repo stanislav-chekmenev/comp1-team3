{
 "cells": [
  {
   "cell_type": "code",
   "execution_count": 1,
   "metadata": {},
   "outputs": [],
   "source": [
    "import numpy as np\n",
    "import pandas as pd\n",
    "import helpers\n",
    "import datetime\n",
    "from sklearn.model_selection import train_test_split\n",
    "from sklearn.ensemble import RandomForestRegressor\n",
    "import seaborn as sns\n",
    "from sklearn import preprocessing\n",
    "import matplotlib.pyplot as plt"
   ]
  },
  {
   "cell_type": "code",
   "execution_count": 2,
   "metadata": {},
   "outputs": [],
   "source": [
    "# load both CSV-Files\n",
    "\n",
    "store = pd.read_csv('data/store.csv')\n",
    "train = pd.read_csv('data/train.csv', dtype = {'StateHoliday': np.str})\n",
    "\n",
    "# merge CSV-Files based on the StoreID and convert dates to Datetime-format\n",
    "\n",
    "df = pd.merge(store, train, on='Store')\n",
    "df = helpers.date_convert(df)"
   ]
  },
  {
   "cell_type": "code",
   "execution_count": null,
   "metadata": {},
   "outputs": [],
   "source": [
    "def xgboost_data_transformation(df):\n",
    "    # Replace NaN with Zeros and convert to Int\n",
    "    df = helpers.float_to_int(df, {'Promo2SinceYear', 'Promo2SinceWeek', 'CompetitionOpenSinceMonth', 'CompetitionOpenSinceYear'})\n",
    "    \n",
    "    # Convert CompetitionYear and CompetitionMonth to datetime format\n",
    "    df_subset = df.loc[(df['CompetitionOpenSinceYear']!=0) & (df['CompetitionOpenSinceMonth']!=0), ['CompetitionOpenSinceYear','CompetitionOpenSinceMonth']]\n",
    "    df['CompetitionStart'] = df_subset['CompetitionOpenSinceYear'].astype(str) + '-' + df_subset['CompetitionOpenSinceMonth'].astype(str)  + '-01' \n",
    "    df['CompetitionStart'] = pd.to_datetime(df['CompetitionStart'])\n",
    "    \n",
    "    # Convert Promoyear and Promoweekno to datetime format\n",
    "    df_subset = df.loc[df['Promo2SinceYear']!=0, ['Promo2SinceYear','Promo2SinceWeek']]\n",
    "    df['PromoStart'] = df_subset.apply(lambda row: helpers.year_week(row.Promo2SinceYear, row.Promo2SinceWeek), axis=1)\n",
    "\n",
    "    # create PromoDuration Column:  Date - PromoStart\n",
    "    df['PromoDuration'] = (df['Date'] - df['PromoStart'])/np.timedelta64(1,'D')\n",
    "    df['PromoDuration'].fillna(0, inplace=True)\n",
    "    \n",
    "    # Calculate is Competition is active and how long the competition is active \n",
    "    df['CompetitionActive'] = np.where(df['CompetitionStart'] <= df['Date'], 1, 0)\n",
    "    df['CompetitionDays'] = (df['Date'] - df['CompetitionStart'])/np.timedelta64(1,'D')\n",
    "    \n",
    "    df['RunningAnyPromo'] = 0\n",
    "    months_abbr = []\n",
    "\n",
    "    for i in range(1,13):\n",
    "        months_abbr.append((i, datetime.date(2008, i, 1).strftime('%b')))\n",
    "\n",
    "    for i in months_abbr:\n",
    "        mask = (df['PromoInterval'].str.contains(i[1], na=False)) & (df['Month']==i[0]) & (df['Promo2']==1) | df['Promo']==1\n",
    "        df.loc[mask, 'RunningAnyPromo'] = 1\n",
    "        \n",
    "    # Sets RunningPromo to 1 if Months in Substring of PromoIntervall and current month match \n",
    "    df['RunningPromo2'] = 0\n",
    "    months_abbr = []\n",
    "    for i in range(1,13):\n",
    "        months_abbr.append((i, datetime.date(2008, i, 1).strftime('%b')))\n",
    "\n",
    "    for i in months_abbr:\n",
    "        mask = (df['PromoInterval'].str.contains(i[1], na=False)) & (df['Month']==i[0]) & (df['Promo2']==1)\n",
    "        df.loc[mask, 'RunningPromo2'] = 1\n",
    "    df = df.drop({'Date','CompetitionStart','PromoStart'}, axis=1, errors='ignore') \n",
    "    return df"
   ]
  },
  {
   "cell_type": "code",
   "execution_count": 3,
   "metadata": {},
   "outputs": [],
   "source": [
    "def tree_data_transformation(df):\n",
    "    # Replace NaN in Sales with Zero\n",
    "    df['Sales'].fillna(0, inplace=True)\n",
    "    \n",
    "    #Replace NaN in Customers with Mean(Customers), but if Store not open set Customers to 0\n",
    "    df['Customers'].fillna(df['Customers'].mean, inplace=True)\n",
    "    df.loc[df['Open'] == 0, 'Customers'] = 0\n",
    "    \n",
    "    # Replace NaN with Zeros and convert to Int\n",
    "    df = helpers.float_to_int(df, {'Promo2SinceYear', 'Promo2SinceWeek', 'CompetitionOpenSinceMonth', 'CompetitionOpenSinceYear'})\n",
    "    \n",
    "    # Convert CompetitionYear and CompetitionMonth to datetime format\n",
    "    df_subset = df.loc[(df['CompetitionOpenSinceYear']!=0) & (df['CompetitionOpenSinceMonth']!=0), ['CompetitionOpenSinceYear','CompetitionOpenSinceMonth']]\n",
    "    df['CompetitionStart'] = df_subset['CompetitionOpenSinceYear'].astype(str) + '-' + df_subset['CompetitionOpenSinceMonth'].astype(str)  + '-01' \n",
    "    df['CompetitionStart'] = pd.to_datetime(df['CompetitionStart'])\n",
    "    \n",
    "    # Convert Promoyear and Promoweekno to datetime format\n",
    "    df_subset = df.loc[df['Promo2SinceYear']!=0, ['Promo2SinceYear','Promo2SinceWeek']]\n",
    "    df['PromoStart'] = df_subset.apply(lambda row: helpers.year_week(row.Promo2SinceYear, row.Promo2SinceWeek), axis=1)\n",
    "\n",
    "    # create PromoDuration Column:  Date - PromoStart\n",
    "    df['PromoDuration'] = (df['Date'] - df['PromoStart'])/np.timedelta64(1,'D')\n",
    "    df['PromoDuration'].fillna(0, inplace=True)\n",
    "    \n",
    "    # Calculate is Competition is active and how long the competition is active \n",
    "    df['CompetitionActive'] = np.where(df['CompetitionStart'] <= df['Date'], 1, 0)\n",
    "    df['CompetitionDays'] = (df['Date'] - df['CompetitionStart'])/np.timedelta64(1,'D')\n",
    "    \n",
    "    df['RunningAnyPromo'] = 0\n",
    "    months_abbr = []\n",
    "\n",
    "    for i in range(1,13):\n",
    "        months_abbr.append((i, datetime.date(2008, i, 1).strftime('%b')))\n",
    "\n",
    "    for i in months_abbr:\n",
    "        mask = (df['PromoInterval'].str.contains(i[1], na=False)) & (df['Month']==i[0]) & (df['Promo2']==1) | df['Promo']==1\n",
    "        df.loc[mask, 'RunningAnyPromo'] = 1\n",
    "        \n",
    "    # Sets RunningPromo to 1 if Months in Substring of PromoIntervall and current month match \n",
    "    df['RunningPromo2'] = 0\n",
    "    months_abbr = []\n",
    "    for i in range(1,13):\n",
    "        months_abbr.append((i, datetime.date(2008, i, 1).strftime('%b')))\n",
    "\n",
    "    for i in months_abbr:\n",
    "        mask = (df['PromoInterval'].str.contains(i[1], na=False)) & (df['Month']==i[0]) & (df['Promo2']==1)\n",
    "        df.loc[mask, 'RunningPromo2'] = 1\n",
    "    df = df.drop({'Date','CompetitionStart','PromoStart','PromoInterval','Promo','Promo2','CompetitionDays','DayOfWeek'}, axis=1, errors='ignore') \n",
    "    df = df.dropna(how='any', subset=['Open', 'StateHoliday', 'SchoolHoliday','CompetitionDistance'])\n",
    "    return df"
   ]
  },
  {
   "cell_type": "code",
   "execution_count": null,
   "metadata": {},
   "outputs": [],
   "source": [
    "xg_df = xgboost_data_transformation(df)"
   ]
  },
  {
   "cell_type": "code",
   "execution_count": 4,
   "metadata": {},
   "outputs": [],
   "source": [
    "tr_df = tree_data_transformation(df)"
   ]
  },
  {
   "cell_type": "code",
   "execution_count": 9,
   "metadata": {},
   "outputs": [
    {
     "data": {
      "text/plain": [
       "Sales                        0\n",
       "Customers                    0\n",
       "Open                         0\n",
       "StateHoliday                 0\n",
       "SchoolHoliday                0\n",
       "Year                         0\n",
       "Quarter                      0\n",
       "Month                        0\n",
       "Week                         0\n",
       "WeekDay                      0\n",
       "Day                          0\n",
       "Store                        0\n",
       "StoreType                    0\n",
       "Assortment                   0\n",
       "CompetitionDistance          0\n",
       "CompetitionOpenSinceMonth    0\n",
       "CompetitionOpenSinceYear     0\n",
       "Promo2SinceWeek              0\n",
       "Promo2SinceYear              0\n",
       "PromoDuration                0\n",
       "CompetitionActive            0\n",
       "RunningAnyPromo              0\n",
       "RunningPromo2                0\n",
       "dtype: int64"
      ]
     },
     "execution_count": 9,
     "metadata": {},
     "output_type": "execute_result"
    }
   ],
   "source": [
    "tr_df.isnull().sum()"
   ]
  },
  {
   "cell_type": "code",
   "execution_count": 10,
   "metadata": {},
   "outputs": [
    {
     "data": {
      "text/plain": [
       "Sales                        float64\n",
       "Customers                     object\n",
       "Open                         float64\n",
       "StateHoliday                  object\n",
       "SchoolHoliday                float64\n",
       "Year                           int64\n",
       "Quarter                        int64\n",
       "Month                          int64\n",
       "Week                           int64\n",
       "WeekDay                        int64\n",
       "Day                            int64\n",
       "Store                          int64\n",
       "StoreType                     object\n",
       "Assortment                    object\n",
       "CompetitionDistance          float64\n",
       "CompetitionOpenSinceMonth      int64\n",
       "CompetitionOpenSinceYear       int64\n",
       "Promo2SinceWeek                int64\n",
       "Promo2SinceYear                int64\n",
       "PromoDuration                float64\n",
       "CompetitionActive              int64\n",
       "RunningAnyPromo                int64\n",
       "RunningPromo2                  int64\n",
       "dtype: object"
      ]
     },
     "execution_count": 10,
     "metadata": {},
     "output_type": "execute_result"
    }
   ],
   "source": [
    "tr_df.dtypes"
   ]
  },
  {
   "cell_type": "code",
   "execution_count": null,
   "metadata": {},
   "outputs": [],
   "source": []
  },
  {
   "cell_type": "code",
   "execution_count": 6,
   "metadata": {},
   "outputs": [],
   "source": [
    "X = tr_df.select_dtypes(include=[object])\n",
    "#enc = preprocessing.OneHotEncoder()\n",
    "#enc.fit(X)\n",
    "#onehotlabels = enc.transform(X).toarray()"
   ]
  },
  {
   "cell_type": "code",
   "execution_count": null,
   "metadata": {},
   "outputs": [],
   "source": []
  },
  {
   "cell_type": "code",
   "execution_count": null,
   "metadata": {},
   "outputs": [],
   "source": []
  },
  {
   "cell_type": "code",
   "execution_count": null,
   "metadata": {},
   "outputs": [],
   "source": []
  },
  {
   "cell_type": "code",
   "execution_count": null,
   "metadata": {},
   "outputs": [],
   "source": []
  },
  {
   "cell_type": "code",
   "execution_count": null,
   "metadata": {},
   "outputs": [],
   "source": []
  },
  {
   "cell_type": "code",
   "execution_count": null,
   "metadata": {},
   "outputs": [],
   "source": []
  },
  {
   "cell_type": "code",
   "execution_count": null,
   "metadata": {},
   "outputs": [],
   "source": []
  },
  {
   "cell_type": "code",
   "execution_count": null,
   "metadata": {},
   "outputs": [],
   "source": []
  },
  {
   "cell_type": "code",
   "execution_count": null,
   "metadata": {},
   "outputs": [],
   "source": []
  },
  {
   "cell_type": "code",
   "execution_count": null,
   "metadata": {},
   "outputs": [],
   "source": []
  },
  {
   "cell_type": "code",
   "execution_count": null,
   "metadata": {},
   "outputs": [],
   "source": []
  },
  {
   "cell_type": "code",
   "execution_count": null,
   "metadata": {},
   "outputs": [],
   "source": [
    "  "
   ]
  },
  {
   "cell_type": "code",
   "execution_count": null,
   "metadata": {},
   "outputs": [],
   "source": [
    "# Check if correct  ????? definition of Running Promo\n",
    "\n",
    "# df.loc[(df['Month'] == 12) & (df['RunningPromo'] != 0)][['RunningPromo','PromoInterval','Month','Date','Promo','Promo2','PromoStart','PromoDuration','PromoDuration2']]"
   ]
  },
  {
   "cell_type": "code",
   "execution_count": null,
   "metadata": {},
   "outputs": [],
   "source": [
    "df.isna().sum()"
   ]
  },
  {
   "cell_type": "code",
   "execution_count": null,
   "metadata": {},
   "outputs": [],
   "source": []
  },
  {
   "cell_type": "code",
   "execution_count": null,
   "metadata": {},
   "outputs": [],
   "source": [
    "df.shape"
   ]
  },
  {
   "cell_type": "code",
   "execution_count": null,
   "metadata": {},
   "outputs": [],
   "source": [
    "df.loc[df['DayOfWeek'].isnull(), ['DayOfWeek','Day','Week','Date']].head()"
   ]
  },
  {
   "cell_type": "code",
   "execution_count": null,
   "metadata": {},
   "outputs": [],
   "source": [
    "df.dtypes"
   ]
  },
  {
   "cell_type": "code",
   "execution_count": null,
   "metadata": {},
   "outputs": [],
   "source": [
    "df.isnull().sum()"
   ]
  },
  {
   "cell_type": "code",
   "execution_count": null,
   "metadata": {},
   "outputs": [],
   "source": [
    "df.shape"
   ]
  },
  {
   "cell_type": "code",
   "execution_count": null,
   "metadata": {},
   "outputs": [],
   "source": [
    "df = df[np.isfinite(df[['Open','StateHoliday']])]"
   ]
  },
  {
   "cell_type": "code",
   "execution_count": null,
   "metadata": {},
   "outputs": [],
   "source": [
    "df.shape"
   ]
  },
  {
   "cell_type": "code",
   "execution_count": null,
   "metadata": {},
   "outputs": [],
   "source": [
    "df['StateHoliday']"
   ]
  },
  {
   "cell_type": "code",
   "execution_count": null,
   "metadata": {},
   "outputs": [],
   "source": []
  }
 ],
 "metadata": {
  "kernelspec": {
   "display_name": "Python 3",
   "language": "python",
   "name": "python3"
  },
  "language_info": {
   "codemirror_mode": {
    "name": "ipython",
    "version": 3
   },
   "file_extension": ".py",
   "mimetype": "text/x-python",
   "name": "python",
   "nbconvert_exporter": "python",
   "pygments_lexer": "ipython3",
   "version": "3.6.9"
  }
 },
 "nbformat": 4,
 "nbformat_minor": 4
}
