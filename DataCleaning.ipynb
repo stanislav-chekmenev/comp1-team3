{
 "cells": [
  {
   "cell_type": "code",
   "execution_count": 1,
   "metadata": {},
   "outputs": [],
   "source": [
    "import numpy as np\n",
    "import pandas as pd\n",
    "import helpers\n",
    "import datetime\n",
    "from sklearn.model_selection import train_test_split\n",
    "from sklearn.ensemble import RandomForestRegressor\n",
    "import seaborn as sns\n",
    "from sklearn.preprocessing import OneHotEncoder"
   ]
  },
  {
   "cell_type": "code",
   "execution_count": 2,
   "metadata": {},
   "outputs": [],
   "source": [
    "# load both CSV-Files\n",
    "\n",
    "store = pd.read_csv('data/store.csv')\n",
    "train = pd.read_csv('data/train.csv', dtype = {'StateHoliday': np.str})\n",
    "\n",
    "# merge CSV-Files based on the StoreID and convert dates to Datetime-format\n",
    "\n",
    "df = pd.merge(store, train, on='Store')\n",
    "df = helpers.date_convert(df)"
   ]
  },
  {
   "cell_type": "code",
   "execution_count": 3,
   "metadata": {},
   "outputs": [
    {
     "data": {
      "text/plain": [
       "PromoInterval                        object\n",
       "Date                         datetime64[ns]\n",
       "DayOfWeek                           float64\n",
       "Sales                               float64\n",
       "Customers                           float64\n",
       "Open                                float64\n",
       "Promo                               float64\n",
       "StateHoliday                         object\n",
       "SchoolHoliday                       float64\n",
       "Year                                  int64\n",
       "Quarter                               int64\n",
       "Month                                 int64\n",
       "Week                                  int64\n",
       "Day                                   int64\n",
       "Store                                 int64\n",
       "StoreType                            object\n",
       "Assortment                           object\n",
       "CompetitionDistance                 float64\n",
       "CompetitionOpenSinceMonth           float64\n",
       "CompetitionOpenSinceYear            float64\n",
       "Promo2                                int64\n",
       "Promo2SinceWeek                     float64\n",
       "Promo2SinceYear                     float64\n",
       "dtype: object"
      ]
     },
     "execution_count": 3,
     "metadata": {},
     "output_type": "execute_result"
    }
   ],
   "source": [
    "df.dtypes"
   ]
  },
  {
   "cell_type": "code",
   "execution_count": 5,
   "metadata": {},
   "outputs": [],
   "source": [
    "# One Hot Encoding: transforms objects (eg. a, b, c) of a given column to integers (eg. 0, 1, 2)\n",
    "\n",
    "def cat_to_int(df, columnlist):\n",
    "    for i in columnlist:\n",
    "        df = pd.concat([df, pd.get_dummies(df[i], prefix=i)], axis=1)\n",
    "    return df\n",
    "        \n",
    "df = cat_to_int(df,{'StateHoliday','StoreType','Assortment'})\n",
    "df = df.drop(['Assortment', 'StateHoliday', 'StoreType'], axis=1)"
   ]
  },
  {
   "cell_type": "code",
   "execution_count": 6,
   "metadata": {},
   "outputs": [],
   "source": [
    "# Replace NaN with Zeros and convert to Int\n",
    "\n",
    "def float_to_int(df, columnlist):\n",
    "    for i in columnlist:\n",
    "        df[i].fillna(0, inplace=True)\n",
    "        df[i] = df[i].astype(int)\n",
    "    return df\n",
    "\n",
    "df = float_to_int(df, {'Promo2SinceYear', 'Promo2SinceWeek', 'CompetitionOpenSinceMonth', 'CompetitionOpenSinceYear'})"
   ]
  },
  {
   "cell_type": "code",
   "execution_count": 7,
   "metadata": {},
   "outputs": [],
   "source": [
    "# Convert Promoyear and Promomonth to datetime format\n",
    "\n",
    "def year_week(y, w):\n",
    "    return datetime.datetime.strptime(f'{y} {w} 1', '%G %V %u')\n",
    "\n",
    "df_subset = df.loc[df['Promo2SinceYear']!=0, ['Promo2SinceYear','Promo2SinceWeek']]\n",
    "df['PromoStart'] = df_subset.apply(lambda row: year_week(row.Promo2SinceYear, row.Promo2SinceWeek), axis=1)\n",
    "\n",
    "# create PromoDuration Column:  Last Date - PromoStart\n",
    "\n",
    "df['PromoDuration'] = df['Date'].max() - df['PromoStart']\n",
    "df['PromoDuration'] = df['PromoDuration']/np.timedelta64(1,'D')\n",
    "df['PromoDuration'].fillna(0, inplace=True)"
   ]
  },
  {
   "cell_type": "code",
   "execution_count": 8,
   "metadata": {},
   "outputs": [],
   "source": [
    "# create PromoDuration2 Column:  Date - PromoStart\n",
    "df['PromoDuration2'] = df['Date'] - df['PromoStart']\n",
    "df['PromoDuration2'] = df['PromoDuration2']/np.timedelta64(1,'D')\n",
    "df['PromoDuration2'].fillna(0, inplace=True)"
   ]
  },
  {
   "cell_type": "code",
   "execution_count": 9,
   "metadata": {},
   "outputs": [],
   "source": [
    "# Sets RunningPromo to 1 if 1.) Months in Substring of PromoIntervall and current month match OR 2.) if Promo ==1 (today runs Promo)\n",
    "\n",
    "df['RunningPromo'] = 0\n",
    "months_abbr = []\n",
    "for i in range(1,13):\n",
    "    months_abbr.append((i, datetime.date(2008, i, 1).strftime('%b')))\n",
    "\n",
    "for i in months_abbr:\n",
    "    mask = (df['PromoInterval'].str.contains(i[1], na=False)) & (df['Month']==i[0])| df['Promo']==1\n",
    "    df.loc[mask, 'RunningPromo'] = 1"
   ]
  },
  {
   "cell_type": "code",
   "execution_count": null,
   "metadata": {},
   "outputs": [],
   "source": [
    "# Check if correct  ????? definition of Running Promo\n",
    "\n",
    "# df.loc[(df['Month'] == 12) & (df['RunningPromo'] != 0)][['RunningPromo','PromoInterval','Month','Date','Promo','Promo2','PromoStart','PromoDuration','PromoDuration2']]"
   ]
  },
  {
   "cell_type": "code",
   "execution_count": null,
   "metadata": {},
   "outputs": [],
   "source": [
    "df.isna().sum()"
   ]
  },
  {
   "cell_type": "code",
   "execution_count": null,
   "metadata": {},
   "outputs": [],
   "source": [
    "df.dtypes"
   ]
  },
  {
   "cell_type": "code",
   "execution_count": null,
   "metadata": {},
   "outputs": [],
   "source": []
  },
  {
   "cell_type": "code",
   "execution_count": null,
   "metadata": {},
   "outputs": [],
   "source": []
  },
  {
   "cell_type": "code",
   "execution_count": null,
   "metadata": {},
   "outputs": [],
   "source": []
  },
  {
   "cell_type": "code",
   "execution_count": null,
   "metadata": {},
   "outputs": [],
   "source": []
  },
  {
   "cell_type": "code",
   "execution_count": null,
   "metadata": {},
   "outputs": [],
   "source": [
    "# transforms objects (eg. a, b, c) of a given column to integers (eg. 0, 1, 2)\n",
    "\n",
    "#def cat_to_int(df, columnlist):\n",
    "#    for i in columnlist:\n",
    "#        df[i] = df[i].astype('category')\n",
    "#        df[i] = df[i].cat.codes \n",
    "#    return df\n",
    "\n",
    "#df = cat_to_int(df,{'StateHoliday', 'StoreType', 'Assortment'})"
   ]
  }
 ],
 "metadata": {
  "kernelspec": {
   "display_name": "Python 3",
   "language": "python",
   "name": "python3"
  },
  "language_info": {
   "codemirror_mode": {
    "name": "ipython",
    "version": 3
   },
   "file_extension": ".py",
   "mimetype": "text/x-python",
   "name": "python",
   "nbconvert_exporter": "python",
   "pygments_lexer": "ipython3",
   "version": "3.6.9"
  }
 },
 "nbformat": 4,
 "nbformat_minor": 4
}
