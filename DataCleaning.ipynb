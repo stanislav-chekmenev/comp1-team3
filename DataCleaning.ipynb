{
 "cells": [
  {
   "cell_type": "code",
   "execution_count": 39,
   "metadata": {},
   "outputs": [],
   "source": [
    "import numpy as np\n",
    "import pandas as pd\n",
    "import helpers\n",
    "import datetime\n",
    "from sklearn.model_selection import train_test_split\n",
    "from sklearn.ensemble import RandomForestRegressor\n",
    "import seaborn as sns\n",
    "from sklearn.preprocessing import OneHotEncoder\n",
    "import matplotlib.pyplot as plt"
   ]
  },
  {
   "cell_type": "code",
   "execution_count": 60,
   "metadata": {},
   "outputs": [],
   "source": [
    "# load both CSV-Files\n",
    "\n",
    "store = pd.read_csv('data/store.csv')\n",
    "train = pd.read_csv('data/train.csv', dtype = {'StateHoliday': np.str})\n",
    "\n",
    "# merge CSV-Files based on the StoreID and convert dates to Datetime-format\n",
    "\n",
    "df = pd.merge(store, train, on='Store')\n",
    "df = helpers.date_convert(df)\n"
   ]
  },
  {
   "cell_type": "code",
   "execution_count": 51,
   "metadata": {},
   "outputs": [
    {
     "data": {
      "text/plain": [
       "PromoInterval                        object\n",
       "Date                         datetime64[ns]\n",
       "DayOfWeek                           float64\n",
       "Sales                               float64\n",
       "Customers                           float64\n",
       "Open                                float64\n",
       "Promo                               float64\n",
       "StateHoliday                         object\n",
       "SchoolHoliday                       float64\n",
       "Year                                  int64\n",
       "Quarter                               int64\n",
       "Month                                 int64\n",
       "Week                                  int64\n",
       "Day                                   int64\n",
       "Store                                 int64\n",
       "StoreType                            object\n",
       "Assortment                           object\n",
       "CompetitionDistance                 float64\n",
       "CompetitionOpenSinceMonth           float64\n",
       "CompetitionOpenSinceYear            float64\n",
       "Promo2                                int64\n",
       "Promo2SinceWeek                     float64\n",
       "Promo2SinceYear                     float64\n",
       "dtype: object"
      ]
     },
     "execution_count": 51,
     "metadata": {},
     "output_type": "execute_result"
    }
   ],
   "source": [
    "df.dtypes"
   ]
  },
  {
   "cell_type": "code",
   "execution_count": 61,
   "metadata": {},
   "outputs": [],
   "source": [
    "# One Hot Encoding: transforms objects (eg. a, b, c) of a given column to integers (eg. 0, 1, 2)\n",
    "\n",
    "def cat_to_int(df, columnlist):\n",
    "    for i in columnlist:\n",
    "        df = pd.concat([df, pd.get_dummies(df[i], prefix=i)], axis=1)\n",
    "    df = df.drop(columnlist, axis=1, errors='ignore')   \n",
    "    return df\n",
    "        \n",
    "df = cat_to_int(df,{'StateHoliday','StoreType','Assortment'})"
   ]
  },
  {
   "cell_type": "code",
   "execution_count": 64,
   "metadata": {},
   "outputs": [],
   "source": [
    "# Replace NaN with Zeros and convert to Int\n",
    "\n",
    "def float_to_int(df, columnlist):\n",
    "    for i in columnlist:\n",
    "        df[i].fillna(0, inplace=True)\n",
    "        df[i] = df[i].astype(int)\n",
    "    return df\n",
    "\n",
    "df = float_to_int(df, {'Promo2SinceYear', 'Promo2SinceWeek', 'CompetitionOpenSinceMonth', 'CompetitionOpenSinceYear'})"
   ]
  },
  {
   "cell_type": "code",
   "execution_count": 67,
   "metadata": {},
   "outputs": [],
   "source": [
    "# Convert Promoyear and Promoweekno to datetime format\n",
    "\n",
    "def year_week(y, w):\n",
    "    return datetime.datetime.strptime(f'{y} {w} 1', '%G %V %u')\n",
    "\n",
    "df_subset = df.loc[df['Promo2SinceYear']!=0, ['Promo2SinceYear','Promo2SinceWeek']]\n",
    "df['PromoStart'] = df_subset.apply(lambda row: year_week(row.Promo2SinceYear, row.Promo2SinceWeek), axis=1)\n",
    "\n",
    "# create PromoDuration Column:  Date - PromoStart\n",
    "\n",
    "df['PromoDuration'] = (df['Date'] - df['PromoStart'])/np.timedelta64(1,'D')\n",
    "df['PromoDuration'].fillna(0, inplace=True)"
   ]
  },
  {
   "cell_type": "code",
   "execution_count": 45,
   "metadata": {},
   "outputs": [],
   "source": [
    "# Sets RunningPromo to 1 if 1.) Months in Substring of PromoIntervall and current month match OR 2.) if Promo ==1 (today runs Promo)\n",
    "\n",
    "df['RunningAnyPromo'] = 0\n",
    "months_abbr = []\n",
    "for i in range(1,13):\n",
    "    months_abbr.append((i, datetime.date(2008, i, 1).strftime('%b')))\n",
    "\n",
    "for i in months_abbr:\n",
    "    mask = (df['PromoInterval'].str.contains(i[1], na=False)) & (df['Month']==i[0])| df['Promo']==1\n",
    "    df.loc[mask, 'RunningAnyPromo'] = 1"
   ]
  },
  {
   "cell_type": "code",
   "execution_count": 75,
   "metadata": {},
   "outputs": [],
   "source": [
    "# Sets RunningPromo to 1 if Months in Substring of PromoIntervall and current month match \n",
    "\n",
    "df['RunningPromo2'] = 0\n",
    "months_abbr = []\n",
    "for i in range(1,13):\n",
    "    months_abbr.append((i, datetime.date(2008, i, 1).strftime('%b')))\n",
    "\n",
    "for i in months_abbr:\n",
    "    mask = (df['PromoInterval'].str.contains(i[1], na=False)) & (df['Month']==i[0])\n",
    "    df.loc[mask, 'RunningPromo2'] = 1\n",
    "\n",
    "df = df.drop('PromoInterval', axis=1, errors='ignore')   "
   ]
  },
  {
   "cell_type": "code",
   "execution_count": null,
   "metadata": {},
   "outputs": [],
   "source": [
    "# Check if correct  ????? definition of Running Promo\n",
    "\n",
    "# df.loc[(df['Month'] == 12) & (df['RunningPromo'] != 0)][['RunningPromo','PromoInterval','Month','Date','Promo','Promo2','PromoStart','PromoDuration','PromoDuration2']]"
   ]
  },
  {
   "cell_type": "code",
   "execution_count": null,
   "metadata": {},
   "outputs": [],
   "source": [
    "df.isna().sum()"
   ]
  },
  {
   "cell_type": "code",
   "execution_count": 47,
   "metadata": {},
   "outputs": [
    {
     "data": {
      "text/plain": [
       "PromoInterval                        object\n",
       "Date                         datetime64[ns]\n",
       "DayOfWeek                           float64\n",
       "Sales                               float64\n",
       "Customers                           float64\n",
       "Open                                float64\n",
       "Promo                               float64\n",
       "SchoolHoliday                       float64\n",
       "Year                                  int64\n",
       "Quarter                               int64\n",
       "Month                                 int64\n",
       "Week                                  int64\n",
       "Day                                   int64\n",
       "Store                                 int64\n",
       "CompetitionDistance                 float64\n",
       "CompetitionOpenSinceMonth             int64\n",
       "CompetitionOpenSinceYear              int64\n",
       "Promo2                                int64\n",
       "Promo2SinceWeek                       int64\n",
       "Promo2SinceYear                       int64\n",
       "StateHoliday_0                        uint8\n",
       "StateHoliday_a                        uint8\n",
       "StateHoliday_b                        uint8\n",
       "StateHoliday_c                        uint8\n",
       "Assortment_a                          uint8\n",
       "Assortment_b                          uint8\n",
       "Assortment_c                          uint8\n",
       "StoreType_a                           uint8\n",
       "StoreType_b                           uint8\n",
       "StoreType_c                           uint8\n",
       "StoreType_d                           uint8\n",
       "PromoStart                   datetime64[ns]\n",
       "PromoDuration                       float64\n",
       "RunningAnyPromo                       int64\n",
       "RunningPromo2                         int64\n",
       "dtype: object"
      ]
     },
     "execution_count": 47,
     "metadata": {},
     "output_type": "execute_result"
    }
   ],
   "source": [
    "df.dtypes"
   ]
  },
  {
   "cell_type": "code",
   "execution_count": null,
   "metadata": {},
   "outputs": [],
   "source": []
  }
 ],
 "metadata": {
  "kernelspec": {
   "display_name": "Python 3",
   "language": "python",
   "name": "python3"
  },
  "language_info": {
   "codemirror_mode": {
    "name": "ipython",
    "version": 3
   },
   "file_extension": ".py",
   "mimetype": "text/x-python",
   "name": "python",
   "nbconvert_exporter": "python",
   "pygments_lexer": "ipython3",
   "version": "3.6.9"
  }
 },
 "nbformat": 4,
 "nbformat_minor": 4
}
