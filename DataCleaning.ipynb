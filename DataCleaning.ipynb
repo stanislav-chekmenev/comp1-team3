{
 "cells": [
  {
   "cell_type": "code",
   "execution_count": 15,
   "metadata": {},
   "outputs": [],
   "source": [
    "import numpy as np\n",
    "import pandas as pd\n",
    "import helpers\n",
    "import datetime\n",
    "from sklearn.model_selection import train_test_split\n",
    "from sklearn.ensemble import RandomForestRegressor\n",
    "from sklearn import preprocessing\n",
    "import matplotlib.pyplot as plt"
   ]
  },
  {
   "cell_type": "code",
   "execution_count": 2,
   "metadata": {},
   "outputs": [],
   "source": [
    "# load both CSV-Files\n",
    "\n",
    "store = pd.read_csv('data/store.csv')\n",
    "train = pd.read_csv('data/train.csv', dtype = {'StateHoliday': np.str})\n",
    "\n",
    "# merge CSV-Files based on the StoreID and convert dates to Datetime-format\n",
    "\n",
    "df = pd.merge(store, train, on='Store')\n",
    "df = helpers.date_convert(df)"
   ]
  },
  {
   "cell_type": "code",
   "execution_count": 3,
   "metadata": {},
   "outputs": [],
   "source": [
    "def xgboost_data_transformation(df):\n",
    "    # convert to Int\n",
    "    #df = helpers.float_to_int(df, {'Promo2SinceYear', 'Promo2SinceWeek', 'CompetitionOpenSinceMonth', 'CompetitionOpenSinceYear'})\n",
    "    \n",
    "    # Convert CompetitionYear and CompetitionMonth to datetime format\n",
    "    df_subset_Comp = df.loc[(~df['CompetitionOpenSinceYear'].isnull()) & (~df['CompetitionOpenSinceMonth'].isnull()), ['CompetitionOpenSinceYear','CompetitionOpenSinceMonth']]\n",
    "    df_subset_Comp = helpers.float_to_int(df_subset_Comp, {'CompetitionOpenSinceMonth', 'CompetitionOpenSinceYear'})\n",
    "    df_subset_Comp['CompetitionStart'] = df_subset_Comp['CompetitionOpenSinceYear'].astype(str) + '-' + df_subset_Comp['CompetitionOpenSinceMonth'].astype(str)  + '-01' \n",
    "    df['CompetitionStart'] = pd.to_datetime(df_subset_Comp['CompetitionStart'])\n",
    "    \n",
    "    # Convert Promoyear and Promoweekno to datetime format\n",
    "    df_subset = df.loc[(~df['Promo2SinceYear'].isnull()) & (~df['Promo2SinceWeek'].isnull()), ['Promo2SinceYear','Promo2SinceWeek']]\n",
    "    df_subset = helpers.float_to_int(df_subset, {'Promo2SinceYear', 'Promo2SinceWeek'})\n",
    "    df['PromoStart'] = df_subset.apply(lambda row: helpers.year_week(row.Promo2SinceYear, row.Promo2SinceWeek), axis=1)\n",
    "\n",
    "    # create PromoDuration Column:  Date - PromoStart\n",
    "    df['PromoDuration'] = (df['Date'] - df['PromoStart'])/np.timedelta64(1,'D')\n",
    "    df['PromoDuration'].fillna(0, inplace=True)\n",
    "    \n",
    "    # Calculate is Competition is active and how long the competition is active \n",
    "    df['CompetitionActive'] = np.where(df['CompetitionStart'] <= df['Date'], 1, 0)\n",
    "    df['CompetitionDays'] = (df['Date'] - df['CompetitionStart'])/np.timedelta64(1,'D')\n",
    "    \n",
    "    df['RunningAnyPromo'] = 0\n",
    "    months_abbr = []\n",
    "\n",
    "    for i in range(1,13):\n",
    "        months_abbr.append((i, datetime.date(2008, i, 1).strftime('%b')))\n",
    "\n",
    "    for i in months_abbr:\n",
    "        mask = (df['PromoInterval'].str.contains(i[1], na=False)) & (df['Month']==i[0]) & (df['Promo2']==1) | df['Promo']==1\n",
    "        df.loc[mask, 'RunningAnyPromo'] = 1\n",
    "        \n",
    "    # Sets RunningPromo to 1 if Months in Substring of PromoIntervall and current month match \n",
    "    df['RunningPromo2'] = 0\n",
    "    months_abbr = []\n",
    "    for i in range(1,13):\n",
    "        months_abbr.append((i, datetime.date(2008, i, 1).strftime('%b')))\n",
    "\n",
    "    for i in months_abbr:\n",
    "        mask = (df['PromoInterval'].str.contains(i[1], na=False)) & (df['Month']==i[0]) & (df['Promo2']==1)\n",
    "        df.loc[mask, 'RunningPromo2'] = 1\n",
    "    df = df.drop({'Date','CompetitionStart','PromoStart'}, axis=1, errors='ignore') \n",
    "    return df"
   ]
  },
  {
   "cell_type": "code",
   "execution_count": 4,
   "metadata": {},
   "outputs": [],
   "source": [
    "def tree_data_transformation(df):\n",
    "    # Replace NaN with Zeros\n",
    "    for i in {'Promo2SinceYear', 'Promo2SinceWeek', 'CompetitionOpenSinceMonth', 'CompetitionOpenSinceYear', 'Sales'}:\n",
    "        df[i].fillna(0, inplace=True)\n",
    "    \n",
    "    #Replace NaN in Customers with Mean(Customers), but if Store not open set Customers to 0\n",
    "    df['Customers'].fillna(df['Customers'].mean(), inplace=True)\n",
    "    df.loc[df['Open'] == 0, 'Customers'] = 0\n",
    "    \n",
    "    df = df.drop({'Date','CompetitionStart','PromoStart','PromoInterval','Promo','Promo2','CompetitionDays','DayOfWeek'}, axis=1, errors='ignore') \n",
    "    df = df.dropna(how='any', subset=['Open', 'StateHoliday', 'SchoolHoliday','CompetitionDistance'])\n",
    "    return df"
   ]
  },
  {
   "cell_type": "code",
   "execution_count": 5,
   "metadata": {},
   "outputs": [],
   "source": [
    "# One hot encoding\n",
    "def ohe(features):\n",
    "    features_obj = features.select_dtypes(include='object')\n",
    "    le = preprocessing.LabelEncoder()\n",
    "    X = features_obj.apply(le.fit_transform)\n",
    "    enc = preprocessing.OneHotEncoder(categories='auto')\n",
    "    enc.fit(X)\n",
    "    onehotlabels = enc.transform(X).toarray()\n",
    "    features = features.select_dtypes(exclude=['object'])\n",
    "    features_ohe = pd.concat([features.reset_index(), pd.DataFrame(onehotlabels)], axis=1, ignore_index=True)\n",
    "    return features_ohe"
   ]
  },
  {
   "cell_type": "code",
   "execution_count": 7,
   "metadata": {},
   "outputs": [],
   "source": [
    "xg_df = xgboost_data_transformation(df)\n",
    "tr_df = tree_data_transformation(xg_df)\n",
    "X = ohe(tr_df)\n",
    "y = tr_df['Sales'].values.ravel()"
   ]
  },
  {
   "cell_type": "code",
   "execution_count": 8,
   "metadata": {},
   "outputs": [],
   "source": [
    "X_train, X_test, y_train, y_test = train_test_split(X, y, test_size=0.2, random_state=0)"
   ]
  },
  {
   "cell_type": "code",
   "execution_count": 9,
   "metadata": {},
   "outputs": [],
   "source": []
  },
  {
   "cell_type": "code",
   "execution_count": null,
   "metadata": {},
   "outputs": [],
   "source": []
  }
 ],
 "metadata": {
  "kernelspec": {
   "display_name": "Python 3",
   "language": "python",
   "name": "python3"
  },
  "language_info": {
   "codemirror_mode": {
    "name": "ipython",
    "version": 3
   },
   "file_extension": ".py",
   "mimetype": "text/x-python",
   "name": "python",
   "nbconvert_exporter": "python",
   "pygments_lexer": "ipython3",
   "version": "3.6.9"
  }
 },
 "nbformat": 4,
 "nbformat_minor": 4
}
